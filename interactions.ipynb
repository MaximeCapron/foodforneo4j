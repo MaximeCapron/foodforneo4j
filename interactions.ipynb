{
 "cells": [
  {
   "cell_type": "markdown",
   "metadata": {},
   "source": [
    "Plan de la tâche - Stakeholders' map\n",
    "\n",
    "1. Création des types de données\n",
    "2. Création des tables csv\n",
    "3. Importation dans neo4j sous forme de noeuds-relations\n",
    "4. Design des requêtes\n",
    "5. Possibilité d'interroger la base via un notebook Jupyter\n"
   ]
  },
  {
   "cell_type": "markdown",
   "metadata": {},
   "source": [
    "Lien du github : https://github.com/MaximeCapron/foodforneo4j"
   ]
  },
  {
   "cell_type": "markdown",
   "metadata": {},
   "source": [
    "# 5. Possibilité d'interroger la base"
   ]
  },
  {
   "cell_type": "code",
   "execution_count": 120,
   "metadata": {
    "collapsed": true
   },
   "outputs": [
    {
     "name": "stdout",
     "output_type": "stream",
     "text": [
      "Requirement already satisfied: py2neo in /Users/maxime.capron/anaconda3/lib/python3.6/site-packages (4.1.3)\n",
      "\u001b[33mWARNING: You are using pip version 20.1.1; however, version 20.2.2 is available.\n",
      "You should consider upgrading via the '/Users/maxime.capron/anaconda3/bin/python -m pip install --upgrade pip' command.\u001b[0m\n"
     ]
    }
   ],
   "source": [
    "!pip install py2neo\n",
    "# If you see warnings or errors when you run this command, re-run the command. It should run with no errors."
   ]
  },
  {
   "cell_type": "code",
   "execution_count": 121,
   "metadata": {
    "collapsed": true
   },
   "outputs": [],
   "source": [
    "import numpy as np\n",
    "import pandas as pd\n",
    "from py2neo import Graph, Database\n",
    "from py2neo.data import Node, Relationship"
   ]
  },
  {
   "cell_type": "code",
   "execution_count": 122,
   "metadata": {
    "collapsed": true
   },
   "outputs": [],
   "source": [
    "graph = Graph(\"bolt://3.90.65.37:34875\", auth=(\"neo4j\", \"volumes-capes-retrievals\"))"
   ]
  },
  {
   "cell_type": "markdown",
   "metadata": {},
   "source": [
    "## Initialiser le graph"
   ]
  },
  {
   "cell_type": "code",
   "execution_count": null,
   "metadata": {
    "collapsed": true
   },
   "outputs": [],
   "source": [
    "def initialize():\n",
    "    \n",
    "    code_initialisation = \"\"\"\n",
    "\n",
    "    // Supprimer tout ce qui préexiste pour avoir une feuille propre\n",
    "\n",
    "    MATCH (n)\n",
    "    DETACH DELETE n ;\n",
    "\n",
    "\n",
    "    // Importer les noeuds \n",
    "\n",
    "    LOAD CSV WITH HEADERS FROM 'https://raw.githubusercontent.com/MaximeCapron/foodforneo4j/master/fichiers%20csv/Humains.csv' AS row FIELDTERMINATOR ';'\n",
    "    MERGE (p:Person {id: row.index})\n",
    "    ON CREATE SET p.nom = row.Nom, p.position_A = row.Position_A, p.position_B = row.Position_B, p.position_C = row.Position_C, p.position_D = row.Position_D, p.position_E = row.Position_E;\n",
    "\n",
    "\n",
    "    LOAD CSV WITH HEADERS FROM 'https://raw.githubusercontent.com/MaximeCapron/foodforneo4j/master/fichiers%20csv/Entreprises.csv' AS row FIELDTERMINATOR ';'\n",
    "    MERGE (c:Company {id: row.index})\n",
    "    ON CREATE SET c.titre = row.Titre;\n",
    "\n",
    "\n",
    "    // Importer les relations\n",
    "\n",
    "    LOAD CSV WITH HEADERS FROM 'https://raw.githubusercontent.com/MaximeCapron/foodforneo4j/master/fichiers%20csv/Relations1.csv' AS rel FIELDTERMINATOR ';'\n",
    "    MATCH (p1 {id: rel.index})\n",
    "    MATCH (p2 {id: rel.index_relation})\n",
    "    MERGE (p1)-[r:CONNAISSANCE]->(p2)\n",
    "    ON CREATE SET r.contexte = rel.contexte;\n",
    "\n",
    "\n",
    "    LOAD CSV WITH HEADERS FROM 'https://raw.githubusercontent.com/MaximeCapron/foodforneo4j/master/fichiers%20csv/Relations2.csv' AS rel FIELDTERMINATOR ';'\n",
    "    MATCH (p1 {id: rel.index})\n",
    "    MATCH (p2 {id: rel.index_relation})\n",
    "    MERGE (p1)-[r:SUPERIEUR]->(p2) ;\n",
    "\n",
    "\n",
    "    LOAD CSV WITH HEADERS FROM 'https://raw.githubusercontent.com/MaximeCapron/foodforneo4j/master/fichiers%20csv/Relations3.csv' AS rel FIELDTERMINATOR ';'\n",
    "    MATCH (c1 {id: rel.index})\n",
    "    MATCH (c2 {id: rel.index_relation})\n",
    "    MERGE (c1)-[r:FILIALE]->(c2) ;\n",
    "\n",
    "\n",
    "    LOAD CSV WITH HEADERS FROM 'https://raw.githubusercontent.com/MaximeCapron/foodforneo4j/master/fichiers%20csv/Relations4.csv' AS rel FIELDTERMINATOR ';'\n",
    "    MATCH (p {id: rel.index})\n",
    "    MATCH (c {id: rel.index_relation})\n",
    "    MERGE (p)-[r:EMPLOYE_DANS]->(c)\n",
    "    ON CREATE SET r.position = rel.position\n",
    "\n",
    "    \"\"\"\n",
    "    \n",
    "    graph.run(code_initialisation)"
   ]
  },
  {
   "cell_type": "markdown",
   "metadata": {},
   "source": [
    "## Ajouter ou supprimer un noeud"
   ]
  },
  {
   "cell_type": "markdown",
   "metadata": {},
   "source": [
    "2 solutions :\n",
    "- si vous voulez faire quelque chose de lourd, l'option préférable est probablement de modifier les bases de données, en ajoutant, modifiant ou supprimant des lignes, puis en faisant tourner la cellule ci-dessus.\n",
    "- si vous voulez simplement ajouter ou supprimer un noeud en vous basant sur ses caractéristiques, c'est faisable avec les fonctions ci-dessous."
   ]
  },
  {
   "cell_type": "markdown",
   "metadata": {},
   "source": [
    "Vous souhaitez ajouter un nouveau personnage. Il s'appelle Bob, on lui donne l'identifiant 5 (au hasard), et il est boulanger."
   ]
  },
  {
   "cell_type": "code",
   "execution_count": 135,
   "metadata": {
    "collapsed": true
   },
   "outputs": [],
   "source": [
    "Bob = Node(\"Person\",name=\"Bob\",emploi=\"Boulanger\",index=5)\n",
    "Jean = Node(\"Person\",name=\"Jean\",emploi=\"Pâtissier\",index=5)"
   ]
  },
  {
   "cell_type": "code",
   "execution_count": 146,
   "metadata": {
    "collapsed": true
   },
   "outputs": [],
   "source": [
    "graph.create(Bob)"
   ]
  },
  {
   "cell_type": "markdown",
   "metadata": {},
   "source": [
    "Supprimons Bob."
   ]
  },
  {
   "cell_type": "code",
   "execution_count": 150,
   "metadata": {},
   "outputs": [],
   "source": [
    "graph.delete(Bob)"
   ]
  },
  {
   "cell_type": "markdown",
   "metadata": {},
   "source": [
    "## Ajouter ou supprimer une relation"
   ]
  },
  {
   "cell_type": "markdown",
   "metadata": {},
   "source": [
    "Supposons que l'on a deux noeuds, Bob et Joe, et que l'on veut créer une relation entre eux deux. Précisions une caractéristique pour chacun d'entre deux et la nature de la relation, et allons-y !"
   ]
  },
  {
   "cell_type": "code",
   "execution_count": 152,
   "metadata": {
    "collapsed": true
   },
   "outputs": [],
   "source": [
    "Bob = Node(\"Person\",name=\"Bob\",emploi=\"Boulanger\",index=5)\n",
    "Joe = Node(\"Person\",name=\"Joe\",emploi=\"Pâtissier\",index=5)"
   ]
  },
  {
   "cell_type": "code",
   "execution_count": 153,
   "metadata": {
    "collapsed": true
   },
   "outputs": [],
   "source": [
    "graph.create(Relationship(Bob,\"AMI\",Joe))"
   ]
  },
  {
   "cell_type": "code",
   "execution_count": 154,
   "metadata": {},
   "outputs": [],
   "source": [
    "graph.delete(Relationship(Bob,\"AMI\",Joe))"
   ]
  },
  {
   "cell_type": "markdown",
   "metadata": {},
   "source": [
    "Passer par les outils de py2neo peut être pratique pour quelques tâches simples, mais la documentation est assez mal faite, et il y a peu de fonctionnalités disponibles... Il peut être préférable de construire ses propres fonctions, comme dans ce qui suit :"
   ]
  },
  {
   "cell_type": "markdown",
   "metadata": {},
   "source": [
    "### Moyens alternatifs : passer par le code Cypher"
   ]
  },
  {
   "cell_type": "markdown",
   "metadata": {},
   "source": [
    "#### Créer Bob"
   ]
  },
  {
   "cell_type": "code",
   "execution_count": 155,
   "metadata": {
    "collapsed": true
   },
   "outputs": [],
   "source": [
    "dic = {\"id\":5,\"nom\":\"Bob\",\"emploi\":\"Boulanger\"}a"
   ]
  },
  {
   "cell_type": "code",
   "execution_count": 156,
   "metadata": {
    "collapsed": true
   },
   "outputs": [],
   "source": [
    "def add_person(dic):\n",
    "    code = \"MERGE (p:Person {\"\n",
    "    for i in dic.keys():\n",
    "        if type(dic[i]) == str:\n",
    "            code += i + \":'\" + dic[i] + \"',\"\n",
    "        elif type(dic[i]) == int or type(dic[i]) == float:\n",
    "            code += i + \":\" + str(dic[i]) + \",\"\n",
    "        else:\n",
    "            raise \"type inconnu\"\n",
    "    code = code[:-1] + \"})\"\n",
    "    # return code\n",
    "    graph.run(code)"
   ]
  },
  {
   "cell_type": "code",
   "execution_count": 158,
   "metadata": {
    "collapsed": true
   },
   "outputs": [],
   "source": [
    "add_person(dic)"
   ]
  },
  {
   "cell_type": "markdown",
   "metadata": {},
   "source": [
    "#### Supprimer Bob"
   ]
  },
  {
   "cell_type": "code",
   "execution_count": 159,
   "metadata": {
    "collapsed": true
   },
   "outputs": [],
   "source": [
    "char = {\"nom\":\"Bob\"}"
   ]
  },
  {
   "cell_type": "code",
   "execution_count": 160,
   "metadata": {
    "collapsed": true
   },
   "outputs": [],
   "source": [
    "def suppr_person(char):\n",
    "    code = \"MATCH (p:Person {\"\n",
    "    for i in char.keys():\n",
    "        if type(char[i]) == str:\n",
    "            code += i + \":'\" + char[i] + \"',\"\n",
    "        elif type(char[i]) == int or type(char[i]) == float:\n",
    "            code += i + \":\" + str(char[i]) + \",\"\n",
    "        else:\n",
    "            raise \"type inconnu\"\n",
    "    code = code[:-1] + \"}) DETACH DELETE p\"\n",
    "    graph.run(code)"
   ]
  },
  {
   "cell_type": "code",
   "execution_count": 161,
   "metadata": {
    "collapsed": true
   },
   "outputs": [],
   "source": [
    "suppr_person(char)"
   ]
  },
  {
   "cell_type": "markdown",
   "metadata": {},
   "source": [
    "#### Créer une relation"
   ]
  },
  {
   "cell_type": "code",
   "execution_count": 162,
   "metadata": {
    "collapsed": true
   },
   "outputs": [],
   "source": [
    "n1 = {\"nom\":\"Bob\"}\n",
    "n2 = {\"nom\":\"Joe\"}\n",
    "rel = \"AMI\"\n",
    "dir_rel = 2"
   ]
  },
  {
   "cell_type": "markdown",
   "metadata": {},
   "source": [
    "NB. dir_rel représente la pointe de la flèche de la relation. dir_rel peut donc être égal à 0, 1 ou 2 (en fonction de si la relation n'a pas de sens particulier, ou bien pointe vers n1, ou bien pointe vers n2)."
   ]
  },
  {
   "cell_type": "code",
   "execution_count": 163,
   "metadata": {
    "collapsed": true
   },
   "outputs": [],
   "source": [
    "def add_relation(n1,n2,rel,dir_rel):\n",
    "    code = \"MATCH (p1:Person {\"\n",
    "    for i in n1.keys():\n",
    "        if type(n1[i]) == str:\n",
    "            code += i + \":'\" + n1[i] + \"',\"\n",
    "        elif type(n1[i]) == int or type(n1[i]) == float:\n",
    "            code += i + \":\" + str(n1[i]) + \",\"\n",
    "        else:\n",
    "            raise \"type inconnu\"\n",
    "    code = code[:-1] + \"}) MATCH (p2:Person {\"    \n",
    "    for i in n2.keys():\n",
    "        if type(n2[i]) == str:\n",
    "            code += i + \":'\" + n2[i] + \"',\"\n",
    "        elif type(n2[i]) == int or type(n2[i]) == float:\n",
    "            code += i + \":\" + str(n2[i]) + \",\"\n",
    "        else:\n",
    "            raise \"type inconnu\"\n",
    "    code = code[:-1] + \"}) \"\n",
    "    if dir_rel == 0 :\n",
    "        code += \"MERGE (p1)-[r : \"+rel+\"]-(p2)\"\n",
    "    elif dir_rel == 1 :\n",
    "        code += \"MERGE (p1)<-[r : \"+rel+\"]-(p2)\"\n",
    "    elif dir_rel == 2 :\n",
    "        code += \"MERGE (p1)-[r : \"+rel+\"]->(p2)\"\n",
    "    else :\n",
    "        raise \"Wrong dir_rel\"\n",
    "        \n",
    "    graph.run(code)"
   ]
  },
  {
   "cell_type": "code",
   "execution_count": 164,
   "metadata": {
    "collapsed": true
   },
   "outputs": [],
   "source": [
    "add_relation(n1,n2,rel,dir_rel)"
   ]
  },
  {
   "cell_type": "markdown",
   "metadata": {},
   "source": [
    "#### Supprimons cette relation"
   ]
  },
  {
   "cell_type": "code",
   "execution_count": 165,
   "metadata": {
    "collapsed": true
   },
   "outputs": [],
   "source": [
    "def suppr_relation(n1,n2,rel,dir_rel):\n",
    "    code = \"MATCH (p1:Person {\"\n",
    "    for i in n1.keys():\n",
    "        if type(n1[i]) == str:\n",
    "            code += i + \":'\" + n1[i] + \"',\"\n",
    "        elif type(n1[i]) == int or type(n1[i]) == float:\n",
    "            code += i + \":\" + str(n1[i]) + \",\"\n",
    "        else:\n",
    "            raise \"type inconnu\"\n",
    "    code = code[:-1] + \"}) MATCH (p2:Person {\"    \n",
    "    for i in n2.keys():\n",
    "        if type(n2[i]) == str:\n",
    "            code += i + \":'\" + n2[i] + \"',\"\n",
    "        elif type(n2[i]) == int or type(n2[i]) == float:\n",
    "            code += i + \":\" + str(n2[i]) + \",\"\n",
    "        else:\n",
    "            raise \"type inconnu\"\n",
    "    code = code[:-1] + \"}) \"\n",
    "    if dir_rel == 0 :\n",
    "        code += \"MATCH (p1)-[r : \"+rel+\"]-(p2) \"\n",
    "    elif dir_rel == 1 :\n",
    "        code += \"MATCH (p1)<-[r : \"+rel+\"]-(p2) \"\n",
    "    elif dir_rel == 2 :\n",
    "        code += \"MATCH (p1)-[r : \"+rel+\"]->(p2) \"\n",
    "    else :\n",
    "        raise \"Wrong dir_rel\"\n",
    "    code += \"DELETE r\"\n",
    "    \n",
    "    graph.run(code)\n"
   ]
  },
  {
   "cell_type": "code",
   "execution_count": 166,
   "metadata": {
    "collapsed": true
   },
   "outputs": [],
   "source": [
    "suppr_relation(n1,n2,rel,dir_rel)"
   ]
  },
  {
   "cell_type": "markdown",
   "metadata": {},
   "source": [
    "## Afficher des informations utiles"
   ]
  },
  {
   "cell_type": "markdown",
   "metadata": {},
   "source": [
    "### Qui reste-il à convaincre d'un projet ?"
   ]
  },
  {
   "cell_type": "code",
   "execution_count": 16,
   "metadata": {
    "collapsed": true
   },
   "outputs": [],
   "source": [
    "def à_convaincre(nom_du_projet):\n",
    "    query = \"\"\"\n",
    "    MATCH (p:Person)-[rel:EMPLOYE_DANS]-(c:Company)\n",
    "    WHERE p.position_\"\"\"+nom_du_projet+\"\"\" = \"A convaincre\"\n",
    "    RETURN p.nom AS nom, c.titre AS entreprise, rel.position AS position\n",
    "    \"\"\"\n",
    "\n",
    "    return graph.run(query).to_data_frame()"
   ]
  },
  {
   "cell_type": "code",
   "execution_count": 17,
   "metadata": {},
   "outputs": [
    {
     "data": {
      "text/html": [
       "<div>\n",
       "<style scoped>\n",
       "    .dataframe tbody tr th:only-of-type {\n",
       "        vertical-align: middle;\n",
       "    }\n",
       "\n",
       "    .dataframe tbody tr th {\n",
       "        vertical-align: top;\n",
       "    }\n",
       "\n",
       "    .dataframe thead th {\n",
       "        text-align: right;\n",
       "    }\n",
       "</style>\n",
       "<table border=\"1\" class=\"dataframe\">\n",
       "  <thead>\n",
       "    <tr style=\"text-align: right;\">\n",
       "      <th></th>\n",
       "      <th>nom</th>\n",
       "      <th>entreprise</th>\n",
       "      <th>position</th>\n",
       "    </tr>\n",
       "  </thead>\n",
       "  <tbody>\n",
       "    <tr>\n",
       "      <th>0</th>\n",
       "      <td>Anne Gautier</td>\n",
       "      <td>DCorp</td>\n",
       "      <td>Technique</td>\n",
       "    </tr>\n",
       "    <tr>\n",
       "      <th>1</th>\n",
       "      <td>Joseph Thomas</td>\n",
       "      <td>DCorp</td>\n",
       "      <td>Technique</td>\n",
       "    </tr>\n",
       "  </tbody>\n",
       "</table>\n",
       "</div>"
      ],
      "text/plain": [
       "             nom entreprise   position\n",
       "0   Anne Gautier      DCorp  Technique\n",
       "1  Joseph Thomas      DCorp  Technique"
      ]
     },
     "execution_count": 17,
     "metadata": {},
     "output_type": "execute_result"
    }
   ],
   "source": [
    "à_convaincre(\"D\")"
   ]
  },
  {
   "cell_type": "markdown",
   "metadata": {},
   "source": [
    "Certains détracteurs subsistent : à contacter !"
   ]
  },
  {
   "cell_type": "markdown",
   "metadata": {},
   "source": [
    "### Trouver la distance entre deux personnes\n",
    "\n",
    "#### En fonction de leurs positions et de leurs entreprises"
   ]
  },
  {
   "cell_type": "code",
   "execution_count": 36,
   "metadata": {
    "collapsed": true
   },
   "outputs": [],
   "source": [
    "def distance_pos(A,B):\n",
    "    query = \"\"\"\n",
    "    MATCH (a:Person)-[:EMPLOYE_DANS {position:'\"\"\"+A[0]+\"\"\"'}]-(:Company {titre:'\"\"\"+A[1]+\"\"\"'})\n",
    "    MATCH (b:Person)-[:EMPLOYE_DANS {position:'\"\"\"+B[0]+\"\"\"'}]-(:Company {titre:'\"\"\"+B[1]+\"\"\"'})\n",
    "    MATCH p = shortestPath((a)-[*]-(b))\n",
    "    RETURN a.nom,b.nom,length(p) AS distance\"\"\"\n",
    "    return graph.run(query).to_data_frame()"
   ]
  },
  {
   "cell_type": "code",
   "execution_count": 37,
   "metadata": {
    "collapsed": true
   },
   "outputs": [],
   "source": [
    "A = [\"CEO\",\"ECorp\"]\n",
    "B = [\"CFO\",\"OBS\"]"
   ]
  },
  {
   "cell_type": "code",
   "execution_count": 38,
   "metadata": {},
   "outputs": [
    {
     "data": {
      "text/html": [
       "<div>\n",
       "<style scoped>\n",
       "    .dataframe tbody tr th:only-of-type {\n",
       "        vertical-align: middle;\n",
       "    }\n",
       "\n",
       "    .dataframe tbody tr th {\n",
       "        vertical-align: top;\n",
       "    }\n",
       "\n",
       "    .dataframe thead th {\n",
       "        text-align: right;\n",
       "    }\n",
       "</style>\n",
       "<table border=\"1\" class=\"dataframe\">\n",
       "  <thead>\n",
       "    <tr style=\"text-align: right;\">\n",
       "      <th></th>\n",
       "      <th>a.nom</th>\n",
       "      <th>b.nom</th>\n",
       "      <th>distance</th>\n",
       "    </tr>\n",
       "  </thead>\n",
       "  <tbody>\n",
       "    <tr>\n",
       "      <th>0</th>\n",
       "      <td>Joséphine Michel</td>\n",
       "      <td>Lucien Martin</td>\n",
       "      <td>2</td>\n",
       "    </tr>\n",
       "  </tbody>\n",
       "</table>\n",
       "</div>"
      ],
      "text/plain": [
       "              a.nom          b.nom  distance\n",
       "0  Joséphine Michel  Lucien Martin         2"
      ]
     },
     "execution_count": 38,
     "metadata": {},
     "output_type": "execute_result"
    }
   ],
   "source": [
    "distance_pos(A,B)"
   ]
  },
  {
   "cell_type": "markdown",
   "metadata": {},
   "source": [
    "#### En fonction de leurs noms"
   ]
  },
  {
   "cell_type": "code",
   "execution_count": 39,
   "metadata": {
    "collapsed": true
   },
   "outputs": [],
   "source": [
    "def distance_noms(nomA,nomB):\n",
    "    query = \"MATCH p = shortestPath((a:Person {nom:'\"+nomA+\"'})-[*]-(b:Person {nom:'\"+nomB+\"'})) RETURN a.nom, b.nom, length(p) AS distance\"\n",
    "    return graph.run(query).to_data_frame()"
   ]
  },
  {
   "cell_type": "code",
   "execution_count": 40,
   "metadata": {
    "collapsed": true
   },
   "outputs": [],
   "source": [
    "nomA = \"Joseph Leclerc\"\n",
    "nomB = \"Auguste Petit\""
   ]
  },
  {
   "cell_type": "code",
   "execution_count": 41,
   "metadata": {},
   "outputs": [
    {
     "data": {
      "text/html": [
       "<div>\n",
       "<style scoped>\n",
       "    .dataframe tbody tr th:only-of-type {\n",
       "        vertical-align: middle;\n",
       "    }\n",
       "\n",
       "    .dataframe tbody tr th {\n",
       "        vertical-align: top;\n",
       "    }\n",
       "\n",
       "    .dataframe thead th {\n",
       "        text-align: right;\n",
       "    }\n",
       "</style>\n",
       "<table border=\"1\" class=\"dataframe\">\n",
       "  <thead>\n",
       "    <tr style=\"text-align: right;\">\n",
       "      <th></th>\n",
       "      <th>a.nom</th>\n",
       "      <th>b.nom</th>\n",
       "      <th>distance</th>\n",
       "    </tr>\n",
       "  </thead>\n",
       "  <tbody>\n",
       "    <tr>\n",
       "      <th>0</th>\n",
       "      <td>Joseph Leclerc</td>\n",
       "      <td>Auguste Petit</td>\n",
       "      <td>2</td>\n",
       "    </tr>\n",
       "  </tbody>\n",
       "</table>\n",
       "</div>"
      ],
      "text/plain": [
       "            a.nom          b.nom  distance\n",
       "0  Joseph Leclerc  Auguste Petit         2"
      ]
     },
     "execution_count": 41,
     "metadata": {},
     "output_type": "execute_result"
    }
   ],
   "source": [
    "distance_noms(nomA,nomB)"
   ]
  },
  {
   "cell_type": "markdown",
   "metadata": {},
   "source": [
    "### Quels partenaires n'ont aucune relation directe avec OBS (ne sont pas \"surveillés\") ?"
   ]
  },
  {
   "cell_type": "code",
   "execution_count": 42,
   "metadata": {
    "collapsed": true
   },
   "outputs": [],
   "source": [
    "def a_connaitre():\n",
    "    query = \"\"\"\n",
    "    MATCH (a:Company)-[:EMPLOYE_DANS]-(p:Person)\n",
    "    WHERE NOT a.titre = \"OBS\"\n",
    "    WITH p\n",
    "    MATCH (c:Company {titre:\"OBS\"})\n",
    "    MATCH short=shortestpath((c)-[*]-(p))\n",
    "    WITH p,length(short) AS len\n",
    "    WHERE len > 2\n",
    "    RETURN p.nom AS nom\n",
    "    \"\"\"\n",
    "    return graph.run(query).to_data_frame()"
   ]
  },
  {
   "cell_type": "code",
   "execution_count": 43,
   "metadata": {},
   "outputs": [
    {
     "data": {
      "text/html": [
       "<div>\n",
       "<style scoped>\n",
       "    .dataframe tbody tr th:only-of-type {\n",
       "        vertical-align: middle;\n",
       "    }\n",
       "\n",
       "    .dataframe tbody tr th {\n",
       "        vertical-align: top;\n",
       "    }\n",
       "\n",
       "    .dataframe thead th {\n",
       "        text-align: right;\n",
       "    }\n",
       "</style>\n",
       "<table border=\"1\" class=\"dataframe\">\n",
       "  <thead>\n",
       "    <tr style=\"text-align: right;\">\n",
       "      <th></th>\n",
       "      <th>nom</th>\n",
       "    </tr>\n",
       "  </thead>\n",
       "  <tbody>\n",
       "    <tr>\n",
       "      <th>0</th>\n",
       "      <td>Marthe Guerin</td>\n",
       "    </tr>\n",
       "    <tr>\n",
       "      <th>1</th>\n",
       "      <td>Maurice Duval</td>\n",
       "    </tr>\n",
       "    <tr>\n",
       "      <th>2</th>\n",
       "      <td>Pierre Leclerc</td>\n",
       "    </tr>\n",
       "    <tr>\n",
       "      <th>3</th>\n",
       "      <td>Henriette Bonnet</td>\n",
       "    </tr>\n",
       "    <tr>\n",
       "      <th>4</th>\n",
       "      <td>Renée Morin</td>\n",
       "    </tr>\n",
       "    <tr>\n",
       "      <th>5</th>\n",
       "      <td>Jules Joly</td>\n",
       "    </tr>\n",
       "    <tr>\n",
       "      <th>6</th>\n",
       "      <td>Anne Gautier</td>\n",
       "    </tr>\n",
       "    <tr>\n",
       "      <th>7</th>\n",
       "      <td>Alice Fournier</td>\n",
       "    </tr>\n",
       "    <tr>\n",
       "      <th>8</th>\n",
       "      <td>Maria Payet</td>\n",
       "    </tr>\n",
       "    <tr>\n",
       "      <th>9</th>\n",
       "      <td>Georgette Gerard</td>\n",
       "    </tr>\n",
       "    <tr>\n",
       "      <th>10</th>\n",
       "      <td>Berthe Morin</td>\n",
       "    </tr>\n",
       "    <tr>\n",
       "      <th>11</th>\n",
       "      <td>René Guillaume</td>\n",
       "    </tr>\n",
       "  </tbody>\n",
       "</table>\n",
       "</div>"
      ],
      "text/plain": [
       "                 nom\n",
       "0      Marthe Guerin\n",
       "1      Maurice Duval\n",
       "2     Pierre Leclerc\n",
       "3   Henriette Bonnet\n",
       "4        Renée Morin\n",
       "5         Jules Joly\n",
       "6       Anne Gautier\n",
       "7     Alice Fournier\n",
       "8        Maria Payet\n",
       "9   Georgette Gerard\n",
       "10      Berthe Morin\n",
       "11    René Guillaume"
      ]
     },
     "execution_count": 43,
     "metadata": {},
     "output_type": "execute_result"
    }
   ],
   "source": [
    "a_connaitre()"
   ]
  },
  {
   "cell_type": "markdown",
   "metadata": {},
   "source": [
    "Nous avons une liste de 12 personnes potentielles à contacter !"
   ]
  },
  {
   "cell_type": "markdown",
   "metadata": {},
   "source": [
    "## Afficher le graphique"
   ]
  },
  {
   "cell_type": "code",
   "execution_count": 62,
   "metadata": {
    "collapsed": true
   },
   "outputs": [],
   "source": [
    "from IPython.display import IFrame\n",
    "import json\n",
    "import uuid\n",
    "\n",
    "def vis_network(nodes, edges, physics=False):\n",
    "    html = \"\"\"\n",
    "    <html>\n",
    "    <head>\n",
    "      <script type=\"text/javascript\" src=\"../lib/vis/dist/vis.js\"></script>\n",
    "      <link href=\"../lib/vis/dist/vis.css\" rel=\"stylesheet\" type=\"text/css\">\n",
    "    </head>\n",
    "    <body>\n",
    "    <div id=\"{id}\"></div>\n",
    "    <script type=\"text/javascript\">\n",
    "      var nodes = {nodes};\n",
    "      var edges = {edges};\n",
    "      var container = document.getElementById(\"{id}\");\n",
    "      var data = {{\n",
    "        nodes: nodes,\n",
    "        edges: edges\n",
    "      }};\n",
    "      var options = {{\n",
    "          nodes: {{\n",
    "              shape: 'dot',\n",
    "              size: 25,\n",
    "              font: {{\n",
    "                  size: 14\n",
    "              }}\n",
    "          }},\n",
    "          edges: {{\n",
    "              font: {{\n",
    "                  size: 14,\n",
    "                  align: 'middle'\n",
    "              }},\n",
    "              color: 'gray',\n",
    "              arrows: {{\n",
    "                  to: {{enabled: true, scaleFactor: 0.5}}\n",
    "              }},\n",
    "              smooth: {{enabled: false}}\n",
    "          }},\n",
    "          physics: {{\n",
    "              enabled: {physics}\n",
    "          }}\n",
    "      }};\n",
    "      var network = new vis.Network(container, data, options);\n",
    "    </script>\n",
    "    </body>\n",
    "    </html>\n",
    "    \"\"\"\n",
    "\n",
    "    unique_id = str(uuid.uuid4())\n",
    "    html = html.format(id=unique_id, nodes=json.dumps(nodes), edges=json.dumps(edges), physics=json.dumps(physics))\n",
    "\n",
    "    filename = \"figure/graph-{}.html\".format(unique_id)\n",
    "\n",
    "    file = open(filename, \"w\")\n",
    "    file.write(html)\n",
    "    file.close()\n",
    "\n",
    "    return IFrame(filename, width=\"100%\", height=\"400\")\n",
    "\n",
    "def draw(graph, options, physics=False, limit=100):\n",
    "    # The options argument should be a dictionary of node labels and property keys; it determines which property\n",
    "    # is displayed for the node label. For example, in the movie graph, options = {\"Movie\": \"title\", \"Person\": \"name\"}.\n",
    "    # Omitting a node label from the options dict will leave the node unlabeled in the visualization.\n",
    "    # Setting physics = True makes the nodes bounce around when you touch them!\n",
    "    query = \"\"\"\n",
    "    MATCH (n)\n",
    "    WITH n, rand() AS random\n",
    "    ORDER BY random\n",
    "    LIMIT {limit}\n",
    "    OPTIONAL MATCH (n)-[r]->(m)\n",
    "    RETURN n AS source_node,\n",
    "           id(n) AS source_id,\n",
    "           r,\n",
    "           m AS target_node,\n",
    "           id(m) AS target_id\n",
    "    \"\"\"\n",
    "\n",
    "    data = graph.run(query, limit=limit)\n",
    "\n",
    "    nodes = []\n",
    "    edges = []\n",
    "\n",
    "    def get_vis_info(node, id):\n",
    "        node_label = list(node.labels())[0]\n",
    "        prop_key = options.get(node_label)\n",
    "        vis_label = node.properties.get(prop_key, \"\")\n",
    "\n",
    "        return {\"id\": id, \"label\": vis_label, \"group\": node_label, \"title\": repr(node.properties)}\n",
    "\n",
    "    for row in data:\n",
    "        source_node = row[0]\n",
    "        source_id = row[1]\n",
    "        rel = row[2]\n",
    "        target_node = row[3]\n",
    "        target_id = row[4]\n",
    "\n",
    "        source_info = get_vis_info(source_node, source_id)\n",
    "\n",
    "        if source_info not in nodes:\n",
    "            nodes.append(source_info)\n",
    "\n",
    "        if rel is not None:\n",
    "            target_info = get_vis_info(target_node, target_id)\n",
    "\n",
    "            if target_info not in nodes:\n",
    "                nodes.append(target_info)\n",
    "\n",
    "            edges.append({\"from\": source_info[\"id\"], \"to\": target_info[\"id\"], \"label\": rel.type()})\n",
    "\n",
    "    return vis_network(nodes, edges, physics=physics)"
   ]
  },
  {
   "cell_type": "code",
   "execution_count": 63,
   "metadata": {
    "collapsed": true
   },
   "outputs": [],
   "source": [
    "from py2neo import Node"
   ]
  },
  {
   "cell_type": "code",
   "execution_count": 85,
   "metadata": {
    "collapsed": true
   },
   "outputs": [],
   "source": [
    "nicole = Node(\"Person\",name=\"Nicole\",age=24)\n",
    "drew = Node(\"Person\",name=\"Drew\",age=20)\n",
    "mtdew = Node(\"Drink\",name=\"Mountain Dew\",calories=9000)\n",
    "cokezero = Node(\"Drink\",name=\"Mountain Dew\",calories=0)\n",
    "coke = Node(\"Manufacturer\",name=\"Coca Cola\")\n",
    "pepsi = Node(\"Manufacturer\",name=\"Pepsi\")"
   ]
  },
  {
   "cell_type": "code",
   "execution_count": 93,
   "metadata": {
    "collapsed": true
   },
   "outputs": [],
   "source": [
    "graph.create(nicole | drew | mtdew | cokezero | coke | pepsi)"
   ]
  },
  {
   "cell_type": "code",
   "execution_count": 96,
   "metadata": {},
   "outputs": [
    {
     "data": {
      "text/plain": [
       "<Graph database=<Database uri='bolt://3.90.65.37:34875' secure=False user_agent='py2neo/4.1.3 neo4j-python/1.6.3 Python/3.6.3-final-0 (darwin)'> name='data'>"
      ]
     },
     "execution_count": 96,
     "metadata": {},
     "output_type": "execute_result"
    }
   ],
   "source": [
    "graph"
   ]
  },
  {
   "cell_type": "markdown",
   "metadata": {},
   "source": [
    "!pip install ipython-cypher"
   ]
  },
  {
   "cell_type": "code",
   "execution_count": 103,
   "metadata": {
    "collapsed": true
   },
   "outputs": [],
   "source": [
    "import networkx as nx"
   ]
  },
  {
   "cell_type": "code",
   "execution_count": 104,
   "metadata": {
    "collapsed": true
   },
   "outputs": [],
   "source": [
    "%matplotlib inline"
   ]
  },
  {
   "cell_type": "code",
   "execution_count": 105,
   "metadata": {
    "collapsed": true
   },
   "outputs": [],
   "source": [
    "results = graph.run(\"MATCH (n) RETURN n LIMIT 1\")"
   ]
  },
  {
   "cell_type": "code",
   "execution_count": 111,
   "metadata": {
    "collapsed": true
   },
   "outputs": [],
   "source": [
    "import jgraph"
   ]
  },
  {
   "cell_type": "code",
   "execution_count": null,
   "metadata": {
    "collapsed": true
   },
   "outputs": [],
   "source": []
  },
  {
   "cell_type": "code",
   "execution_count": null,
   "metadata": {
    "collapsed": true
   },
   "outputs": [],
   "source": []
  },
  {
   "cell_type": "code",
   "execution_count": 113,
   "metadata": {},
   "outputs": [
    {
     "data": {
      "text/html": [
       "<div id=\"graph-0ee20c13-ccfe-43e8-b63d-05f4731c7a4f\"></div>\n",
       "           <script type=\"text/javascript\">\n",
       "           require.config({baseUrl: '/',\n",
       "                             paths: {jgraph: ['nbextensions/jgraph.min', 'https://rawgit.com/patrickfuller/jgraph/master/js/build/jgraph.min']}});\n",
       "           require(['jgraph'], function () {\n",
       "               var $d = $('#graph-0ee20c13-ccfe-43e8-b63d-05f4731c7a4f');\n",
       "               $d.width(600); $d.height(400);\n",
       "               $d.jgraph = jQuery.extend({}, jgraph);\n",
       "               $d.jgraph.create($d, {nodeSize: 2.000000,\n",
       "                                     edgeSize: 0.250000,\n",
       "                                     defaultNodeColor: '0x5bc0de',\n",
       "                                     defaultEdgeColor: '0xaaaaaa',\n",
       "                                     shader: 'basic',\n",
       "                                     z: 100,\n",
       "                                     runOptimization: true,\n",
       "                                     directed: true,\n",
       "                                     showSave: false});\n",
       "               $d.jgraph.draw({\n",
       "    \"edges\": [\n",
       "        { \"source\": 1, \"target\": 2 },\n",
       "        { \"source\": 2, \"target\": 3 },\n",
       "        { \"source\": 3, \"target\": 4 },\n",
       "        { \"source\": 5, \"target\": 1 },\n",
       "        { \"source\": 4, \"target\": 5 },\n",
       "        { \"source\": 5, \"target\": 2 }\n",
       "    ],\n",
       "    \"nodes\": {\n",
       "        \"1\": { \"location\": [ -1.959317902325745, -2.0, -2.0 ] },\n",
       "        \"2\": { \"location\": [ -1.2640689271767034, -0.9659915276511738, -0.4928129512221836 ] },\n",
       "        \"3\": { \"location\": [ -0.0820898971872744, -0.011478864505261907, -0.582167740640871 ] },\n",
       "        \"4\": { \"location\": [ 0.7584306810338679, 1.0640989219393724, 1.2286469188368678 ] },\n",
       "        \"5\": { \"location\": [ 2.0, 2.0, 2.0 ] }\n",
       "    }\n",
       "});\n",
       "\n",
       "               $d.resizable({\n",
       "                   aspectRatio: 600 / 400,\n",
       "                   resize: function (evt, ui) {\n",
       "                       $d.jgraph.renderer.setSize(ui.size.width,\n",
       "                                                  ui.size.height);\n",
       "                   }\n",
       "               });\n",
       "           });\n",
       "           </script>"
      ],
      "text/plain": [
       "<IPython.core.display.HTML object>"
      ]
     },
     "metadata": {},
     "output_type": "display_data"
    }
   ],
   "source": [
    "jgraph.draw([(1,2),(2,3),(3,4),(5,1),(4,5),(5,2)])"
   ]
  },
  {
   "cell_type": "code",
   "execution_count": 114,
   "metadata": {
    "collapsed": true
   },
   "outputs": [],
   "source": [
    "data = graph.run(\"MATCH (n)-->(m) RETURN ID(n),ID(m)\")"
   ]
  },
  {
   "cell_type": "code",
   "execution_count": 115,
   "metadata": {
    "collapsed": true
   },
   "outputs": [],
   "source": [
    "data = [tuple(x) for x in data]"
   ]
  },
  {
   "cell_type": "code",
   "execution_count": 116,
   "metadata": {
    "scrolled": true
   },
   "outputs": [
    {
     "data": {
      "text/html": [
       "<div id=\"graph-91d018d5-27de-49f3-ad27-033647ae3727\"></div>\n",
       "           <script type=\"text/javascript\">\n",
       "           require.config({baseUrl: '/',\n",
       "                             paths: {jgraph: ['nbextensions/jgraph.min', 'https://rawgit.com/patrickfuller/jgraph/master/js/build/jgraph.min']}});\n",
       "           require(['jgraph'], function () {\n",
       "               var $d = $('#graph-91d018d5-27de-49f3-ad27-033647ae3727');\n",
       "               $d.width(600); $d.height(400);\n",
       "               $d.jgraph = jQuery.extend({}, jgraph);\n",
       "               $d.jgraph.create($d, {nodeSize: 2.000000,\n",
       "                                     edgeSize: 0.250000,\n",
       "                                     defaultNodeColor: '0x5bc0de',\n",
       "                                     defaultEdgeColor: '0xaaaaaa',\n",
       "                                     shader: 'basic',\n",
       "                                     z: 100,\n",
       "                                     runOptimization: true,\n",
       "                                     directed: true,\n",
       "                                     showSave: false});\n",
       "               $d.jgraph.draw({\n",
       "    \"edges\": [\n",
       "        { \"source\": 5, \"target\": 1 },\n",
       "        { \"source\": 4, \"target\": 1 },\n",
       "        { \"source\": 2, \"target\": 1 },\n",
       "        { \"source\": 3, \"target\": 1 },\n",
       "        { \"source\": 7, \"target\": 2 },\n",
       "        { \"source\": 8, \"target\": 2 },\n",
       "        { \"source\": 6, \"target\": 2 },\n",
       "        { \"source\": 9, \"target\": 3 },\n",
       "        { \"source\": 10, \"target\": 4 },\n",
       "        { \"source\": 11, \"target\": 4 },\n",
       "        { \"source\": 13, \"target\": 4 },\n",
       "        { \"source\": 12, \"target\": 4 },\n",
       "        { \"source\": 16, \"target\": 5 },\n",
       "        { \"source\": 15, \"target\": 5 },\n",
       "        { \"source\": 14, \"target\": 5 },\n",
       "        { \"source\": 73, \"target\": 21 },\n",
       "        { \"source\": 23, \"target\": 21 },\n",
       "        { \"source\": 1, \"target\": 22 },\n",
       "        { \"source\": 24, \"target\": 22 },\n",
       "        { \"source\": 17, \"target\": 27 },\n",
       "        { \"source\": 18, \"target\": 28 },\n",
       "        { \"source\": 28, \"target\": 29 },\n",
       "        { \"source\": 27, \"target\": 29 },\n",
       "        { \"source\": 20, \"target\": 29 },\n",
       "        { \"source\": 19, \"target\": 29 },\n",
       "        { \"source\": 13, \"target\": 29 },\n",
       "        { \"source\": 25, \"target\": 30 },\n",
       "        { \"source\": 21, \"target\": 30 },\n",
       "        { \"source\": 29, \"target\": 30 },\n",
       "        { \"source\": 26, \"target\": 30 },\n",
       "        { \"source\": 22, \"target\": 30 },\n",
       "        { \"source\": 29, \"target\": 30 },\n",
       "        { \"source\": 33, \"target\": 31 },\n",
       "        { \"source\": 32, \"target\": 31 },\n",
       "        { \"source\": 34, \"target\": 31 },\n",
       "        { \"source\": 73, \"target\": 31 },\n",
       "        { \"source\": 73, \"target\": 32 },\n",
       "        { \"source\": 74, \"target\": 33 },\n",
       "        { \"source\": 35, \"target\": 34 },\n",
       "        { \"source\": 38, \"target\": 36 },\n",
       "        { \"source\": 37, \"target\": 36 },\n",
       "        { \"source\": 13, \"target\": 36 },\n",
       "        { \"source\": 11, \"target\": 36 },\n",
       "        { \"source\": 2, \"target\": 36 },\n",
       "        { \"source\": 1, \"target\": 36 },\n",
       "        { \"source\": 15, \"target\": 38 },\n",
       "        { \"source\": 29, \"target\": 39 },\n",
       "        { \"source\": 31, \"target\": 40 },\n",
       "        { \"source\": 36, \"target\": 40 },\n",
       "        { \"source\": 39, \"target\": 40 },\n",
       "        { \"source\": 44, \"target\": 41 },\n",
       "        { \"source\": 45, \"target\": 41 },\n",
       "        { \"source\": 42, \"target\": 41 },\n",
       "        { \"source\": 43, \"target\": 41 },\n",
       "        { \"source\": 88, \"target\": 41 },\n",
       "        { \"source\": 91, \"target\": 42 },\n",
       "        { \"source\": 80, \"target\": 43 },\n",
       "        { \"source\": 77, \"target\": 43 },\n",
       "        { \"source\": 0, \"target\": 43 },\n",
       "        { \"source\": 85, \"target\": 44 },\n",
       "        { \"source\": 47, \"target\": 46 },\n",
       "        { \"source\": 48, \"target\": 46 },\n",
       "        { \"source\": 2, \"target\": 46 },\n",
       "        { \"source\": 3, \"target\": 47 },\n",
       "        { \"source\": 8, \"target\": 48 },\n",
       "        { \"source\": 85, \"target\": 49 },\n",
       "        { \"source\": 30, \"target\": 49 },\n",
       "        { \"source\": 49, \"target\": 50 },\n",
       "        { \"source\": 41, \"target\": 50 },\n",
       "        { \"source\": 46, \"target\": 50 },\n",
       "        { \"source\": 73, \"target\": 50 },\n",
       "        { \"source\": 53, \"target\": 51 },\n",
       "        { \"source\": 55, \"target\": 51 },\n",
       "        { \"source\": 54, \"target\": 51 },\n",
       "        { \"source\": 52, \"target\": 51 },\n",
       "        { \"source\": 76, \"target\": 51 },\n",
       "        { \"source\": 75, \"target\": 51 },\n",
       "        { \"source\": 83, \"target\": 52 },\n",
       "        { \"source\": 78, \"target\": 53 },\n",
       "        { \"source\": 81, \"target\": 53 },\n",
       "        { \"source\": 86, \"target\": 54 },\n",
       "        { \"source\": 91, \"target\": 55 },\n",
       "        { \"source\": 57, \"target\": 56 },\n",
       "        { \"source\": 58, \"target\": 56 },\n",
       "        { \"source\": 2, \"target\": 56 },\n",
       "        { \"source\": 1, \"target\": 56 },\n",
       "        { \"source\": 4, \"target\": 58 },\n",
       "        { \"source\": 73, \"target\": 59 },\n",
       "        { \"source\": 29, \"target\": 59 },\n",
       "        { \"source\": 51, \"target\": 60 },\n",
       "        { \"source\": 59, \"target\": 60 },\n",
       "        { \"source\": 56, \"target\": 60 },\n",
       "        { \"source\": 30, \"target\": 60 },\n",
       "        { \"source\": 25, \"target\": 60 },\n",
       "        { \"source\": 24, \"target\": 60 },\n",
       "        { \"source\": 62, \"target\": 61 },\n",
       "        { \"source\": 63, \"target\": 61 },\n",
       "        { \"source\": 75, \"target\": 61 },\n",
       "        { \"source\": 87, \"target\": 61 },\n",
       "        { \"source\": 64, \"target\": 62 },\n",
       "        { \"source\": 73, \"target\": 62 },\n",
       "        { \"source\": 65, \"target\": 63 },\n",
       "        { \"source\": 74, \"target\": 63 },\n",
       "        { \"source\": 76, \"target\": 64 },\n",
       "        { \"source\": 90, \"target\": 65 },\n",
       "        { \"source\": 67, \"target\": 66 },\n",
       "        { \"source\": 5, \"target\": 66 },\n",
       "        { \"source\": 68, \"target\": 67 },\n",
       "        { \"source\": 29, \"target\": 69 },\n",
       "        { \"source\": 60, \"target\": 70 },\n",
       "        { \"source\": 69, \"target\": 70 },\n",
       "        { \"source\": 61, \"target\": 70 },\n",
       "        { \"source\": 66, \"target\": 70 },\n",
       "        { \"source\": 30, \"target\": 70 },\n",
       "        { \"source\": 26, \"target\": 70 },\n",
       "        { \"source\": 83, \"target\": 71 },\n",
       "        { \"source\": 74, \"target\": 73 },\n",
       "        { \"source\": 77, \"target\": 73 },\n",
       "        { \"source\": 76, \"target\": 73 },\n",
       "        { \"source\": 75, \"target\": 73 },\n",
       "        { \"source\": 78, \"target\": 74 },\n",
       "        { \"source\": 79, \"target\": 74 },\n",
       "        { \"source\": 80, \"target\": 74 },\n",
       "        { \"source\": 81, \"target\": 75 },\n",
       "        { \"source\": 84, \"target\": 75 },\n",
       "        { \"source\": 83, \"target\": 75 },\n",
       "        { \"source\": 82, \"target\": 75 },\n",
       "        { \"source\": 87, \"target\": 76 },\n",
       "        { \"source\": 86, \"target\": 76 },\n",
       "        { \"source\": 85, \"target\": 76 },\n",
       "        { \"source\": 88, \"target\": 77 },\n",
       "        { \"source\": 0, \"target\": 77 },\n",
       "        { \"source\": 89, \"target\": 77 },\n",
       "        { \"source\": 91, \"target\": 77 },\n",
       "        { \"source\": 90, \"target\": 77 },\n",
       "        { \"source\": 73, \"target\": 92 },\n",
       "        { \"source\": 84, \"target\": 92 },\n",
       "        { \"source\": 6, \"target\": 95 },\n",
       "        { \"source\": 9, \"target\": 96 },\n",
       "        { \"source\": 11, \"target\": 96 },\n",
       "        { \"source\": 12, \"target\": 97 },\n",
       "        { \"source\": 97, \"target\": 99 },\n",
       "        { \"source\": 96, \"target\": 99 },\n",
       "        { \"source\": 71, \"target\": 99 },\n",
       "        { \"source\": 98, \"target\": 99 },\n",
       "        { \"source\": 94, \"target\": 99 },\n",
       "        { \"source\": 72, \"target\": 99 },\n",
       "        { \"source\": 95, \"target\": 99 },\n",
       "        { \"source\": 92, \"target\": 99 },\n",
       "        { \"source\": 93, \"target\": 99 },\n",
       "        { \"source\": 28, \"target\": 99 },\n",
       "        { \"source\": 89, \"target\": 134 },\n",
       "        { \"source\": 23, \"target\": 134 },\n",
       "        { \"source\": 87, \"target\": 134 },\n",
       "        { \"source\": 2, \"target\": 134 },\n",
       "        { \"source\": 83, \"target\": 134 },\n",
       "        { \"source\": 17, \"target\": 134 },\n",
       "        { \"source\": 84, \"target\": 134 },\n",
       "        { \"source\": 27, \"target\": 134 },\n",
       "        { \"source\": 85, \"target\": 134 },\n",
       "        { \"source\": 0, \"target\": 134 },\n",
       "        { \"source\": 91, \"target\": 134 },\n",
       "        { \"source\": 25, \"target\": 134 },\n",
       "        { \"source\": 88, \"target\": 134 },\n",
       "        { \"source\": 78, \"target\": 134 },\n",
       "        { \"source\": 80, \"target\": 134 },\n",
       "        { \"source\": 1, \"target\": 134 },\n",
       "        { \"source\": 15, \"target\": 134 },\n",
       "        { \"source\": 28, \"target\": 134 },\n",
       "        { \"source\": 81, \"target\": 134 },\n",
       "        { \"source\": 74, \"target\": 134 },\n",
       "        { \"source\": 19, \"target\": 134 },\n",
       "        { \"source\": 86, \"target\": 134 },\n",
       "        { \"source\": 77, \"target\": 134 },\n",
       "        { \"source\": 4, \"target\": 134 },\n",
       "        { \"source\": 20, \"target\": 134 },\n",
       "        { \"source\": 7, \"target\": 134 },\n",
       "        { \"source\": 22, \"target\": 134 },\n",
       "        { \"source\": 24, \"target\": 134 },\n",
       "        { \"source\": 73, \"target\": 134 },\n",
       "        { \"source\": 6, \"target\": 134 },\n",
       "        { \"source\": 8, \"target\": 134 },\n",
       "        { \"source\": 13, \"target\": 134 },\n",
       "        { \"source\": 3, \"target\": 134 },\n",
       "        { \"source\": 5, \"target\": 134 },\n",
       "        { \"source\": 21, \"target\": 134 },\n",
       "        { \"source\": 26, \"target\": 134 },\n",
       "        { \"source\": 79, \"target\": 134 },\n",
       "        { \"source\": 14, \"target\": 134 },\n",
       "        { \"source\": 75, \"target\": 134 },\n",
       "        { \"source\": 18, \"target\": 134 },\n",
       "        { \"source\": 10, \"target\": 134 },\n",
       "        { \"source\": 30, \"target\": 134 },\n",
       "        { \"source\": 9, \"target\": 134 },\n",
       "        { \"source\": 12, \"target\": 134 },\n",
       "        { \"source\": 90, \"target\": 134 },\n",
       "        { \"source\": 11, \"target\": 134 },\n",
       "        { \"source\": 76, \"target\": 134 },\n",
       "        { \"source\": 29, \"target\": 134 },\n",
       "        { \"source\": 16, \"target\": 134 },\n",
       "        { \"source\": 82, \"target\": 134 },\n",
       "        { \"source\": 37, \"target\": 135 },\n",
       "        { \"source\": 34, \"target\": 135 },\n",
       "        { \"source\": 35, \"target\": 135 },\n",
       "        { \"source\": 36, \"target\": 135 },\n",
       "        { \"source\": 39, \"target\": 135 },\n",
       "        { \"source\": 31, \"target\": 135 },\n",
       "        { \"source\": 33, \"target\": 135 },\n",
       "        { \"source\": 40, \"target\": 135 },\n",
       "        { \"source\": 32, \"target\": 135 },\n",
       "        { \"source\": 38, \"target\": 135 },\n",
       "        { \"source\": 50, \"target\": 136 },\n",
       "        { \"source\": 48, \"target\": 136 },\n",
       "        { \"source\": 47, \"target\": 136 },\n",
       "        { \"source\": 49, \"target\": 136 },\n",
       "        { \"source\": 43, \"target\": 136 },\n",
       "        { \"source\": 42, \"target\": 136 },\n",
       "        { \"source\": 41, \"target\": 136 },\n",
       "        { \"source\": 46, \"target\": 136 },\n",
       "        { \"source\": 45, \"target\": 136 },\n",
       "        { \"source\": 44, \"target\": 136 },\n",
       "        { \"source\": 54, \"target\": 137 },\n",
       "        { \"source\": 52, \"target\": 137 },\n",
       "        { \"source\": 58, \"target\": 137 },\n",
       "        { \"source\": 57, \"target\": 137 },\n",
       "        { \"source\": 56, \"target\": 137 },\n",
       "        { \"source\": 53, \"target\": 137 },\n",
       "        { \"source\": 55, \"target\": 137 },\n",
       "        { \"source\": 60, \"target\": 137 },\n",
       "        { \"source\": 51, \"target\": 137 },\n",
       "        { \"source\": 59, \"target\": 137 },\n",
       "        { \"source\": 62, \"target\": 138 },\n",
       "        { \"source\": 67, \"target\": 138 },\n",
       "        { \"source\": 64, \"target\": 138 },\n",
       "        { \"source\": 66, \"target\": 138 },\n",
       "        { \"source\": 70, \"target\": 138 },\n",
       "        { \"source\": 63, \"target\": 138 },\n",
       "        { \"source\": 69, \"target\": 138 },\n",
       "        { \"source\": 65, \"target\": 138 },\n",
       "        { \"source\": 61, \"target\": 138 },\n",
       "        { \"source\": 68, \"target\": 138 },\n",
       "        { \"source\": 137, \"target\": 138 },\n",
       "        { \"source\": 94, \"target\": 139 },\n",
       "        { \"source\": 99, \"target\": 139 },\n",
       "        { \"source\": 98, \"target\": 139 },\n",
       "        { \"source\": 97, \"target\": 139 },\n",
       "        { \"source\": 92, \"target\": 139 },\n",
       "        { \"source\": 71, \"target\": 139 },\n",
       "        { \"source\": 93, \"target\": 139 },\n",
       "        { \"source\": 96, \"target\": 139 },\n",
       "        { \"source\": 95, \"target\": 139 },\n",
       "        { \"source\": 72, \"target\": 139 }\n",
       "    ],\n",
       "    \"nodes\": {\n",
       "        \"0\": { \"location\": [ -2.0, -2.0, -2.0 ] },\n",
       "        \"1\": { \"location\": [ -2.0, -2.0, -2.0 ] },\n",
       "        \"2\": { \"location\": [ -2.0, -2.0, -2.0 ] },\n",
       "        \"3\": { \"location\": [ -2.0, -2.0, -2.0 ] },\n",
       "        \"4\": { \"location\": [ -2.0, -2.0, -2.0 ] },\n",
       "        \"5\": { \"location\": [ -2.0, -2.0, -2.0 ] },\n",
       "        \"6\": { \"location\": [ -2.0, -2.0, -2.0 ] },\n",
       "        \"7\": { \"location\": [ -2.0, -2.0, -2.0 ] },\n",
       "        \"8\": { \"location\": [ -2.0, -2.0, -2.0 ] },\n",
       "        \"9\": { \"location\": [ -2.0, -2.0, -2.0 ] },\n",
       "        \"10\": { \"location\": [ -2.0, -2.0, -2.0 ] },\n",
       "        \"11\": { \"location\": [ -2.0, -2.0, -2.0 ] },\n",
       "        \"12\": { \"location\": [ -2.0, -2.0, -2.0 ] },\n",
       "        \"13\": { \"location\": [ -2.0, -2.0, -2.0 ] },\n",
       "        \"14\": { \"location\": [ -2.0, -2.0, -2.0 ] },\n",
       "        \"15\": { \"location\": [ -2.0, -2.0, -2.0 ] },\n",
       "        \"16\": { \"location\": [ -2.0, -2.0, -2.0 ] },\n",
       "        \"17\": { \"location\": [ -2.0, -2.0, -2.0 ] },\n",
       "        \"18\": { \"location\": [ -2.0, -2.0, -2.0 ] },\n",
       "        \"19\": { \"location\": [ -2.0, -2.0, -2.0 ] },\n",
       "        \"20\": { \"location\": [ -2.0, -2.0, -2.0 ] },\n",
       "        \"21\": { \"location\": [ -2.0, -2.0, -2.0 ] },\n",
       "        \"22\": { \"location\": [ -2.0, -2.0, -2.0 ] },\n",
       "        \"23\": { \"location\": [ -2.0, -2.0, -2.0 ] },\n",
       "        \"24\": { \"location\": [ -2.0, -2.0, -2.0 ] },\n",
       "        \"25\": { \"location\": [ -2.0, -2.0, -2.0 ] },\n",
       "        \"26\": { \"location\": [ -2.0, -2.0, -2.0 ] },\n",
       "        \"27\": { \"location\": [ -2.0, -2.0, -2.0 ] },\n",
       "        \"28\": { \"location\": [ -2.0, -2.0, -2.0 ] },\n",
       "        \"29\": { \"location\": [ -2.0, -2.0, -2.0 ] },\n",
       "        \"30\": { \"location\": [ -2.0, -2.0, -2.0 ] },\n",
       "        \"31\": { \"location\": [ -2.0, -2.0, -2.0 ] },\n",
       "        \"32\": { \"location\": [ -2.0, -2.0, -2.0 ] },\n",
       "        \"33\": { \"location\": [ -2.0, -2.0, -2.0 ] },\n",
       "        \"34\": { \"location\": [ -2.0, -2.0, -2.0 ] },\n",
       "        \"35\": { \"location\": [ -2.0, -2.0, -2.0 ] },\n",
       "        \"36\": { \"location\": [ -2.0, -2.0, -2.0 ] },\n",
       "        \"37\": { \"location\": [ -2.0, -2.0, -2.0 ] },\n",
       "        \"38\": { \"location\": [ -2.0, -2.0, -2.0 ] },\n",
       "        \"39\": { \"location\": [ -2.0, -2.0, -2.0 ] },\n",
       "        \"40\": { \"location\": [ -2.0, -2.0, -2.0 ] },\n",
       "        \"41\": { \"location\": [ -2.0, -2.0, -2.0 ] },\n",
       "        \"42\": { \"location\": [ -2.0, -2.0, -2.0 ] },\n",
       "        \"43\": { \"location\": [ -2.0, -2.0, -2.0 ] },\n",
       "        \"44\": { \"location\": [ -2.0, -2.0, -2.0 ] },\n",
       "        \"45\": { \"location\": [ -2.0, -2.0, -2.0 ] },\n",
       "        \"46\": { \"location\": [ -2.0, -2.0, -2.0 ] },\n",
       "        \"47\": { \"location\": [ -2.0, -2.0, -2.0 ] },\n",
       "        \"48\": { \"location\": [ -2.0, -2.0, -2.0 ] },\n",
       "        \"49\": { \"location\": [ -2.0, -2.0, -2.0 ] },\n",
       "        \"50\": { \"location\": [ -1.4032012858079985, -1.8554334775109456, -2.0 ] },\n",
       "        \"51\": { \"location\": [ -2.0, -2.0, -0.17178722641064448 ] },\n",
       "        \"52\": { \"location\": [ -1.759469235214172, -1.5146311718264602, -0.059123092330747744 ] },\n",
       "        \"53\": { \"location\": [ -0.5116068277835052, 0.050672554205162465, 1.2818744004372977 ] },\n",
       "        \"54\": { \"location\": [ 2.0, 1.6870616123693654, 2.0 ] },\n",
       "        \"55\": { \"location\": [ 1.826954187356835, 2.0, 2.0 ] },\n",
       "        \"56\": { \"location\": [ 2.0, 2.0, 2.0 ] },\n",
       "        \"57\": { \"location\": [ 2.0, 2.0, 2.0 ] },\n",
       "        \"58\": { \"location\": [ 2.0, 2.0, 2.0 ] },\n",
       "        \"59\": { \"location\": [ 2.0, 2.0, 2.0 ] },\n",
       "        \"60\": { \"location\": [ 2.0, 2.0, 2.0 ] },\n",
       "        \"61\": { \"location\": [ 2.0, 2.0, 2.0 ] },\n",
       "        \"62\": { \"location\": [ 2.0, 2.0, 2.0 ] },\n",
       "        \"63\": { \"location\": [ 2.0, 2.0, 2.0 ] },\n",
       "        \"64\": { \"location\": [ 2.0, 2.0, 2.0 ] },\n",
       "        \"65\": { \"location\": [ 2.0, 2.0, 2.0 ] },\n",
       "        \"66\": { \"location\": [ 2.0, 2.0, 2.0 ] },\n",
       "        \"67\": { \"location\": [ 2.0, 2.0, 2.0 ] },\n",
       "        \"68\": { \"location\": [ 2.0, 2.0, 2.0 ] },\n",
       "        \"69\": { \"location\": [ 2.0, 2.0, 2.0 ] },\n",
       "        \"70\": { \"location\": [ 2.0, 2.0, 2.0 ] },\n",
       "        \"71\": { \"location\": [ 2.0, 2.0, 2.0 ] },\n",
       "        \"72\": { \"location\": [ 2.0, 2.0, 2.0 ] },\n",
       "        \"73\": { \"location\": [ 2.0, 2.0, 2.0 ] },\n",
       "        \"74\": { \"location\": [ 2.0, 2.0, 2.0 ] },\n",
       "        \"75\": { \"location\": [ 2.0, 2.0, 2.0 ] },\n",
       "        \"76\": { \"location\": [ 2.0, 2.0, 2.0 ] },\n",
       "        \"77\": { \"location\": [ 2.0, 2.0, 2.0 ] },\n",
       "        \"78\": { \"location\": [ 2.0, 2.0, 2.0 ] },\n",
       "        \"79\": { \"location\": [ 2.0, 2.0, 2.0 ] },\n",
       "        \"80\": { \"location\": [ 2.0, 2.0, 2.0 ] },\n",
       "        \"81\": { \"location\": [ 2.0, 2.0, 2.0 ] },\n",
       "        \"82\": { \"location\": [ 2.0, 2.0, 2.0 ] },\n",
       "        \"83\": { \"location\": [ 2.0, 2.0, 2.0 ] },\n",
       "        \"84\": { \"location\": [ 2.0, 2.0, 2.0 ] },\n",
       "        \"85\": { \"location\": [ 2.0, 2.0, 2.0 ] },\n",
       "        \"86\": { \"location\": [ 2.0, 2.0, 2.0 ] },\n",
       "        \"87\": { \"location\": [ 2.0, 2.0, 2.0 ] },\n",
       "        \"88\": { \"location\": [ 2.0, 2.0, 2.0 ] },\n",
       "        \"89\": { \"location\": [ 2.0, 2.0, 2.0 ] },\n",
       "        \"90\": { \"location\": [ 2.0, 2.0, 2.0 ] },\n",
       "        \"91\": { \"location\": [ 2.0, 2.0, 2.0 ] },\n",
       "        \"92\": { \"location\": [ 2.0, 2.0, 2.0 ] },\n",
       "        \"93\": { \"location\": [ 2.0, 2.0, 2.0 ] },\n",
       "        \"94\": { \"location\": [ 2.0, 2.0, 2.0 ] },\n",
       "        \"95\": { \"location\": [ 2.0, 2.0, 2.0 ] },\n",
       "        \"96\": { \"location\": [ 2.0, 2.0, 2.0 ] },\n",
       "        \"97\": { \"location\": [ 2.0, 2.0, 2.0 ] },\n",
       "        \"98\": { \"location\": [ 2.0, 2.0, 2.0 ] },\n",
       "        \"99\": { \"location\": [ 2.0, 2.0, 2.0 ] },\n",
       "        \"134\": { \"location\": [ 2.0, 2.0, 2.0 ] },\n",
       "        \"135\": { \"location\": [ 2.0, 2.0, 2.0 ] },\n",
       "        \"136\": { \"location\": [ 2.0, 2.0, 2.0 ] },\n",
       "        \"137\": { \"location\": [ 2.0, 2.0, 2.0 ] },\n",
       "        \"138\": { \"location\": [ 2.0, 2.0, 2.0 ] },\n",
       "        \"139\": { \"location\": [ 2.0, 2.0, 2.0 ] }\n",
       "    }\n",
       "});\n",
       "\n",
       "               $d.resizable({\n",
       "                   aspectRatio: 600 / 400,\n",
       "                   resize: function (evt, ui) {\n",
       "                       $d.jgraph.renderer.setSize(ui.size.width,\n",
       "                                                  ui.size.height);\n",
       "                   }\n",
       "               });\n",
       "           });\n",
       "           </script>"
      ],
      "text/plain": [
       "<IPython.core.display.HTML object>"
      ]
     },
     "metadata": {},
     "output_type": "display_data"
    }
   ],
   "source": [
    "jgraph.draw(data)"
   ]
  },
  {
   "cell_type": "code",
   "execution_count": null,
   "metadata": {
    "collapsed": true
   },
   "outputs": [],
   "source": []
  },
  {
   "cell_type": "code",
   "execution_count": null,
   "metadata": {
    "collapsed": true
   },
   "outputs": [],
   "source": []
  },
  {
   "cell_type": "code",
   "execution_count": null,
   "metadata": {
    "collapsed": true
   },
   "outputs": [],
   "source": []
  },
  {
   "cell_type": "code",
   "execution_count": null,
   "metadata": {
    "collapsed": true
   },
   "outputs": [],
   "source": []
  },
  {
   "cell_type": "code",
   "execution_count": null,
   "metadata": {
    "collapsed": true
   },
   "outputs": [],
   "source": []
  },
  {
   "cell_type": "code",
   "execution_count": null,
   "metadata": {
    "collapsed": true
   },
   "outputs": [],
   "source": []
  },
  {
   "cell_type": "code",
   "execution_count": null,
   "metadata": {
    "collapsed": true
   },
   "outputs": [],
   "source": []
  },
  {
   "cell_type": "code",
   "execution_count": null,
   "metadata": {
    "collapsed": true
   },
   "outputs": [],
   "source": []
  },
  {
   "cell_type": "code",
   "execution_count": null,
   "metadata": {
    "collapsed": true
   },
   "outputs": [],
   "source": []
  },
  {
   "cell_type": "code",
   "execution_count": null,
   "metadata": {
    "collapsed": true
   },
   "outputs": [],
   "source": []
  },
  {
   "cell_type": "code",
   "execution_count": null,
   "metadata": {
    "collapsed": true
   },
   "outputs": [],
   "source": []
  },
  {
   "cell_type": "code",
   "execution_count": null,
   "metadata": {
    "collapsed": true
   },
   "outputs": [],
   "source": []
  },
  {
   "cell_type": "code",
   "execution_count": null,
   "metadata": {
    "collapsed": true
   },
   "outputs": [],
   "source": []
  },
  {
   "cell_type": "code",
   "execution_count": null,
   "metadata": {
    "collapsed": true
   },
   "outputs": [],
   "source": []
  },
  {
   "cell_type": "code",
   "execution_count": null,
   "metadata": {
    "collapsed": true
   },
   "outputs": [],
   "source": []
  },
  {
   "cell_type": "code",
   "execution_count": null,
   "metadata": {
    "collapsed": true
   },
   "outputs": [],
   "source": []
  },
  {
   "cell_type": "code",
   "execution_count": null,
   "metadata": {
    "collapsed": true
   },
   "outputs": [],
   "source": []
  },
  {
   "cell_type": "code",
   "execution_count": null,
   "metadata": {
    "collapsed": true
   },
   "outputs": [],
   "source": []
  },
  {
   "cell_type": "code",
   "execution_count": null,
   "metadata": {
    "collapsed": true
   },
   "outputs": [],
   "source": []
  },
  {
   "cell_type": "code",
   "execution_count": null,
   "metadata": {
    "collapsed": true
   },
   "outputs": [],
   "source": []
  },
  {
   "cell_type": "code",
   "execution_count": null,
   "metadata": {
    "collapsed": true
   },
   "outputs": [],
   "source": []
  },
  {
   "cell_type": "code",
   "execution_count": null,
   "metadata": {
    "collapsed": true
   },
   "outputs": [],
   "source": []
  },
  {
   "cell_type": "code",
   "execution_count": null,
   "metadata": {
    "collapsed": true
   },
   "outputs": [],
   "source": []
  },
  {
   "cell_type": "code",
   "execution_count": null,
   "metadata": {
    "collapsed": true
   },
   "outputs": [],
   "source": []
  },
  {
   "cell_type": "code",
   "execution_count": null,
   "metadata": {
    "collapsed": true
   },
   "outputs": [],
   "source": []
  },
  {
   "cell_type": "code",
   "execution_count": null,
   "metadata": {
    "collapsed": true
   },
   "outputs": [],
   "source": []
  },
  {
   "cell_type": "code",
   "execution_count": null,
   "metadata": {
    "collapsed": true
   },
   "outputs": [],
   "source": []
  },
  {
   "cell_type": "code",
   "execution_count": null,
   "metadata": {
    "collapsed": true
   },
   "outputs": [],
   "source": []
  },
  {
   "cell_type": "code",
   "execution_count": null,
   "metadata": {
    "collapsed": true
   },
   "outputs": [],
   "source": []
  },
  {
   "cell_type": "code",
   "execution_count": null,
   "metadata": {
    "collapsed": true
   },
   "outputs": [],
   "source": []
  },
  {
   "cell_type": "code",
   "execution_count": null,
   "metadata": {
    "collapsed": true
   },
   "outputs": [],
   "source": []
  }
 ],
 "metadata": {
  "kernelspec": {
   "display_name": "Python 3",
   "language": "python",
   "name": "python3"
  },
  "language_info": {
   "codemirror_mode": {
    "name": "ipython",
    "version": 3
   },
   "file_extension": ".py",
   "mimetype": "text/x-python",
   "name": "python",
   "nbconvert_exporter": "python",
   "pygments_lexer": "ipython3",
   "version": "3.6.3"
  },
  "nav_menu": {},
  "toc": {
   "navigate_menu": true,
   "number_sections": true,
   "sideBar": true,
   "threshold": 6,
   "toc_cell": false,
   "toc_section_display": "block",
   "toc_window_display": true
  },
  "toc_position": {
   "height": "616px",
   "left": "0px",
   "right": "20px",
   "top": "106px",
   "width": "213px"
  }
 },
 "nbformat": 4,
 "nbformat_minor": 4
}
