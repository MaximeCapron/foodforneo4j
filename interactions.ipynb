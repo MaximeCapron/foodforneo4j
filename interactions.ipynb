{
 "cells": [
  {
   "cell_type": "markdown",
   "metadata": {},
   "source": [
    "Plan de la tâche - Stakeholders' map\n",
    "\n",
    "1. Création des types de données\n",
    "2. Création des tables csv\n",
    "3. Importation dans neo4j sous forme de noeuds-relations\n",
    "4. Design des requêtes\n",
    "5. Possibilité d'interroger la base via un notebook Jupyter\n"
   ]
  },
  {
   "cell_type": "markdown",
   "metadata": {},
   "source": [
    "Lien du github : https://github.com/MaximeCapron/foodforneo4j"
   ]
  },
  {
   "cell_type": "markdown",
   "metadata": {},
   "source": [
    "# 5. Possibilité d'interroger la base"
   ]
  },
  {
   "cell_type": "code",
   "execution_count": 25,
   "metadata": {},
   "outputs": [],
   "source": [
    "import numpy as np\n",
    "import pandas as pd\n",
    "from py2neo import Graph\n",
    "from py2neo.data import Node, Relationship"
   ]
  },
  {
   "cell_type": "code",
   "execution_count": 26,
   "metadata": {},
   "outputs": [],
   "source": [
    "graph = Graph(\"bolt://3.90.65.37:34875\", auth=(\"neo4j\", \"volumes-capes-retrievals\"))"
   ]
  },
  {
   "cell_type": "markdown",
   "metadata": {},
   "source": [
    "## Initialiser le graph"
   ]
  },
  {
   "cell_type": "code",
   "execution_count": 27,
   "metadata": {},
   "outputs": [],
   "source": [
    "# Adresse du repo github\n",
    "adresse = \"https://raw.githubusercontent.com/MaximeCapron/foodforneo4j/master/fichiers%20csv/\""
   ]
  },
  {
   "cell_type": "code",
   "execution_count": 28,
   "metadata": {},
   "outputs": [],
   "source": [
    "def clear():\n",
    "    # Commencer par supprimer tout ce qui préexiste pour avoir une feuille propre\n",
    "    try:\n",
    "        graph.run(\"MATCH (n) DETACH DELETE n\")\n",
    "    except:\n",
    "        pass"
   ]
  },
  {
   "cell_type": "code",
   "execution_count": 29,
   "metadata": {},
   "outputs": [],
   "source": [
    "def initialiser(adresse):\n",
    "    \n",
    "        # Tous les noeuds doivent commencer par un index. Les autres colonnes représentent les caractéristiques, \n",
    "        # que l'on enregistre.\n",
    "\n",
    "    noms_relations = [\"CONNAISSANCE\",\"SUPERIEUR\",\"FILIALE\",\"EMPLOYE_DANS\"]\n",
    "    specs_humains = [i for i in pd.read_csv(adresse+\"Humains.csv\",delimiter=\";\").columns][1:]\n",
    "    specs_entreprises = [i for i in pd.read_csv(adresse+\"Entreprises.csv\",delimiter=\";\").columns][1:]\n",
    "\n",
    "        # Toutes les relations doivent commencer par les index des deux bouts de la relation. \n",
    "        # Le colonnes 2 à n-1 représentent les caractéristiques, que l'on enregistre.\n",
    "        # La dernière colonne représente le nom, que l'on connaît déjà.\n",
    "\n",
    "    specs_relations = [0]*len(noms_relations)\n",
    "    for i in range(len(specs_relations)):\n",
    "        specs_relations[i] = [j for j in pd.read_csv(adresse+\"Relations\"+str(i+1)+\".csv\",delimiter=\";\").columns][2:-1]\n",
    "\n",
    "        # Importer les noeuds \n",
    "\n",
    "           # Humains\n",
    "\n",
    "    code_initialisation = \"LOAD CSV WITH HEADERS FROM '\"+adresse+\"\"\"Humains.csv' AS row FIELDTERMINATOR ';'\n",
    "    MERGE (p:Personne {id: row.index})\n",
    "    ON CREATE SET \"\"\"\n",
    "\n",
    "    for item in specs_humains:\n",
    "        code_initialisation += \"p.\" + item + \" = row.\" + item + \", \"\n",
    "\n",
    "    try:\n",
    "        graph.run(code_initialisation[:-2])\n",
    "    except:\n",
    "        pass\n",
    "\n",
    "           # Entreprises\n",
    "\n",
    "    code_initialisation = \"LOAD CSV WITH HEADERS FROM '\"+adresse+\"\"\"Entreprises.csv' AS row FIELDTERMINATOR ';'\n",
    "    MERGE (e:Entreprise {id: row.index})\n",
    "    ON CREATE SET \"\"\"\n",
    "\n",
    "    for item in specs_entreprises:\n",
    "        code_initialisation += \"e.\" + item + \" = row.\" + item + \", \"\n",
    "\n",
    "    try:\n",
    "        graph.run(code_initialisation[:-2])\n",
    "    except:\n",
    "        pass\n",
    "\n",
    "           # Relations\n",
    "\n",
    "    for i in range(len(noms_relations)):\n",
    "\n",
    "        code_initialisation = \"LOAD CSV WITH HEADERS FROM '\"+adresse+\"Relations\"+str(i+1)+\"\"\".csv' AS rel FIELDTERMINATOR ';'\n",
    "        MATCH (p1 {id: rel.index})\n",
    "        MATCH (p2 {id: rel.index_relation})\n",
    "        MERGE (p1)-[r:\"\"\"+noms_relations[i]+\"\"\"]->(p2)  \"\"\"\n",
    "\n",
    "        if len(specs_relations[i]) > 0:\n",
    "            code_initialisation += \"ON CREATE SET \"\n",
    "            for item in specs_relations[i]:\n",
    "                code_initialisation += \"r.\" + item + \" = rel.\" + item + \", \"\n",
    "\n",
    "        try:\n",
    "            graph.run(code_initialisation[:-2])\n",
    "        except:\n",
    "            pass"
   ]
  },
  {
   "cell_type": "code",
   "execution_count": 30,
   "metadata": {},
   "outputs": [],
   "source": [
    "clear()"
   ]
  },
  {
   "cell_type": "code",
   "execution_count": 31,
   "metadata": {},
   "outputs": [],
   "source": [
    "initialiser(adresse)"
   ]
  },
  {
   "cell_type": "markdown",
   "metadata": {},
   "source": [
    "## Ajouter ou supprimer un noeud"
   ]
  },
  {
   "cell_type": "markdown",
   "metadata": {},
   "source": [
    "2 solutions :\n",
    "- si vous voulez faire quelque chose de lourd, l'option préférable est probablement de modifier les bases de données, en ajoutant, modifiant ou supprimant des lignes, puis en faisant tourner la cellule ci-dessus.\n",
    "- si vous voulez simplement ajouter ou supprimer un noeud en vous basant sur ses caractéristiques, c'est faisable avec les fonctions ci-dessous."
   ]
  },
  {
   "cell_type": "markdown",
   "metadata": {},
   "source": [
    "Vous souhaitez ajouter un nouveau personnage. Il s'appelle Bob, on lui donne l'identifiant 5 (au hasard), et il est boulanger."
   ]
  },
  {
   "cell_type": "code",
   "execution_count": 145,
   "metadata": {},
   "outputs": [],
   "source": [
    "Bob = Node(\"Person\",Nom=\"Bob\",emploi=\"Boulanger\",index=5)"
   ]
  },
  {
   "cell_type": "code",
   "execution_count": 146,
   "metadata": {},
   "outputs": [],
   "source": [
    "graph.create(Bob)"
   ]
  },
  {
   "cell_type": "markdown",
   "metadata": {},
   "source": [
    "Supprimons Bob."
   ]
  },
  {
   "cell_type": "code",
   "execution_count": 147,
   "metadata": {},
   "outputs": [],
   "source": [
    "graph.delete(Bob)"
   ]
  },
  {
   "cell_type": "code",
   "execution_count": 148,
   "metadata": {},
   "outputs": [],
   "source": [
    "# On peut faire ça, mais ça ne présente pas d'avantage à mon avis.\n",
    "# (ce sera nécessaire de donner des noms simples aux noeuds pour les relations).\n",
    "créer_noeud = lambda sorte, **arguments : graph.create(Node(sorte,**arguments))\n",
    "# créer_noeud(\"Monsieur\",name=\"Bob\",emploi=\"Boulanger\")"
   ]
  },
  {
   "cell_type": "markdown",
   "metadata": {},
   "source": [
    "## Ajouter ou supprimer une relation"
   ]
  },
  {
   "cell_type": "markdown",
   "metadata": {},
   "source": [
    "Supposons que l'on a deux noeuds, Bob et Joe, et que l'on veut créer une relation entre eux deux. Précisions une caractéristique pour chacun d'entre deux et la nature de la relation, et allons-y !"
   ]
  },
  {
   "cell_type": "code",
   "execution_count": 10,
   "metadata": {},
   "outputs": [],
   "source": [
    "Bob = Node(\"Person\",name=\"Bob\",emploi=\"Boulanger\",index=5)\n",
    "Joe = Node(\"Person\",name=\"Joe\",emploi=\"Pâtissier\",index=5)"
   ]
  },
  {
   "cell_type": "code",
   "execution_count": 11,
   "metadata": {},
   "outputs": [],
   "source": [
    "graph.create(Relationship(Bob,\"AMI\",Joe))"
   ]
  },
  {
   "cell_type": "code",
   "execution_count": 12,
   "metadata": {},
   "outputs": [],
   "source": [
    "graph.delete(Relationship(Bob,\"AMI\",Joe))"
   ]
  },
  {
   "cell_type": "markdown",
   "metadata": {},
   "source": [
    "## Afficher des informations utiles"
   ]
  },
  {
   "cell_type": "markdown",
   "metadata": {},
   "source": [
    "### Qui est mobilisé sur un projet ? Quelles sont leurs opinions ?"
   ]
  },
  {
   "cell_type": "markdown",
   "metadata": {},
   "source": [
    "Cette fonction affiche la liste des stakeholders sur un dossier, et leur position : \"Avocat\", \"Neutre\" ou \"A convaincre\".\n",
    "\n",
    "Paramètres : \n",
    "- (obligatoire) nom du projet\n",
    "- (optionnel) position – Ne rien inscrire si vous voulez toutes les positions, sinon inscrire :\n",
    "    - 1 pour trouver les avocats, \n",
    "    - 0 pour les neutres, \n",
    "    - -1 pour les stakeholders à convaincre"
   ]
  },
  {
   "cell_type": "code",
   "execution_count": 230,
   "metadata": {},
   "outputs": [],
   "source": [
    "def positions_projet(nom_du_projet,position=\"toutes\"):\n",
    "    if(position==\"toutes\"):\n",
    "        query = \"\"\"MATCH (p:Personne)-[rel:EMPLOYE_DANS]-(c:Entreprise)\n",
    "        WHERE exists(p.Position_\"\"\"+nom_du_projet+\"\"\")\n",
    "        RETURN p.Nom AS nom, c.Titre AS entreprise, rel.position AS rôle, \n",
    "        p.Position_\"\"\"+nom_du_projet+\" AS position ORDER BY position\"\n",
    "    elif(position==1):\n",
    "        query = \"\"\"MATCH (p:Personne)-[rel:EMPLOYE_DANS]-(c:Entreprise)\n",
    "        WHERE p.Position_\"\"\"+nom_du_projet+\"\"\" = \"Avocat\"\n",
    "        RETURN p.Nom AS nom, c.Titre AS entreprise, rel.position AS rôle, \n",
    "        p.Position_\"\"\"+nom_du_projet+\" AS position ORDER BY rôle\"\n",
    "    elif(position==0):\n",
    "        query = \"\"\"MATCH (p:Personne)-[rel:EMPLOYE_DANS]-(c:Entreprise)\n",
    "        WHERE p.Position_\"\"\"+nom_du_projet+\"\"\" = \"Neutre\"\n",
    "        RETURN p.Nom AS nom, c.Titre AS entreprise, rel.position AS rôle, \n",
    "        p.Position_\"\"\"+nom_du_projet+\" AS position ORDER BY rôle\"\n",
    "    elif(position==-1):\n",
    "        query = \"\"\"MATCH (p:Personne)-[rel:EMPLOYE_DANS]-(c:Entreprise)\n",
    "        WHERE p.Position_\"\"\"+nom_du_projet+\"\"\" = \"A convaincre\"\n",
    "        RETURN p.Nom AS nom, c.Titre AS entreprise, rel.position AS rôle, \n",
    "        p.Position_\"\"\"+nom_du_projet+\" AS position ORDER BY rôle\"\n",
    "    else:\n",
    "        raise \"Position inconnue\"\n",
    "    return graph.run(query).to_data_frame()"
   ]
  },
  {
   "cell_type": "markdown",
   "metadata": {},
   "source": [
    "Certains détracteurs subsistent : à contacter !"
   ]
  },
  {
   "cell_type": "markdown",
   "metadata": {},
   "source": [
    "### Trouver la distance entre deux personnes\n",
    "\n",
    "#### En fonction de leurs positions et de leurs entreprises"
   ]
  },
  {
   "cell_type": "code",
   "execution_count": 210,
   "metadata": {},
   "outputs": [],
   "source": [
    "def distance_pos(A,B):\n",
    "    query = \"\"\"\n",
    "    MATCH (a:Personne)-[:EMPLOYE_DANS {position:'\"\"\"+A[0]+\"\"\"'}]-(:Entreprise {Titre:'\"\"\"+A[1]+\"\"\"'})\n",
    "    MATCH (b:Personne)-[:EMPLOYE_DANS {position:'\"\"\"+B[0]+\"\"\"'}]-(:Entreprise {Titre:'\"\"\"+B[1]+\"\"\"'})\n",
    "    MATCH p = shortestPath((a)-[*]-(b))\n",
    "    RETURN a.Nom,b.Nom,length(p) AS distance\"\"\"\n",
    "    return graph.run(query).to_data_frame()"
   ]
  },
  {
   "cell_type": "code",
   "execution_count": 211,
   "metadata": {},
   "outputs": [],
   "source": [
    "A = [\"CEO\",\"ECorp\"]\n",
    "B = [\"CFO\",\"OBS\"]"
   ]
  },
  {
   "cell_type": "code",
   "execution_count": 212,
   "metadata": {},
   "outputs": [
    {
     "data": {
      "text/html": [
       "<div>\n",
       "<style scoped>\n",
       "    .dataframe tbody tr th:only-of-type {\n",
       "        vertical-align: middle;\n",
       "    }\n",
       "\n",
       "    .dataframe tbody tr th {\n",
       "        vertical-align: top;\n",
       "    }\n",
       "\n",
       "    .dataframe thead th {\n",
       "        text-align: right;\n",
       "    }\n",
       "</style>\n",
       "<table border=\"1\" class=\"dataframe\">\n",
       "  <thead>\n",
       "    <tr style=\"text-align: right;\">\n",
       "      <th></th>\n",
       "      <th>a.Nom</th>\n",
       "      <th>b.Nom</th>\n",
       "      <th>distance</th>\n",
       "    </tr>\n",
       "  </thead>\n",
       "  <tbody>\n",
       "    <tr>\n",
       "      <th>0</th>\n",
       "      <td>Joséphine Michel</td>\n",
       "      <td>Lucien Martin</td>\n",
       "      <td>2</td>\n",
       "    </tr>\n",
       "  </tbody>\n",
       "</table>\n",
       "</div>"
      ],
      "text/plain": [
       "              a.Nom          b.Nom  distance\n",
       "0  Joséphine Michel  Lucien Martin         2"
      ]
     },
     "execution_count": 212,
     "metadata": {},
     "output_type": "execute_result"
    }
   ],
   "source": [
    "distance_pos(A,B)"
   ]
  },
  {
   "cell_type": "markdown",
   "metadata": {},
   "source": [
    "#### En fonction de leurs noms"
   ]
  },
  {
   "cell_type": "code",
   "execution_count": 213,
   "metadata": {},
   "outputs": [],
   "source": [
    "def distance_noms(nomA,nomB):\n",
    "    query = \"MATCH p = shortestPath((a:Personne {Nom:'\"+nomA+\"'})-[*]-(b:Personne {Nom:'\"+nomB+\"'})) RETURN a.Nom, b.Nom, length(p) AS distance\"\n",
    "    return graph.run(query).to_data_frame()"
   ]
  },
  {
   "cell_type": "code",
   "execution_count": 214,
   "metadata": {},
   "outputs": [],
   "source": [
    "nomA = \"Joseph Leclerc\"\n",
    "nomB = \"Auguste Petit\""
   ]
  },
  {
   "cell_type": "code",
   "execution_count": 215,
   "metadata": {},
   "outputs": [
    {
     "data": {
      "text/html": [
       "<div>\n",
       "<style scoped>\n",
       "    .dataframe tbody tr th:only-of-type {\n",
       "        vertical-align: middle;\n",
       "    }\n",
       "\n",
       "    .dataframe tbody tr th {\n",
       "        vertical-align: top;\n",
       "    }\n",
       "\n",
       "    .dataframe thead th {\n",
       "        text-align: right;\n",
       "    }\n",
       "</style>\n",
       "<table border=\"1\" class=\"dataframe\">\n",
       "  <thead>\n",
       "    <tr style=\"text-align: right;\">\n",
       "      <th></th>\n",
       "      <th>a.Nom</th>\n",
       "      <th>b.Nom</th>\n",
       "      <th>distance</th>\n",
       "    </tr>\n",
       "  </thead>\n",
       "  <tbody>\n",
       "    <tr>\n",
       "      <th>0</th>\n",
       "      <td>Joseph Leclerc</td>\n",
       "      <td>Auguste Petit</td>\n",
       "      <td>2</td>\n",
       "    </tr>\n",
       "  </tbody>\n",
       "</table>\n",
       "</div>"
      ],
      "text/plain": [
       "            a.Nom          b.Nom  distance\n",
       "0  Joseph Leclerc  Auguste Petit         2"
      ]
     },
     "execution_count": 215,
     "metadata": {},
     "output_type": "execute_result"
    }
   ],
   "source": [
    "distance_noms(nomA,nomB)"
   ]
  },
  {
   "cell_type": "markdown",
   "metadata": {},
   "source": [
    "Une seule personne se trouve entre les deux : peut-on lui demander d'intercéder en notre faveur ?"
   ]
  },
  {
   "cell_type": "markdown",
   "metadata": {},
   "source": [
    "### Quels partenaires n'ont aucune relation directe avec OBS (ne sont pas \"surveillées\") ?"
   ]
  },
  {
   "cell_type": "code",
   "execution_count": 241,
   "metadata": {},
   "outputs": [],
   "source": [
    "def a_connaitre():\n",
    "    query = \"\"\"\n",
    "    MATCH (a:Entreprise)-[:EMPLOYE_DANS]-(p:Personne)\n",
    "    WHERE NOT a.Titre = \"OBS\"\n",
    "    WITH p\n",
    "    MATCH (c:Entreprise {Titre:\"OBS\"})\n",
    "    MATCH short=shortestpath((c)-[*]-(p))\n",
    "    WITH p,length(short) AS len\n",
    "    WHERE len > 2\n",
    "    RETURN p.Nom AS nom\n",
    "    \"\"\"\n",
    "    return graph.run(query).to_data_frame()"
   ]
  },
  {
   "cell_type": "code",
   "execution_count": 242,
   "metadata": {
    "scrolled": false
   },
   "outputs": [
    {
     "data": {
      "text/html": [
       "<div>\n",
       "<style scoped>\n",
       "    .dataframe tbody tr th:only-of-type {\n",
       "        vertical-align: middle;\n",
       "    }\n",
       "\n",
       "    .dataframe tbody tr th {\n",
       "        vertical-align: top;\n",
       "    }\n",
       "\n",
       "    .dataframe thead th {\n",
       "        text-align: right;\n",
       "    }\n",
       "</style>\n",
       "<table border=\"1\" class=\"dataframe\">\n",
       "  <thead>\n",
       "    <tr style=\"text-align: right;\">\n",
       "      <th></th>\n",
       "      <th>nom</th>\n",
       "    </tr>\n",
       "  </thead>\n",
       "  <tbody>\n",
       "    <tr>\n",
       "      <th>0</th>\n",
       "      <td>Pierre Leclerc</td>\n",
       "    </tr>\n",
       "    <tr>\n",
       "      <th>1</th>\n",
       "      <td>Marthe Guerin</td>\n",
       "    </tr>\n",
       "    <tr>\n",
       "      <th>2</th>\n",
       "      <td>Henriette Bonnet</td>\n",
       "    </tr>\n",
       "    <tr>\n",
       "      <th>3</th>\n",
       "      <td>Maurice Duval</td>\n",
       "    </tr>\n",
       "    <tr>\n",
       "      <th>4</th>\n",
       "      <td>Renée Morin</td>\n",
       "    </tr>\n",
       "    <tr>\n",
       "      <th>5</th>\n",
       "      <td>Jules Joly</td>\n",
       "    </tr>\n",
       "    <tr>\n",
       "      <th>6</th>\n",
       "      <td>Alice Fournier</td>\n",
       "    </tr>\n",
       "    <tr>\n",
       "      <th>7</th>\n",
       "      <td>Anne Gautier</td>\n",
       "    </tr>\n",
       "    <tr>\n",
       "      <th>8</th>\n",
       "      <td>Maria Payet</td>\n",
       "    </tr>\n",
       "    <tr>\n",
       "      <th>9</th>\n",
       "      <td>René Guillaume</td>\n",
       "    </tr>\n",
       "    <tr>\n",
       "      <th>10</th>\n",
       "      <td>Georgette Gerard</td>\n",
       "    </tr>\n",
       "    <tr>\n",
       "      <th>11</th>\n",
       "      <td>Berthe Morin</td>\n",
       "    </tr>\n",
       "  </tbody>\n",
       "</table>\n",
       "</div>"
      ],
      "text/plain": [
       "                 nom\n",
       "0     Pierre Leclerc\n",
       "1      Marthe Guerin\n",
       "2   Henriette Bonnet\n",
       "3      Maurice Duval\n",
       "4        Renée Morin\n",
       "5         Jules Joly\n",
       "6     Alice Fournier\n",
       "7       Anne Gautier\n",
       "8        Maria Payet\n",
       "9     René Guillaume\n",
       "10  Georgette Gerard\n",
       "11      Berthe Morin"
      ]
     },
     "execution_count": 242,
     "metadata": {},
     "output_type": "execute_result"
    }
   ],
   "source": [
    "a_connaitre()"
   ]
  },
  {
   "cell_type": "markdown",
   "metadata": {},
   "source": [
    "Nous avons une liste de 12 personnes potentielles à contacter !"
   ]
  },
  {
   "cell_type": "code",
   "execution_count": 205,
   "metadata": {},
   "outputs": [],
   "source": [
    "connue = lambda x : not x in a_connaitre()[\"nom\"].values"
   ]
  },
  {
   "cell_type": "code",
   "execution_count": 256,
   "metadata": {},
   "outputs": [],
   "source": [
    "def bilan_de_situation(cas):\n",
    "    print(\"Voilà les personnes impliquées sur le cas\",cas,\":\\n\")\n",
    "    A = positions_projet(cas)\n",
    "    A[\"connue\"] = A[\"nom\"].apply(connue)\n",
    "    return A"
   ]
  },
  {
   "cell_type": "code",
   "execution_count": 260,
   "metadata": {},
   "outputs": [
    {
     "name": "stdout",
     "output_type": "stream",
     "text": [
      "Voilà les personnes impliquées sur le cas D :\n",
      "\n",
      "                   nom entreprise        rôle      position  connue\n",
      "0        Joseph Thomas      DCorp   Technique  A convaincre    True\n",
      "1         Anne Gautier      DCorp   Technique  A convaincre   False\n",
      "2     Juliette Lefevre      CCorp  Commercial        Avocat    True\n",
      "3        Robert Renard      CCorp         CFO        Avocat    True\n",
      "4          Jules David      DCorp  Commercial        Avocat    True\n",
      "5     Lucien Guillaume      DCorp         CFO        Avocat    True\n",
      "6        Georges Morin      DCorp  Commercial        Avocat    True\n",
      "7        Hélène Martin      DCorp  Commercial        Avocat    True\n",
      "8         Emile Moreau      DCorp  Commercial        Avocat    True\n",
      "9     François Mathieu      CCorp  Commercial        Neutre    True\n",
      "10          Jules Joly      CCorp   Technique        Neutre   False\n",
      "11    Joséphine Thomas      DCorp         CEO        Neutre    True\n",
      "12      Alice Fournier      DCorp   Technique        Neutre   False\n",
      "13  Marguerite Lefevre      DCorp  Commercial        Neutre    True\n"
     ]
    }
   ],
   "source": [
    "bilan_de_situation(\"D\")"
   ]
  },
  {
   "cell_type": "markdown",
   "metadata": {},
   "source": [
    "[I'm a useless link](file:///Users/maxime.capron/Desktop/Pocket%20Result/Graphs/stakeholders'%20map/neovis_graph/Stakeholders.html)"
   ]
  },
  {
   "cell_type": "code",
   "execution_count": null,
   "metadata": {},
   "outputs": [],
   "source": []
  },
  {
   "cell_type": "code",
   "execution_count": null,
   "metadata": {},
   "outputs": [],
   "source": []
  },
  {
   "cell_type": "code",
   "execution_count": null,
   "metadata": {},
   "outputs": [],
   "source": []
  },
  {
   "cell_type": "code",
   "execution_count": null,
   "metadata": {},
   "outputs": [],
   "source": []
  },
  {
   "cell_type": "code",
   "execution_count": null,
   "metadata": {},
   "outputs": [],
   "source": []
  },
  {
   "cell_type": "code",
   "execution_count": null,
   "metadata": {},
   "outputs": [],
   "source": []
  },
  {
   "cell_type": "code",
   "execution_count": null,
   "metadata": {},
   "outputs": [],
   "source": []
  },
  {
   "cell_type": "code",
   "execution_count": null,
   "metadata": {},
   "outputs": [],
   "source": []
  },
  {
   "cell_type": "code",
   "execution_count": null,
   "metadata": {},
   "outputs": [],
   "source": []
  }
 ],
 "metadata": {
  "kernelspec": {
   "display_name": "Python 3",
   "language": "python",
   "name": "python3"
  },
  "language_info": {
   "codemirror_mode": {
    "name": "ipython",
    "version": 3
   },
   "file_extension": ".py",
   "mimetype": "text/x-python",
   "name": "python",
   "nbconvert_exporter": "python",
   "pygments_lexer": "ipython3",
   "version": "3.8.3"
  },
  "nav_menu": {},
  "toc": {
   "navigate_menu": true,
   "number_sections": true,
   "sideBar": true,
   "threshold": 6,
   "toc_cell": false,
   "toc_section_display": "block",
   "toc_window_display": true
  },
  "toc_position": {
   "height": "616px",
   "left": "0px",
   "right": "20px",
   "top": "106px",
   "width": "213px"
  }
 },
 "nbformat": 4,
 "nbformat_minor": 4
}
