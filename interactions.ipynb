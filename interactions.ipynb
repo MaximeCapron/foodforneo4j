{
 "cells": [
  {
   "cell_type": "markdown",
   "metadata": {},
   "source": [
    "Plan de la tâche - Stakeholders' map\n",
    "\n",
    "1. Création des types de données\n",
    "2. Création des tables csv\n",
    "3. Importation dans neo4j sous forme de noeuds-relations\n",
    "4. Design des requêtes\n",
    "5. Possibilité d'interroger la base via un notebook Jupyter\n"
   ]
  },
  {
   "cell_type": "markdown",
   "metadata": {},
   "source": [
    "Lien du github : https://github.com/MaximeCapron/foodforneo4j"
   ]
  },
  {
   "cell_type": "markdown",
   "metadata": {},
   "source": [
    "# 5. Possibilité d'interroger la base"
   ]
  },
  {
   "cell_type": "code",
   "execution_count": 1,
   "metadata": {},
   "outputs": [],
   "source": [
    "import numpy as np\n",
    "import pandas as pd\n",
    "from py2neo import Graph\n",
    "from py2neo.data import Node, Relationship"
   ]
  },
  {
   "cell_type": "code",
   "execution_count": 38,
   "metadata": {},
   "outputs": [],
   "source": [
    "graph = Graph(\"bolt://3.90.65.37:34875\", auth=(\"neo4j\", \"volumes-capes-retrievals\"))"
   ]
  },
  {
   "cell_type": "markdown",
   "metadata": {},
   "source": [
    "## Initialiser le graph"
   ]
  },
  {
   "cell_type": "code",
   "execution_count": 97,
   "metadata": {},
   "outputs": [],
   "source": [
    "    # Adresse du repo github\n",
    "\n",
    "adresse = \"https://raw.githubusercontent.com/MaximeCapron/foodforneo4j/master/fichiers%20csv/\"\n",
    "\n",
    "    # On a besoin dans ce github d'un fichier \"Humain\" et d'un fichier \"Entreprises\".\n",
    "    # On peut ajouter des relations entre les noeuds, que l'on numérotera (\"Relations1\", \"Relations2\", etc.)\n",
    "    \n",
    "    # Le fichier \"Humains\" doivent débuter par un index, puis on peut introduire les colonnes de son choix.\n",
    "    # Le fichier \"Entreprises\" doivent débuter par un index, puis on peut introduire les colonnes de son choix.\n",
    "    # Les fichiers \"Relations\" doivent commencer par les pointeurs vers les index des deux bouts de la relations,\n",
    "    # puis on peut introduire les colonnes de son choix. La dernière colonne \"nom\" comporte le nom de la relation \n",
    "    # (il doit être similaire sur toute la colonne)."
   ]
  },
  {
   "cell_type": "code",
   "execution_count": 98,
   "metadata": {},
   "outputs": [],
   "source": [
    "def initialiser(adresse):\n",
    "    \n",
    "        # Commencer par supprimer tout ce qui préexiste pour avoir une feuille propre\n",
    "    \n",
    "    try:\n",
    "        graph.run(\"MATCH (n) DETACH DELETE n\")\n",
    "    except:\n",
    "        pass\n",
    "\n",
    "        # Tous les noeuds doivent commencer par un index. Les autres colonnes représentent les caractéristiques, \n",
    "        # que l'on enregistre.\n",
    "\n",
    "    specs_humains = [i for i in pd.read_csv(adresse+\"Humains.csv\",delimiter=\";\").columns][1:]\n",
    "    specs_entreprises = [i for i in pd.read_csv(adresse+\"Entreprises.csv\",delimiter=\";\").columns][1:]\n",
    "\n",
    "        # Toutes les relations doivent commencer par les index des deux bouts de la relation. \n",
    "        # Le colonnes 2 à n-1 représentent les caractéristiques, que l'on enregistre.\n",
    "        # La dernière colonne représente le nom, que l'on connaît déjà.\n",
    "\n",
    "    specs_relations = [0]*len(noms_relations)\n",
    "    for i in range(len(specs_relations)):\n",
    "        specs_relations[i] = [j for j in pd.read_csv(adresse+\"Relations\"+str(i+1)+\".csv\",delimiter=\";\").columns][2:-1]\n",
    "\n",
    "        # Importer les noeuds \n",
    "\n",
    "           # Humains\n",
    "\n",
    "    code_initialisation = \"LOAD CSV WITH HEADERS FROM '\"+adresse+\"\"\"Humains.csv' AS row FIELDTERMINATOR ';'\n",
    "    MERGE (p:Person {id: row.index})\n",
    "    ON CREATE SET \"\"\"\n",
    "\n",
    "    for item in specs_humains:\n",
    "        code_initialisation += \"p.\" + item + \" = row.\" + item + \", \"\n",
    "\n",
    "    try:\n",
    "        graph.run(code_initialisation[:-2])\n",
    "    except:\n",
    "        pass\n",
    "\n",
    "           # Entreprises\n",
    "\n",
    "    code_initialisation = \"LOAD CSV WITH HEADERS FROM '\"+adresse+\"\"\"Entreprises.csv' AS row FIELDTERMINATOR ';'\n",
    "    MERGE (e:Entreprise {id: row.index})\n",
    "    ON CREATE SET \"\"\"\n",
    "\n",
    "    for item in specs_entreprises:\n",
    "        code_initialisation += \"e.\" + item + \" = row.\" + item + \", \"\n",
    "\n",
    "    try:\n",
    "        graph.run(code_initialisation[:-2])\n",
    "    except:\n",
    "        pass\n",
    "\n",
    "           # Relations\n",
    "\n",
    "    for i in range(len(noms_relations)):\n",
    "\n",
    "        code_initialisation = \"LOAD CSV WITH HEADERS FROM '\"+adresse+\"Relations\"+str(i+1)+\"\"\".csv' AS rel FIELDTERMINATOR ';'\n",
    "        MATCH (p1 {id: rel.index})\n",
    "        MATCH (p2 {id: rel.index_relation})\n",
    "        MERGE (p1)-[r:\"\"\"+noms_relations[i]+\"\"\"]->(p2)  \"\"\"\n",
    "\n",
    "        if len(specs_relations[i]) > 0:\n",
    "            code_initialisation += \"ON CREATE SET \"\n",
    "            for item in specs_relations[i]:\n",
    "                code_initialisation += \"r.\" + item + \" = rel.\" + item + \", \"\n",
    "\n",
    "        try:\n",
    "            graph.run(code_initialisation[:-2])\n",
    "        except:\n",
    "            pass"
   ]
  },
  {
   "cell_type": "markdown",
   "metadata": {},
   "source": [
    "## Ajouter ou supprimer un noeud"
   ]
  },
  {
   "cell_type": "markdown",
   "metadata": {},
   "source": [
    "2 solutions :\n",
    "- si vous voulez faire quelque chose de lourd, l'option préférable est probablement de modifier les bases de données, en ajoutant, modifiant ou supprimant des lignes, puis en faisant tourner la cellule ci-dessus.\n",
    "- si vous voulez simplement ajouter ou supprimer un noeud en vous basant sur ses caractéristiques, c'est faisable avec les fonctions ci-dessous."
   ]
  },
  {
   "cell_type": "markdown",
   "metadata": {},
   "source": [
    "Vous souhaitez ajouter un nouveau personnage. Il s'appelle Bob, on lui donne l'identifiant 5 (au hasard), et il est boulanger."
   ]
  },
  {
   "cell_type": "code",
   "execution_count": 6,
   "metadata": {},
   "outputs": [],
   "source": [
    "Bob = Node(\"Person\",name=\"Bob\",emploi=\"Boulanger\",index=5)"
   ]
  },
  {
   "cell_type": "code",
   "execution_count": 7,
   "metadata": {},
   "outputs": [],
   "source": [
    "graph.create(Bob)"
   ]
  },
  {
   "cell_type": "markdown",
   "metadata": {},
   "source": [
    "Supprimons Bob."
   ]
  },
  {
   "cell_type": "code",
   "execution_count": 9,
   "metadata": {},
   "outputs": [],
   "source": [
    "graph.delete(Bob)"
   ]
  },
  {
   "cell_type": "markdown",
   "metadata": {},
   "source": [
    "## Ajouter ou supprimer une relation"
   ]
  },
  {
   "cell_type": "markdown",
   "metadata": {},
   "source": [
    "Supposons que l'on a deux noeuds, Bob et Joe, et que l'on veut créer une relation entre eux deux. Précisions une caractéristique pour chacun d'entre deux et la nature de la relation, et allons-y !"
   ]
  },
  {
   "cell_type": "code",
   "execution_count": 10,
   "metadata": {},
   "outputs": [],
   "source": [
    "Bob = Node(\"Person\",name=\"Bob\",emploi=\"Boulanger\",index=5)\n",
    "Joe = Node(\"Person\",name=\"Joe\",emploi=\"Pâtissier\",index=5)"
   ]
  },
  {
   "cell_type": "code",
   "execution_count": 11,
   "metadata": {},
   "outputs": [],
   "source": [
    "graph.create(Relationship(Bob,\"AMI\",Joe))"
   ]
  },
  {
   "cell_type": "code",
   "execution_count": 12,
   "metadata": {},
   "outputs": [],
   "source": [
    "graph.delete(Relationship(Bob,\"AMI\",Joe))"
   ]
  },
  {
   "cell_type": "markdown",
   "metadata": {},
   "source": [
    "## Afficher des informations utiles"
   ]
  },
  {
   "cell_type": "markdown",
   "metadata": {},
   "source": [
    "### Qui est mobilisé sur un projet ? Quelles sont leurs opinions ?"
   ]
  },
  {
   "cell_type": "markdown",
   "metadata": {},
   "source": [
    "Cette fonction affiche la liste des stakeholders sur un dossier, et leur position : \"Avocat\", \"Neutre\" ou \"A convaincre\".\n",
    "\n",
    "Paramètres : \n",
    "- (obligatoire) nom du projet\n",
    "- (optionnel) position – Ne rien inscrire si vous voulez toutes les positions, sinon inscrire :\n",
    "    - 1 pour trouver les avocats, \n",
    "    - 0 pour les neutres, \n",
    "    - -1 pour les stakeholders à convaincre"
   ]
  },
  {
   "cell_type": "code",
   "execution_count": 43,
   "metadata": {},
   "outputs": [],
   "source": [
    "def positions_projet(nom_du_projet,position=\"toutes\"):\n",
    "    if(position==\"toutes\"):\n",
    "        query = \"\"\"MATCH (p:Person)-[rel:EMPLOYE_DANS]-(c:Company)\n",
    "        WHERE exists(p.position_\"\"\"+nom_du_projet+\"\"\")\n",
    "        RETURN p.nom AS nom, c.titre AS entreprise, rel.position AS rôle, \n",
    "        p.position_\"\"\"+nom_du_projet+\" AS position ORDER BY position\"\n",
    "    elif(position==1):\n",
    "        query = \"\"\"MATCH (p:Person)-[rel:EMPLOYE_DANS]-(c:Company)\n",
    "        WHERE p.position_\"\"\"+nom_du_projet+\"\"\" = 'Avocat'\n",
    "        RETURN p.nom AS nom, c.titre AS entreprise, rel.position AS rôle, \n",
    "        p.position_\"\"\"+nom_du_projet+\" AS position ORDER BY rôle\"\"\"\n",
    "    elif(position==0):\n",
    "        query = \"\"\"MATCH (p:Person)-[rel:EMPLOYE_DANS]-(c:Company)\n",
    "        WHERE p.position_\"\"\"+nom_du_projet+\"\"\" = 'Neutre'\n",
    "        RETURN p.nom AS nom, c.titre AS entreprise, rel.position AS rôle, \n",
    "        p.position_\"\"\"+nom_du_projet+\" AS position ORDER BY rôle\"\"\"\n",
    "    elif(position==-1):\n",
    "        query = \"\"\"MATCH (p:Person)-[rel:EMPLOYE_DANS]-(c:Company)\n",
    "        WHERE p.position_\"\"\"+nom_du_projet+\"\"\" = 'A convaincre'\n",
    "        RETURN p.nom AS nom, c.titre AS entreprise, rel.position AS rôle, \n",
    "        p.position_\"\"\"+nom_du_projet+\" AS position ORDER BY rôle\"\"\"\n",
    "    else:\n",
    "        raise \"Position inconnue\"\n",
    "    return graph.run(query).to_data_frame()"
   ]
  },
  {
   "cell_type": "code",
   "execution_count": 44,
   "metadata": {
    "scrolled": true
   },
   "outputs": [
    {
     "data": {
      "text/html": [
       "<div>\n",
       "<style scoped>\n",
       "    .dataframe tbody tr th:only-of-type {\n",
       "        vertical-align: middle;\n",
       "    }\n",
       "\n",
       "    .dataframe tbody tr th {\n",
       "        vertical-align: top;\n",
       "    }\n",
       "\n",
       "    .dataframe thead th {\n",
       "        text-align: right;\n",
       "    }\n",
       "</style>\n",
       "<table border=\"1\" class=\"dataframe\">\n",
       "  <thead>\n",
       "    <tr style=\"text-align: right;\">\n",
       "      <th></th>\n",
       "      <th>nom</th>\n",
       "      <th>entreprise</th>\n",
       "      <th>rôle</th>\n",
       "      <th>position</th>\n",
       "    </tr>\n",
       "  </thead>\n",
       "  <tbody>\n",
       "    <tr>\n",
       "      <th>0</th>\n",
       "      <td>Anne Gautier</td>\n",
       "      <td>DCorp</td>\n",
       "      <td>Technique</td>\n",
       "      <td>A convaincre</td>\n",
       "    </tr>\n",
       "    <tr>\n",
       "      <th>1</th>\n",
       "      <td>Joseph Thomas</td>\n",
       "      <td>DCorp</td>\n",
       "      <td>Technique</td>\n",
       "      <td>A convaincre</td>\n",
       "    </tr>\n",
       "  </tbody>\n",
       "</table>\n",
       "</div>"
      ],
      "text/plain": [
       "             nom entreprise       rôle      position\n",
       "0   Anne Gautier      DCorp  Technique  A convaincre\n",
       "1  Joseph Thomas      DCorp  Technique  A convaincre"
      ]
     },
     "execution_count": 44,
     "metadata": {},
     "output_type": "execute_result"
    }
   ],
   "source": [
    "positions_projet(\"D\",-1)"
   ]
  },
  {
   "cell_type": "markdown",
   "metadata": {},
   "source": [
    "Certains détracteurs subsistent : à contacter !"
   ]
  },
  {
   "cell_type": "markdown",
   "metadata": {},
   "source": [
    "### Trouver la distance entre deux personnes\n",
    "\n",
    "#### En fonction de leurs positions et de leurs entreprises"
   ]
  },
  {
   "cell_type": "code",
   "execution_count": 15,
   "metadata": {},
   "outputs": [],
   "source": [
    "def distance_pos(A,B):\n",
    "    query = \"\"\"\n",
    "    MATCH (a:Person)-[:EMPLOYE_DANS {position:'\"\"\"+A[0]+\"\"\"'}]-(:Company {titre:'\"\"\"+A[1]+\"\"\"'})\n",
    "    MATCH (b:Person)-[:EMPLOYE_DANS {position:'\"\"\"+B[0]+\"\"\"'}]-(:Company {titre:'\"\"\"+B[1]+\"\"\"'})\n",
    "    MATCH p = shortestPath((a)-[*]-(b))\n",
    "    RETURN a.nom,b.nom,length(p) AS distance\"\"\"\n",
    "    return graph.run(query).to_data_frame()"
   ]
  },
  {
   "cell_type": "code",
   "execution_count": 16,
   "metadata": {},
   "outputs": [],
   "source": [
    "A = [\"CEO\",\"ECorp\"]\n",
    "B = [\"CFO\",\"OBS\"]"
   ]
  },
  {
   "cell_type": "code",
   "execution_count": 17,
   "metadata": {},
   "outputs": [
    {
     "data": {
      "text/html": [
       "<div>\n",
       "<style scoped>\n",
       "    .dataframe tbody tr th:only-of-type {\n",
       "        vertical-align: middle;\n",
       "    }\n",
       "\n",
       "    .dataframe tbody tr th {\n",
       "        vertical-align: top;\n",
       "    }\n",
       "\n",
       "    .dataframe thead th {\n",
       "        text-align: right;\n",
       "    }\n",
       "</style>\n",
       "<table border=\"1\" class=\"dataframe\">\n",
       "  <thead>\n",
       "    <tr style=\"text-align: right;\">\n",
       "      <th></th>\n",
       "      <th>a.nom</th>\n",
       "      <th>b.nom</th>\n",
       "      <th>distance</th>\n",
       "    </tr>\n",
       "  </thead>\n",
       "  <tbody>\n",
       "    <tr>\n",
       "      <th>0</th>\n",
       "      <td>Joséphine Michel</td>\n",
       "      <td>Lucien Martin</td>\n",
       "      <td>2</td>\n",
       "    </tr>\n",
       "  </tbody>\n",
       "</table>\n",
       "</div>"
      ],
      "text/plain": [
       "              a.nom          b.nom  distance\n",
       "0  Joséphine Michel  Lucien Martin         2"
      ]
     },
     "execution_count": 17,
     "metadata": {},
     "output_type": "execute_result"
    }
   ],
   "source": [
    "distance_pos(A,B)"
   ]
  },
  {
   "cell_type": "markdown",
   "metadata": {},
   "source": [
    "#### En fonction de leurs noms"
   ]
  },
  {
   "cell_type": "code",
   "execution_count": 18,
   "metadata": {},
   "outputs": [],
   "source": [
    "def distance_noms(nomA,nomB):\n",
    "    query = \"MATCH p = shortestPath((a:Person {nom:'\"+nomA+\"'})-[*]-(b:Person {nom:'\"+nomB+\"'})) RETURN a.nom, b.nom, length(p) AS distance\"\n",
    "    return graph.run(query).to_data_frame()"
   ]
  },
  {
   "cell_type": "code",
   "execution_count": 19,
   "metadata": {},
   "outputs": [],
   "source": [
    "nomA = \"Joseph Leclerc\"\n",
    "nomB = \"Auguste Petit\""
   ]
  },
  {
   "cell_type": "code",
   "execution_count": 20,
   "metadata": {},
   "outputs": [
    {
     "data": {
      "text/html": [
       "<div>\n",
       "<style scoped>\n",
       "    .dataframe tbody tr th:only-of-type {\n",
       "        vertical-align: middle;\n",
       "    }\n",
       "\n",
       "    .dataframe tbody tr th {\n",
       "        vertical-align: top;\n",
       "    }\n",
       "\n",
       "    .dataframe thead th {\n",
       "        text-align: right;\n",
       "    }\n",
       "</style>\n",
       "<table border=\"1\" class=\"dataframe\">\n",
       "  <thead>\n",
       "    <tr style=\"text-align: right;\">\n",
       "      <th></th>\n",
       "      <th>a.nom</th>\n",
       "      <th>b.nom</th>\n",
       "      <th>distance</th>\n",
       "    </tr>\n",
       "  </thead>\n",
       "  <tbody>\n",
       "    <tr>\n",
       "      <th>0</th>\n",
       "      <td>Joseph Leclerc</td>\n",
       "      <td>Auguste Petit</td>\n",
       "      <td>2</td>\n",
       "    </tr>\n",
       "  </tbody>\n",
       "</table>\n",
       "</div>"
      ],
      "text/plain": [
       "            a.nom          b.nom  distance\n",
       "0  Joseph Leclerc  Auguste Petit         2"
      ]
     },
     "execution_count": 20,
     "metadata": {},
     "output_type": "execute_result"
    }
   ],
   "source": [
    "distance_noms(nomA,nomB)"
   ]
  },
  {
   "cell_type": "markdown",
   "metadata": {},
   "source": [
    "### Quels partenaires n'ont aucune relation directe avec OBS (ne sont pas \"surveillées\") ?"
   ]
  },
  {
   "cell_type": "code",
   "execution_count": 21,
   "metadata": {},
   "outputs": [],
   "source": [
    "def a_connaitre():\n",
    "    query = \"\"\"\n",
    "    MATCH (a:Company)-[:EMPLOYE_DANS]-(p:Person)\n",
    "    WHERE NOT a.titre = \"OBS\"\n",
    "    WITH p\n",
    "    MATCH (c:Company {titre:\"OBS\"})\n",
    "    MATCH short=shortestpath((c)-[*]-(p))\n",
    "    WITH p,length(short) AS len\n",
    "    WHERE len > 2\n",
    "    RETURN p.nom AS nom\n",
    "    \"\"\"\n",
    "    return graph.run(query).to_data_frame()"
   ]
  },
  {
   "cell_type": "code",
   "execution_count": 22,
   "metadata": {
    "scrolled": false
   },
   "outputs": [
    {
     "data": {
      "text/html": [
       "<div>\n",
       "<style scoped>\n",
       "    .dataframe tbody tr th:only-of-type {\n",
       "        vertical-align: middle;\n",
       "    }\n",
       "\n",
       "    .dataframe tbody tr th {\n",
       "        vertical-align: top;\n",
       "    }\n",
       "\n",
       "    .dataframe thead th {\n",
       "        text-align: right;\n",
       "    }\n",
       "</style>\n",
       "<table border=\"1\" class=\"dataframe\">\n",
       "  <thead>\n",
       "    <tr style=\"text-align: right;\">\n",
       "      <th></th>\n",
       "      <th>nom</th>\n",
       "    </tr>\n",
       "  </thead>\n",
       "  <tbody>\n",
       "    <tr>\n",
       "      <th>0</th>\n",
       "      <td>Jules Joly</td>\n",
       "    </tr>\n",
       "    <tr>\n",
       "      <th>1</th>\n",
       "      <td>Anne Gautier</td>\n",
       "    </tr>\n",
       "    <tr>\n",
       "      <th>2</th>\n",
       "      <td>Alice Fournier</td>\n",
       "    </tr>\n",
       "    <tr>\n",
       "      <th>3</th>\n",
       "      <td>Berthe Morin</td>\n",
       "    </tr>\n",
       "    <tr>\n",
       "      <th>4</th>\n",
       "      <td>René Guillaume</td>\n",
       "    </tr>\n",
       "    <tr>\n",
       "      <th>5</th>\n",
       "      <td>Georgette Gerard</td>\n",
       "    </tr>\n",
       "    <tr>\n",
       "      <th>6</th>\n",
       "      <td>Maria Payet</td>\n",
       "    </tr>\n",
       "    <tr>\n",
       "      <th>7</th>\n",
       "      <td>Henriette Bonnet</td>\n",
       "    </tr>\n",
       "    <tr>\n",
       "      <th>8</th>\n",
       "      <td>Maurice Duval</td>\n",
       "    </tr>\n",
       "    <tr>\n",
       "      <th>9</th>\n",
       "      <td>Pierre Leclerc</td>\n",
       "    </tr>\n",
       "    <tr>\n",
       "      <th>10</th>\n",
       "      <td>Marthe Guerin</td>\n",
       "    </tr>\n",
       "    <tr>\n",
       "      <th>11</th>\n",
       "      <td>Renée Morin</td>\n",
       "    </tr>\n",
       "  </tbody>\n",
       "</table>\n",
       "</div>"
      ],
      "text/plain": [
       "                 nom\n",
       "0         Jules Joly\n",
       "1       Anne Gautier\n",
       "2     Alice Fournier\n",
       "3       Berthe Morin\n",
       "4     René Guillaume\n",
       "5   Georgette Gerard\n",
       "6        Maria Payet\n",
       "7   Henriette Bonnet\n",
       "8      Maurice Duval\n",
       "9     Pierre Leclerc\n",
       "10     Marthe Guerin\n",
       "11       Renée Morin"
      ]
     },
     "execution_count": 22,
     "metadata": {},
     "output_type": "execute_result"
    }
   ],
   "source": [
    "a_connaitre()"
   ]
  },
  {
   "cell_type": "markdown",
   "metadata": {},
   "source": [
    "Nous avons une liste de 12 personnes potentielles à contacter !"
   ]
  },
  {
   "cell_type": "code",
   "execution_count": 67,
   "metadata": {},
   "outputs": [],
   "source": [
    "def bilan_de_situation(cas):\n",
    "    print(\"Voilà les personnes impliquées sur ce cas :\\n\")\n",
    "    A = positions_projet(cas)\n",
    "    A[\"connue\"] = A[\"nom\"].apply(connue)\n",
    "    print(A)"
   ]
  },
  {
   "cell_type": "code",
   "execution_count": 68,
   "metadata": {},
   "outputs": [
    {
     "name": "stdout",
     "output_type": "stream",
     "text": [
      "Voilà les personnes impliquées sur ce cas :\n",
      "\n",
      "                   nom entreprise        rôle      position  connue\n",
      "0         Anne Gautier      DCorp   Technique  A convaincre   False\n",
      "1        Joseph Thomas      DCorp   Technique  A convaincre    True\n",
      "2     Juliette Lefevre      CCorp  Commercial        Avocat    True\n",
      "3        Robert Renard      CCorp         CFO        Avocat    True\n",
      "4          Jules David      DCorp  Commercial        Avocat    True\n",
      "5     Lucien Guillaume      DCorp         CFO        Avocat    True\n",
      "6         Emile Moreau      DCorp  Commercial        Avocat    True\n",
      "7        Hélène Martin      DCorp  Commercial        Avocat    True\n",
      "8        Georges Morin      DCorp  Commercial        Avocat    True\n",
      "9     François Mathieu      CCorp  Commercial        Neutre    True\n",
      "10          Jules Joly      CCorp   Technique        Neutre   False\n",
      "11    Joséphine Thomas      DCorp         CEO        Neutre    True\n",
      "12      Alice Fournier      DCorp   Technique        Neutre   False\n",
      "13  Marguerite Lefevre      DCorp  Commercial        Neutre    True\n"
     ]
    }
   ],
   "source": [
    "bilan_de_situation(\"D\")"
   ]
  },
  {
   "cell_type": "code",
   "execution_count": null,
   "metadata": {},
   "outputs": [],
   "source": []
  },
  {
   "cell_type": "code",
   "execution_count": null,
   "metadata": {},
   "outputs": [],
   "source": []
  },
  {
   "cell_type": "code",
   "execution_count": null,
   "metadata": {},
   "outputs": [],
   "source": []
  },
  {
   "cell_type": "code",
   "execution_count": null,
   "metadata": {},
   "outputs": [],
   "source": []
  },
  {
   "cell_type": "code",
   "execution_count": null,
   "metadata": {},
   "outputs": [],
   "source": []
  },
  {
   "cell_type": "code",
   "execution_count": null,
   "metadata": {},
   "outputs": [],
   "source": []
  },
  {
   "cell_type": "code",
   "execution_count": null,
   "metadata": {},
   "outputs": [],
   "source": []
  },
  {
   "cell_type": "code",
   "execution_count": null,
   "metadata": {},
   "outputs": [],
   "source": []
  },
  {
   "cell_type": "code",
   "execution_count": null,
   "metadata": {},
   "outputs": [],
   "source": []
  },
  {
   "cell_type": "code",
   "execution_count": null,
   "metadata": {},
   "outputs": [],
   "source": []
  },
  {
   "cell_type": "code",
   "execution_count": null,
   "metadata": {},
   "outputs": [],
   "source": []
  },
  {
   "cell_type": "code",
   "execution_count": null,
   "metadata": {},
   "outputs": [],
   "source": []
  },
  {
   "cell_type": "code",
   "execution_count": null,
   "metadata": {},
   "outputs": [],
   "source": []
  },
  {
   "cell_type": "code",
   "execution_count": null,
   "metadata": {},
   "outputs": [],
   "source": []
  },
  {
   "cell_type": "code",
   "execution_count": null,
   "metadata": {},
   "outputs": [],
   "source": []
  },
  {
   "cell_type": "code",
   "execution_count": null,
   "metadata": {},
   "outputs": [],
   "source": []
  },
  {
   "cell_type": "code",
   "execution_count": null,
   "metadata": {},
   "outputs": [],
   "source": []
  },
  {
   "cell_type": "code",
   "execution_count": null,
   "metadata": {},
   "outputs": [],
   "source": []
  },
  {
   "cell_type": "code",
   "execution_count": null,
   "metadata": {},
   "outputs": [],
   "source": []
  }
 ],
 "metadata": {
  "kernelspec": {
   "display_name": "Python 3",
   "language": "python",
   "name": "python3"
  },
  "language_info": {
   "codemirror_mode": {
    "name": "ipython",
    "version": 3
   },
   "file_extension": ".py",
   "mimetype": "text/x-python",
   "name": "python",
   "nbconvert_exporter": "python",
   "pygments_lexer": "ipython3",
   "version": "3.8.3"
  },
  "nav_menu": {},
  "toc": {
   "navigate_menu": true,
   "number_sections": true,
   "sideBar": true,
   "threshold": 6,
   "toc_cell": false,
   "toc_section_display": "block",
   "toc_window_display": true
  },
  "toc_position": {
   "height": "616px",
   "left": "0px",
   "right": "20px",
   "top": "106px",
   "width": "213px"
  }
 },
 "nbformat": 4,
 "nbformat_minor": 4
}
