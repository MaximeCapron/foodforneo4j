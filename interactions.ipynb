{
 "cells": [
  {
   "cell_type": "markdown",
   "metadata": {},
   "source": [
    "Plan de la tâche - Stakeholders' map\n",
    "\n",
    "1. Création des types de données\n",
    "2. Création des tables csv\n",
    "3. Importation dans neo4j sous forme de noeuds-relations\n",
    "4. Design des requêtes\n",
    "5. Possibilité d'interroger la base via un notebook Jupyter\n"
   ]
  },
  {
   "cell_type": "markdown",
   "metadata": {},
   "source": [
    "Lien du github : https://github.com/MaximeCapron/foodforneo4j"
   ]
  },
  {
   "cell_type": "markdown",
   "metadata": {},
   "source": [
    "# 5. Possibilité d'interroger la base"
   ]
  },
  {
   "cell_type": "code",
   "execution_count": null,
   "metadata": {
    "collapsed": true
   },
   "outputs": [],
   "source": [
    "!pip install py2neo\n",
    "# If you see warnings or errors when you run this command, re-run the command. It should run with no errors."
   ]
  },
  {
   "cell_type": "code",
   "execution_count": 1,
   "metadata": {
    "collapsed": true
   },
   "outputs": [],
   "source": [
    "import numpy as np\n",
    "import pandas as pd\n",
    "from py2neo import Graph"
   ]
  },
  {
   "cell_type": "code",
   "execution_count": 2,
   "metadata": {
    "collapsed": true
   },
   "outputs": [],
   "source": [
    "graph = Graph(\"bolt://3.90.65.37:34875\", auth=(\"neo4j\", \"volumes-capes-retrievals\"))"
   ]
  },
  {
   "cell_type": "markdown",
   "metadata": {},
   "source": [
    "## Initialiser le graph"
   ]
  },
  {
   "cell_type": "code",
   "execution_count": null,
   "metadata": {
    "collapsed": true
   },
   "outputs": [],
   "source": [
    "def initialize():\n",
    "    \n",
    "    code_initialisation = \"\"\"\n",
    "\n",
    "    // Supprimer tout ce qui préexiste pour avoir une feuille propre\n",
    "\n",
    "    MATCH (n)\n",
    "    DETACH DELETE n ;\n",
    "\n",
    "\n",
    "    // Importer les noeuds \n",
    "\n",
    "    LOAD CSV WITH HEADERS FROM 'https://raw.githubusercontent.com/MaximeCapron/foodforneo4j/master/fichiers%20csv/Humains.csv' AS row FIELDTERMINATOR ';'\n",
    "    MERGE (p:Person {id: row.index})\n",
    "    ON CREATE SET p.nom = row.Nom, p.position_A = row.Position_A, p.position_B = row.Position_B, p.position_C = row.Position_C, p.position_D = row.Position_D, p.position_E = row.Position_E;\n",
    "\n",
    "\n",
    "    LOAD CSV WITH HEADERS FROM 'https://raw.githubusercontent.com/MaximeCapron/foodforneo4j/master/fichiers%20csv/Entreprises.csv' AS row FIELDTERMINATOR ';'\n",
    "    MERGE (c:Company {id: row.index})\n",
    "    ON CREATE SET c.titre = row.Titre;\n",
    "\n",
    "\n",
    "    // Importer les relations\n",
    "\n",
    "    LOAD CSV WITH HEADERS FROM 'https://raw.githubusercontent.com/MaximeCapron/foodforneo4j/master/fichiers%20csv/Relations1.csv' AS rel FIELDTERMINATOR ';'\n",
    "    MATCH (p1 {id: rel.index})\n",
    "    MATCH (p2 {id: rel.index_relation})\n",
    "    MERGE (p1)-[r:CONNAISSANCE]->(p2)\n",
    "    ON CREATE SET r.contexte = rel.contexte;\n",
    "\n",
    "\n",
    "    LOAD CSV WITH HEADERS FROM 'https://raw.githubusercontent.com/MaximeCapron/foodforneo4j/master/fichiers%20csv/Relations2.csv' AS rel FIELDTERMINATOR ';'\n",
    "    MATCH (p1 {id: rel.index})\n",
    "    MATCH (p2 {id: rel.index_relation})\n",
    "    MERGE (p1)-[r:SUPERIEUR]->(p2) ;\n",
    "\n",
    "\n",
    "    LOAD CSV WITH HEADERS FROM 'https://raw.githubusercontent.com/MaximeCapron/foodforneo4j/master/fichiers%20csv/Relations3.csv' AS rel FIELDTERMINATOR ';'\n",
    "    MATCH (c1 {id: rel.index})\n",
    "    MATCH (c2 {id: rel.index_relation})\n",
    "    MERGE (c1)-[r:FILIALE]->(c2) ;\n",
    "\n",
    "\n",
    "    LOAD CSV WITH HEADERS FROM 'https://raw.githubusercontent.com/MaximeCapron/foodforneo4j/master/fichiers%20csv/Relations4.csv' AS rel FIELDTERMINATOR ';'\n",
    "    MATCH (p {id: rel.index})\n",
    "    MATCH (c {id: rel.index_relation})\n",
    "    MERGE (p)-[r:EMPLOYE_DANS]->(c)\n",
    "    ON CREATE SET r.position = rel.position\n",
    "\n",
    "    \"\"\"\n",
    "    \n",
    "    graph.run(code_initialisation)"
   ]
  },
  {
   "cell_type": "markdown",
   "metadata": {},
   "source": [
    "## Ajouter ou supprimer un noeud"
   ]
  },
  {
   "cell_type": "markdown",
   "metadata": {},
   "source": [
    "2 solutions :\n",
    "- si vous voulez faire quelque chose de lourd, l'option préférable est probablement de modifier les bases de données, en ajoutant, modifiant ou supprimant des lignes, puis en faisant tourner la cellule ci-dessus.\n",
    "- si vous voulez simplement ajouter ou supprimer un noeud en vous basant sur ses caractéristiques, c'est faisable avec les fonctions ci-dessous."
   ]
  },
  {
   "cell_type": "markdown",
   "metadata": {},
   "source": [
    "Vous souhaitez ajouter un nouveau personnage. Il s'appelle Bob, on lui donne l'identifiant 5 (au hasard), et il est boulanger."
   ]
  },
  {
   "cell_type": "code",
   "execution_count": 3,
   "metadata": {
    "collapsed": true
   },
   "outputs": [],
   "source": [
    "dic = {\"id\":5,\"nom\":\"Bob\",\"emploi\":\"Boulanger\"}"
   ]
  },
  {
   "cell_type": "code",
   "execution_count": 4,
   "metadata": {
    "collapsed": true
   },
   "outputs": [],
   "source": [
    "def add_person(dic):\n",
    "    code = \"MERGE (p:Person {\"\n",
    "    for i in dic.keys():\n",
    "        if type(dic[i]) == str:\n",
    "            code += i + \":'\" + dic[i] + \"',\"\n",
    "        elif type(dic[i]) == int or type(dic[i]) == float:\n",
    "            code += i + \":\" + str(dic[i]) + \",\"\n",
    "        else:\n",
    "            raise \"type inconnu\"\n",
    "    code = code[:-1] + \"})\"\n",
    "    # return code\n",
    "    graph.run(code)"
   ]
  },
  {
   "cell_type": "code",
   "execution_count": 5,
   "metadata": {
    "collapsed": true
   },
   "outputs": [],
   "source": [
    "add_person(dic)"
   ]
  },
  {
   "cell_type": "markdown",
   "metadata": {},
   "source": [
    "Supprimons Bob."
   ]
  },
  {
   "cell_type": "code",
   "execution_count": 6,
   "metadata": {
    "collapsed": true
   },
   "outputs": [],
   "source": [
    "char = {\"nom\":\"Bob\"}"
   ]
  },
  {
   "cell_type": "code",
   "execution_count": 9,
   "metadata": {
    "collapsed": true
   },
   "outputs": [],
   "source": [
    "def suppr_person(char):\n",
    "    code = \"MATCH (p:Person {\"\n",
    "    for i in char.keys():\n",
    "        if type(char[i]) == str:\n",
    "            code += i + \":'\" + char[i] + \"',\"\n",
    "        elif type(char[i]) == int or type(char[i]) == float:\n",
    "            code += i + \":\" + str(char[i]) + \",\"\n",
    "        else:\n",
    "            raise \"type inconnu\"\n",
    "    code = code[:-1] + \"}) DETACH DELETE p\"\n",
    "    graph.run(code)"
   ]
  },
  {
   "cell_type": "code",
   "execution_count": 10,
   "metadata": {
    "collapsed": true
   },
   "outputs": [],
   "source": [
    "suppr_person(char)"
   ]
  },
  {
   "cell_type": "markdown",
   "metadata": {},
   "source": [
    "## Ajouter ou supprimer une relation"
   ]
  },
  {
   "cell_type": "markdown",
   "metadata": {},
   "source": [
    "Supposons que l'on a deux noeuds, Bob et Joe (les créer si besoin), et que l'on veut créer une relation entre eux deux. Précisions une caractéristique pour chacun d'entre deux et la nature de la relation, et allons-y !"
   ]
  },
  {
   "cell_type": "code",
   "execution_count": 11,
   "metadata": {
    "collapsed": true
   },
   "outputs": [],
   "source": [
    "n1 = {\"nom\":\"Bob\"}\n",
    "n2 = {\"nom\":\"Joe\"}\n",
    "rel = \"AMI\"\n",
    "dir_rel = 2"
   ]
  },
  {
   "cell_type": "markdown",
   "metadata": {},
   "source": [
    "NB. dir_rel représente la pointe de la flèche de la relation. dir_rel peut donc être égal à 0, 1 ou 2 (en fonction de si la relation n'a pas de sens particulier, ou bien pointe vers n1, ou bien pointe vers n2)."
   ]
  },
  {
   "cell_type": "code",
   "execution_count": 12,
   "metadata": {
    "collapsed": true
   },
   "outputs": [],
   "source": [
    "def add_relation(n1,n2,rel,dir_rel):\n",
    "    code = \"MATCH (p1:Person {\"\n",
    "    for i in n1.keys():\n",
    "        if type(n1[i]) == str:\n",
    "            code += i + \":'\" + n1[i] + \"',\"\n",
    "        elif type(n1[i]) == int or type(n1[i]) == float:\n",
    "            code += i + \":\" + str(n1[i]) + \",\"\n",
    "        else:\n",
    "            raise \"type inconnu\"\n",
    "    code = code[:-1] + \"}) MATCH (p2:Person {\"    \n",
    "    for i in n2.keys():\n",
    "        if type(n2[i]) == str:\n",
    "            code += i + \":'\" + n2[i] + \"',\"\n",
    "        elif type(n2[i]) == int or type(n2[i]) == float:\n",
    "            code += i + \":\" + str(n2[i]) + \",\"\n",
    "        else:\n",
    "            raise \"type inconnu\"\n",
    "    code = code[:-1] + \"}) \"\n",
    "    if dir_rel == 0 :\n",
    "        code += \"MERGE (p1)-[r : \"+rel+\"]-(p2)\"\n",
    "    elif dir_rel == 1 :\n",
    "        code += \"MERGE (p1)<-[r : \"+rel+\"]-(p2)\"\n",
    "    elif dir_rel == 2 :\n",
    "        code += \"MERGE (p1)-[r : \"+rel+\"]->(p2)\"\n",
    "    else :\n",
    "        raise \"Wrong dir_rel\"\n",
    "        \n",
    "    graph.run(code)"
   ]
  },
  {
   "cell_type": "code",
   "execution_count": 13,
   "metadata": {
    "collapsed": true
   },
   "outputs": [],
   "source": [
    "add_relation(n1,n2,rel,dir_rel)"
   ]
  },
  {
   "cell_type": "markdown",
   "metadata": {},
   "source": [
    "Supprimons cette relation."
   ]
  },
  {
   "cell_type": "code",
   "execution_count": 14,
   "metadata": {
    "collapsed": true
   },
   "outputs": [],
   "source": [
    "def suppr_relation(n1,n2,rel,dir_rel):\n",
    "    code = \"MATCH (p1:Person {\"\n",
    "    for i in n1.keys():\n",
    "        if type(n1[i]) == str:\n",
    "            code += i + \":'\" + n1[i] + \"',\"\n",
    "        elif type(n1[i]) == int or type(n1[i]) == float:\n",
    "            code += i + \":\" + str(n1[i]) + \",\"\n",
    "        else:\n",
    "            raise \"type inconnu\"\n",
    "    code = code[:-1] + \"}) MATCH (p2:Person {\"    \n",
    "    for i in n2.keys():\n",
    "        if type(n2[i]) == str:\n",
    "            code += i + \":'\" + n2[i] + \"',\"\n",
    "        elif type(n2[i]) == int or type(n2[i]) == float:\n",
    "            code += i + \":\" + str(n2[i]) + \",\"\n",
    "        else:\n",
    "            raise \"type inconnu\"\n",
    "    code = code[:-1] + \"}) \"\n",
    "    if dir_rel == 0 :\n",
    "        code += \"MATCH (p1)-[r : \"+rel+\"]-(p2) \"\n",
    "    elif dir_rel == 1 :\n",
    "        code += \"MATCH (p1)<-[r : \"+rel+\"]-(p2) \"\n",
    "    elif dir_rel == 2 :\n",
    "        code += \"MATCH (p1)-[r : \"+rel+\"]->(p2) \"\n",
    "    else :\n",
    "        raise \"Wrong dir_rel\"\n",
    "    code += \"DELETE r\"\n",
    "    \n",
    "    graph.run(code)"
   ]
  },
  {
   "cell_type": "code",
   "execution_count": 15,
   "metadata": {
    "collapsed": true
   },
   "outputs": [],
   "source": [
    "suppr_relation(n1,n2,rel,dir_rel)"
   ]
  },
  {
   "cell_type": "markdown",
   "metadata": {},
   "source": [
    "## Afficher des informations utiles"
   ]
  },
  {
   "cell_type": "markdown",
   "metadata": {},
   "source": [
    "### Qui reste-il à convaincre d'un projet ?"
   ]
  },
  {
   "cell_type": "code",
   "execution_count": 16,
   "metadata": {
    "collapsed": true
   },
   "outputs": [],
   "source": [
    "def à_convaincre(nom_du_projet):\n",
    "    query = \"\"\"\n",
    "    MATCH (p:Person)-[rel:EMPLOYE_DANS]-(c:Company)\n",
    "    WHERE p.position_\"\"\"+nom_du_projet+\"\"\" = \"A convaincre\"\n",
    "    RETURN p.nom AS nom, c.titre AS entreprise, rel.position AS position\n",
    "    \"\"\"\n",
    "\n",
    "    return graph.run(query).to_data_frame()"
   ]
  },
  {
   "cell_type": "code",
   "execution_count": 17,
   "metadata": {},
   "outputs": [
    {
     "data": {
      "text/html": [
       "<div>\n",
       "<style scoped>\n",
       "    .dataframe tbody tr th:only-of-type {\n",
       "        vertical-align: middle;\n",
       "    }\n",
       "\n",
       "    .dataframe tbody tr th {\n",
       "        vertical-align: top;\n",
       "    }\n",
       "\n",
       "    .dataframe thead th {\n",
       "        text-align: right;\n",
       "    }\n",
       "</style>\n",
       "<table border=\"1\" class=\"dataframe\">\n",
       "  <thead>\n",
       "    <tr style=\"text-align: right;\">\n",
       "      <th></th>\n",
       "      <th>nom</th>\n",
       "      <th>entreprise</th>\n",
       "      <th>position</th>\n",
       "    </tr>\n",
       "  </thead>\n",
       "  <tbody>\n",
       "    <tr>\n",
       "      <th>0</th>\n",
       "      <td>Anne Gautier</td>\n",
       "      <td>DCorp</td>\n",
       "      <td>Technique</td>\n",
       "    </tr>\n",
       "    <tr>\n",
       "      <th>1</th>\n",
       "      <td>Joseph Thomas</td>\n",
       "      <td>DCorp</td>\n",
       "      <td>Technique</td>\n",
       "    </tr>\n",
       "  </tbody>\n",
       "</table>\n",
       "</div>"
      ],
      "text/plain": [
       "             nom entreprise   position\n",
       "0   Anne Gautier      DCorp  Technique\n",
       "1  Joseph Thomas      DCorp  Technique"
      ]
     },
     "execution_count": 17,
     "metadata": {},
     "output_type": "execute_result"
    }
   ],
   "source": [
    "à_convaincre(\"D\")"
   ]
  },
  {
   "cell_type": "markdown",
   "metadata": {},
   "source": [
    "Certains détracteurs subsistent : à contacter !"
   ]
  },
  {
   "cell_type": "markdown",
   "metadata": {},
   "source": [
    "### Trouver la distance entre deux personnes\n",
    "\n",
    "#### En fonction de leurs positions et de leurs entreprises"
   ]
  },
  {
   "cell_type": "code",
   "execution_count": 36,
   "metadata": {
    "collapsed": true
   },
   "outputs": [],
   "source": [
    "def distance_pos(A,B):\n",
    "    query = \"\"\"\n",
    "    MATCH (a:Person)-[:EMPLOYE_DANS {position:'\"\"\"+A[0]+\"\"\"'}]-(:Company {titre:'\"\"\"+A[1]+\"\"\"'})\n",
    "    MATCH (b:Person)-[:EMPLOYE_DANS {position:'\"\"\"+B[0]+\"\"\"'}]-(:Company {titre:'\"\"\"+B[1]+\"\"\"'})\n",
    "    MATCH p = shortestPath((a)-[*]-(b))\n",
    "    RETURN a.nom,b.nom,length(p) AS distance\"\"\"\n",
    "    return graph.run(query).to_data_frame()"
   ]
  },
  {
   "cell_type": "code",
   "execution_count": 37,
   "metadata": {
    "collapsed": true
   },
   "outputs": [],
   "source": [
    "A = [\"CEO\",\"ECorp\"]\n",
    "B = [\"CFO\",\"OBS\"]"
   ]
  },
  {
   "cell_type": "code",
   "execution_count": 38,
   "metadata": {},
   "outputs": [
    {
     "data": {
      "text/html": [
       "<div>\n",
       "<style scoped>\n",
       "    .dataframe tbody tr th:only-of-type {\n",
       "        vertical-align: middle;\n",
       "    }\n",
       "\n",
       "    .dataframe tbody tr th {\n",
       "        vertical-align: top;\n",
       "    }\n",
       "\n",
       "    .dataframe thead th {\n",
       "        text-align: right;\n",
       "    }\n",
       "</style>\n",
       "<table border=\"1\" class=\"dataframe\">\n",
       "  <thead>\n",
       "    <tr style=\"text-align: right;\">\n",
       "      <th></th>\n",
       "      <th>a.nom</th>\n",
       "      <th>b.nom</th>\n",
       "      <th>distance</th>\n",
       "    </tr>\n",
       "  </thead>\n",
       "  <tbody>\n",
       "    <tr>\n",
       "      <th>0</th>\n",
       "      <td>Joséphine Michel</td>\n",
       "      <td>Lucien Martin</td>\n",
       "      <td>2</td>\n",
       "    </tr>\n",
       "  </tbody>\n",
       "</table>\n",
       "</div>"
      ],
      "text/plain": [
       "              a.nom          b.nom  distance\n",
       "0  Joséphine Michel  Lucien Martin         2"
      ]
     },
     "execution_count": 38,
     "metadata": {},
     "output_type": "execute_result"
    }
   ],
   "source": [
    "distance_pos(A,B)"
   ]
  },
  {
   "cell_type": "markdown",
   "metadata": {},
   "source": [
    "#### En fonction de leurs noms"
   ]
  },
  {
   "cell_type": "code",
   "execution_count": 39,
   "metadata": {
    "collapsed": true
   },
   "outputs": [],
   "source": [
    "def distance_noms(nomA,nomB):\n",
    "    query = \"MATCH p = shortestPath((a:Person {nom:'\"+nomA+\"'})-[*]-(b:Person {nom:'\"+nomB+\"'})) RETURN a.nom, b.nom, length(p) AS distance\"\n",
    "    return graph.run(query).to_data_frame()"
   ]
  },
  {
   "cell_type": "code",
   "execution_count": 40,
   "metadata": {
    "collapsed": true
   },
   "outputs": [],
   "source": [
    "nomA = \"Joseph Leclerc\"\n",
    "nomB = \"Auguste Petit\""
   ]
  },
  {
   "cell_type": "code",
   "execution_count": 41,
   "metadata": {},
   "outputs": [
    {
     "data": {
      "text/html": [
       "<div>\n",
       "<style scoped>\n",
       "    .dataframe tbody tr th:only-of-type {\n",
       "        vertical-align: middle;\n",
       "    }\n",
       "\n",
       "    .dataframe tbody tr th {\n",
       "        vertical-align: top;\n",
       "    }\n",
       "\n",
       "    .dataframe thead th {\n",
       "        text-align: right;\n",
       "    }\n",
       "</style>\n",
       "<table border=\"1\" class=\"dataframe\">\n",
       "  <thead>\n",
       "    <tr style=\"text-align: right;\">\n",
       "      <th></th>\n",
       "      <th>a.nom</th>\n",
       "      <th>b.nom</th>\n",
       "      <th>distance</th>\n",
       "    </tr>\n",
       "  </thead>\n",
       "  <tbody>\n",
       "    <tr>\n",
       "      <th>0</th>\n",
       "      <td>Joseph Leclerc</td>\n",
       "      <td>Auguste Petit</td>\n",
       "      <td>2</td>\n",
       "    </tr>\n",
       "  </tbody>\n",
       "</table>\n",
       "</div>"
      ],
      "text/plain": [
       "            a.nom          b.nom  distance\n",
       "0  Joseph Leclerc  Auguste Petit         2"
      ]
     },
     "execution_count": 41,
     "metadata": {},
     "output_type": "execute_result"
    }
   ],
   "source": [
    "distance_noms(nomA,nomB)"
   ]
  },
  {
   "cell_type": "markdown",
   "metadata": {},
   "source": [
    "### Quels partenaires n'ont aucune relation directe avec OBS (ne sont pas \"surveillés\") ?"
   ]
  },
  {
   "cell_type": "code",
   "execution_count": 42,
   "metadata": {
    "collapsed": true
   },
   "outputs": [],
   "source": [
    "def a_connaitre():\n",
    "    query = \"\"\"\n",
    "    MATCH (a:Company)-[:EMPLOYE_DANS]-(p:Person)\n",
    "    WHERE NOT a.titre = \"OBS\"\n",
    "    WITH p\n",
    "    MATCH (c:Company {titre:\"OBS\"})\n",
    "    MATCH short=shortestpath((c)-[*]-(p))\n",
    "    WITH p,length(short) AS len\n",
    "    WHERE len > 2\n",
    "    RETURN p.nom AS nom\n",
    "    \"\"\"\n",
    "    return graph.run(query).to_data_frame()"
   ]
  },
  {
   "cell_type": "code",
   "execution_count": 43,
   "metadata": {},
   "outputs": [
    {
     "data": {
      "text/html": [
       "<div>\n",
       "<style scoped>\n",
       "    .dataframe tbody tr th:only-of-type {\n",
       "        vertical-align: middle;\n",
       "    }\n",
       "\n",
       "    .dataframe tbody tr th {\n",
       "        vertical-align: top;\n",
       "    }\n",
       "\n",
       "    .dataframe thead th {\n",
       "        text-align: right;\n",
       "    }\n",
       "</style>\n",
       "<table border=\"1\" class=\"dataframe\">\n",
       "  <thead>\n",
       "    <tr style=\"text-align: right;\">\n",
       "      <th></th>\n",
       "      <th>nom</th>\n",
       "    </tr>\n",
       "  </thead>\n",
       "  <tbody>\n",
       "    <tr>\n",
       "      <th>0</th>\n",
       "      <td>Marthe Guerin</td>\n",
       "    </tr>\n",
       "    <tr>\n",
       "      <th>1</th>\n",
       "      <td>Maurice Duval</td>\n",
       "    </tr>\n",
       "    <tr>\n",
       "      <th>2</th>\n",
       "      <td>Pierre Leclerc</td>\n",
       "    </tr>\n",
       "    <tr>\n",
       "      <th>3</th>\n",
       "      <td>Henriette Bonnet</td>\n",
       "    </tr>\n",
       "    <tr>\n",
       "      <th>4</th>\n",
       "      <td>Renée Morin</td>\n",
       "    </tr>\n",
       "    <tr>\n",
       "      <th>5</th>\n",
       "      <td>Jules Joly</td>\n",
       "    </tr>\n",
       "    <tr>\n",
       "      <th>6</th>\n",
       "      <td>Anne Gautier</td>\n",
       "    </tr>\n",
       "    <tr>\n",
       "      <th>7</th>\n",
       "      <td>Alice Fournier</td>\n",
       "    </tr>\n",
       "    <tr>\n",
       "      <th>8</th>\n",
       "      <td>Maria Payet</td>\n",
       "    </tr>\n",
       "    <tr>\n",
       "      <th>9</th>\n",
       "      <td>Georgette Gerard</td>\n",
       "    </tr>\n",
       "    <tr>\n",
       "      <th>10</th>\n",
       "      <td>Berthe Morin</td>\n",
       "    </tr>\n",
       "    <tr>\n",
       "      <th>11</th>\n",
       "      <td>René Guillaume</td>\n",
       "    </tr>\n",
       "  </tbody>\n",
       "</table>\n",
       "</div>"
      ],
      "text/plain": [
       "                 nom\n",
       "0      Marthe Guerin\n",
       "1      Maurice Duval\n",
       "2     Pierre Leclerc\n",
       "3   Henriette Bonnet\n",
       "4        Renée Morin\n",
       "5         Jules Joly\n",
       "6       Anne Gautier\n",
       "7     Alice Fournier\n",
       "8        Maria Payet\n",
       "9   Georgette Gerard\n",
       "10      Berthe Morin\n",
       "11    René Guillaume"
      ]
     },
     "execution_count": 43,
     "metadata": {},
     "output_type": "execute_result"
    }
   ],
   "source": [
    "a_connaitre()"
   ]
  },
  {
   "cell_type": "markdown",
   "metadata": {},
   "source": [
    "Nous avons une liste de 12 personnes potentielles à contacter !"
   ]
  },
  {
   "cell_type": "markdown",
   "metadata": {},
   "source": [
    "## Afficher le graphique"
   ]
  },
  {
   "cell_type": "markdown",
   "metadata": {},
   "source": [
    "A faire."
   ]
  },
  {
   "cell_type": "code",
   "execution_count": null,
   "metadata": {
    "collapsed": true
   },
   "outputs": [],
   "source": []
  },
  {
   "cell_type": "code",
   "execution_count": null,
   "metadata": {
    "collapsed": true
   },
   "outputs": [],
   "source": []
  },
  {
   "cell_type": "code",
   "execution_count": null,
   "metadata": {
    "collapsed": true
   },
   "outputs": [],
   "source": []
  },
  {
   "cell_type": "code",
   "execution_count": null,
   "metadata": {
    "collapsed": true
   },
   "outputs": [],
   "source": []
  },
  {
   "cell_type": "code",
   "execution_count": null,
   "metadata": {
    "collapsed": true
   },
   "outputs": [],
   "source": []
  },
  {
   "cell_type": "code",
   "execution_count": null,
   "metadata": {
    "collapsed": true
   },
   "outputs": [],
   "source": []
  },
  {
   "cell_type": "code",
   "execution_count": null,
   "metadata": {
    "collapsed": true
   },
   "outputs": [],
   "source": []
  },
  {
   "cell_type": "code",
   "execution_count": null,
   "metadata": {
    "collapsed": true
   },
   "outputs": [],
   "source": []
  },
  {
   "cell_type": "code",
   "execution_count": null,
   "metadata": {
    "collapsed": true
   },
   "outputs": [],
   "source": []
  },
  {
   "cell_type": "code",
   "execution_count": null,
   "metadata": {
    "collapsed": true
   },
   "outputs": [],
   "source": []
  },
  {
   "cell_type": "code",
   "execution_count": null,
   "metadata": {
    "collapsed": true
   },
   "outputs": [],
   "source": []
  },
  {
   "cell_type": "code",
   "execution_count": null,
   "metadata": {
    "collapsed": true
   },
   "outputs": [],
   "source": []
  },
  {
   "cell_type": "code",
   "execution_count": null,
   "metadata": {
    "collapsed": true
   },
   "outputs": [],
   "source": []
  },
  {
   "cell_type": "code",
   "execution_count": null,
   "metadata": {
    "collapsed": true
   },
   "outputs": [],
   "source": []
  },
  {
   "cell_type": "code",
   "execution_count": null,
   "metadata": {
    "collapsed": true
   },
   "outputs": [],
   "source": []
  },
  {
   "cell_type": "code",
   "execution_count": null,
   "metadata": {
    "collapsed": true
   },
   "outputs": [],
   "source": []
  },
  {
   "cell_type": "code",
   "execution_count": null,
   "metadata": {
    "collapsed": true
   },
   "outputs": [],
   "source": []
  },
  {
   "cell_type": "code",
   "execution_count": null,
   "metadata": {
    "collapsed": true
   },
   "outputs": [],
   "source": []
  },
  {
   "cell_type": "code",
   "execution_count": null,
   "metadata": {
    "collapsed": true
   },
   "outputs": [],
   "source": []
  },
  {
   "cell_type": "code",
   "execution_count": null,
   "metadata": {
    "collapsed": true
   },
   "outputs": [],
   "source": []
  },
  {
   "cell_type": "code",
   "execution_count": null,
   "metadata": {
    "collapsed": true
   },
   "outputs": [],
   "source": []
  },
  {
   "cell_type": "code",
   "execution_count": null,
   "metadata": {
    "collapsed": true
   },
   "outputs": [],
   "source": []
  },
  {
   "cell_type": "code",
   "execution_count": null,
   "metadata": {
    "collapsed": true
   },
   "outputs": [],
   "source": []
  },
  {
   "cell_type": "code",
   "execution_count": null,
   "metadata": {
    "collapsed": true
   },
   "outputs": [],
   "source": []
  },
  {
   "cell_type": "code",
   "execution_count": null,
   "metadata": {
    "collapsed": true
   },
   "outputs": [],
   "source": []
  },
  {
   "cell_type": "code",
   "execution_count": null,
   "metadata": {
    "collapsed": true
   },
   "outputs": [],
   "source": []
  },
  {
   "cell_type": "code",
   "execution_count": null,
   "metadata": {
    "collapsed": true
   },
   "outputs": [],
   "source": []
  },
  {
   "cell_type": "code",
   "execution_count": null,
   "metadata": {
    "collapsed": true
   },
   "outputs": [],
   "source": []
  },
  {
   "cell_type": "code",
   "execution_count": null,
   "metadata": {
    "collapsed": true
   },
   "outputs": [],
   "source": []
  },
  {
   "cell_type": "code",
   "execution_count": null,
   "metadata": {
    "collapsed": true
   },
   "outputs": [],
   "source": []
  },
  {
   "cell_type": "code",
   "execution_count": null,
   "metadata": {
    "collapsed": true
   },
   "outputs": [],
   "source": []
  },
  {
   "cell_type": "code",
   "execution_count": null,
   "metadata": {
    "collapsed": true
   },
   "outputs": [],
   "source": []
  },
  {
   "cell_type": "code",
   "execution_count": null,
   "metadata": {
    "collapsed": true
   },
   "outputs": [],
   "source": []
  },
  {
   "cell_type": "code",
   "execution_count": null,
   "metadata": {
    "collapsed": true
   },
   "outputs": [],
   "source": []
  },
  {
   "cell_type": "code",
   "execution_count": null,
   "metadata": {
    "collapsed": true
   },
   "outputs": [],
   "source": []
  },
  {
   "cell_type": "code",
   "execution_count": null,
   "metadata": {
    "collapsed": true
   },
   "outputs": [],
   "source": []
  },
  {
   "cell_type": "code",
   "execution_count": null,
   "metadata": {
    "collapsed": true
   },
   "outputs": [],
   "source": []
  },
  {
   "cell_type": "code",
   "execution_count": null,
   "metadata": {
    "collapsed": true
   },
   "outputs": [],
   "source": []
  },
  {
   "cell_type": "code",
   "execution_count": null,
   "metadata": {
    "collapsed": true
   },
   "outputs": [],
   "source": []
  },
  {
   "cell_type": "code",
   "execution_count": null,
   "metadata": {
    "collapsed": true
   },
   "outputs": [],
   "source": []
  },
  {
   "cell_type": "code",
   "execution_count": null,
   "metadata": {
    "collapsed": true
   },
   "outputs": [],
   "source": []
  },
  {
   "cell_type": "code",
   "execution_count": null,
   "metadata": {
    "collapsed": true
   },
   "outputs": [],
   "source": []
  },
  {
   "cell_type": "code",
   "execution_count": null,
   "metadata": {
    "collapsed": true
   },
   "outputs": [],
   "source": []
  },
  {
   "cell_type": "code",
   "execution_count": null,
   "metadata": {
    "collapsed": true
   },
   "outputs": [],
   "source": []
  },
  {
   "cell_type": "code",
   "execution_count": null,
   "metadata": {
    "collapsed": true
   },
   "outputs": [],
   "source": []
  }
 ],
 "metadata": {
  "kernelspec": {
   "display_name": "Python 3",
   "language": "python",
   "name": "python3"
  },
  "language_info": {
   "codemirror_mode": {
    "name": "ipython",
    "version": 3
   },
   "file_extension": ".py",
   "mimetype": "text/x-python",
   "name": "python",
   "nbconvert_exporter": "python",
   "pygments_lexer": "ipython3",
   "version": "3.6.3"
  },
  "nav_menu": {},
  "toc": {
   "navigate_menu": true,
   "number_sections": true,
   "sideBar": true,
   "threshold": 6,
   "toc_cell": false,
   "toc_section_display": "block",
   "toc_window_display": true
  },
  "toc_position": {
   "height": "616px",
   "left": "0px",
   "right": "20px",
   "top": "106px",
   "width": "213px"
  }
 },
 "nbformat": 4,
 "nbformat_minor": 4
}
