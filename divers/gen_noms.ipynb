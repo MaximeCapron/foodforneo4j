{
 "cells": [
  {
   "cell_type": "markdown",
   "metadata": {},
   "source": [
    "Plan de la tâche - Stakeholders' map\n",
    "\n",
    "1. Création des types de données\n",
    "2. Création des tables csv\n",
    "3. Importation dans neo4j sous forme de noeuds-relations\n",
    "4. Design des requêtes\n",
    "5. Possibilité d'interroger la base via un notebook Jupyter\n"
   ]
  },
  {
   "cell_type": "markdown",
   "metadata": {},
   "source": [
    "# Création de tables CSV\n",
    "\n",
    "## Design des noms"
   ]
  },
  {
   "cell_type": "code",
   "execution_count": 1,
   "metadata": {
    "collapsed": true
   },
   "outputs": [],
   "source": [
    "from random import random\n",
    "import numpy as np\n",
    "import pandas as pd"
   ]
  },
  {
   "cell_type": "code",
   "execution_count": 2,
   "metadata": {
    "collapsed": true
   },
   "outputs": [],
   "source": [
    "#noms de famille les plus courants en France entre 1891 et 1900\n",
    "nom = [\"Martin\", \"Bernard\", \"Thomas\", \"Petit\", \"Robert\", \"Richard\", \"Durand\", \"Dubois\", \"Moreau\", \"Laurent\", \"Simon\", \"Michel\", \"Lefèvre\", \"Leroy\", \"Roux\", \"David\", \"Bertrand\", \"Morel\", \"Fournier\", \"Girard\", \"Bonnet\", \"Dupont\", \"Lambert\", \"Fontaine\", \"Rousseau\", \"Vincent\", \"Muller\", \"Lefevre\", \"Faure\", \"Andre\", \"Mercier\", \"Blanc\", \"Guerin\", \"Boyer\", \"Garnier\", \"Chevalier\", \"Francois\", \"Legrand\", \"Gauthier\", \"Garcia\", \"Perrin\", \"Robin\", \"Clement\", \"Morin\", \"Nicolas\", \"Henry\", \"Roussel\", \"Mathieu\", \"Gautier\", \"Masson\", \"Marchand\", \"Duval\", \"Denis\", \"Dumont\", \"Marie\", \"Lemaire\", \"Noel\", \"Meyer\", \"Dufour\", \"Meunier\", \"Brun\", \"Blanchard\", \"Giraud\", \"Joly\", \"Riviere\", \"Lucas\", \"Brunet\", \"Gaillard\", \"Barbier\", \"Arnaud\", \"Martinez\", \"Gerard\", \"Roche\", \"Renard\", \"Schmitt\", \"Roy\", \"Leroux\", \"Colin\", \"Vidal\", \"Caron\", \"Picard\", \"Roger\", \"Fabre\", \"Aubert\", \"Lemoine\", \"Renaud\", \"Dumas\", \"Lacroix\", \"Olivier\", \"Philippe\", \"Bourgeois\", \"Pierre\", \"Benoit\", \"Rey\", \"Leclerc\", \"Payet\", \"Rolland\", \"Leclercq\", \"Guillaume\", \"Lecomte\"]\n",
    "\n",
    "#prénoms les plus donnés en France en 1900\n",
    "prénom = [\"Marie\",\"Jean\",\"Jeanne\",\"Louis\",\"Marguerite\",\"Pierre\",\"Joseph\",\"Germaine\",\"Henri\",\"Louise\",\"Marcel\",\"Georges\",\"André\",\"Yvonne\",\"Madeleine\",\"Suzanne\",\"Paul\",\"René\",\"Charles\",\"François\",\"Emile\",\"Maurice\",\"Marthe\",\"Marcelle\",\"Maria\",\"Anne\",\"Albert\",\"Eugène\",\"Joséphine\",\"Léon\",\"Eugénie\",\"Berthe\",\"Henriette\",\"Lucien\",\"Alice\",\"Hélène\",\"Lucie\",\"Jules\",\"Auguste\",\"Georgette\",\"Robert\",\"Lucienne\",\"Renée\",\"Juliette\",\"Fernand\",\"Gaston\",\"Raymond\",\"Antoine\",\"Roger\",\"Gabrielle\"]"
   ]
  },
  {
   "cell_type": "code",
   "execution_count": 3,
   "metadata": {
    "collapsed": true
   },
   "outputs": [],
   "source": [
    "#nombre de gens à créer\n",
    "N = 100"
   ]
  },
  {
   "cell_type": "code",
   "execution_count": 4,
   "metadata": {
    "collapsed": true
   },
   "outputs": [],
   "source": [
    "def gen_nom():\n",
    "    Prenom = prénom[int(random()*len(prénom))]\n",
    "    Nom = Prenom\n",
    "    while Prenom == Nom:\n",
    "        Nom = nom[int(random()*len(nom))]\n",
    "    return Prenom+' '+Nom"
   ]
  },
  {
   "cell_type": "code",
   "execution_count": 5,
   "metadata": {
    "collapsed": true,
    "scrolled": true
   },
   "outputs": [],
   "source": [
    "personne = []\n",
    "for i in range(N):\n",
    "    personne += [gen_nom()]"
   ]
  },
  {
   "cell_type": "code",
   "execution_count": 6,
   "metadata": {},
   "outputs": [
    {
     "data": {
      "text/html": [
       "<div>\n",
       "<style scoped>\n",
       "    .dataframe tbody tr th:only-of-type {\n",
       "        vertical-align: middle;\n",
       "    }\n",
       "\n",
       "    .dataframe tbody tr th {\n",
       "        vertical-align: top;\n",
       "    }\n",
       "\n",
       "    .dataframe thead th {\n",
       "        text-align: right;\n",
       "    }\n",
       "</style>\n",
       "<table border=\"1\" class=\"dataframe\">\n",
       "  <thead>\n",
       "    <tr style=\"text-align: right;\">\n",
       "      <th></th>\n",
       "      <th>Nom</th>\n",
       "    </tr>\n",
       "  </thead>\n",
       "  <tbody>\n",
       "    <tr>\n",
       "      <th>0</th>\n",
       "      <td>Germaine Lacroix</td>\n",
       "    </tr>\n",
       "    <tr>\n",
       "      <th>1</th>\n",
       "      <td>Renée Andre</td>\n",
       "    </tr>\n",
       "    <tr>\n",
       "      <th>2</th>\n",
       "      <td>Marcelle Faure</td>\n",
       "    </tr>\n",
       "    <tr>\n",
       "      <th>3</th>\n",
       "      <td>Jeanne Roche</td>\n",
       "    </tr>\n",
       "    <tr>\n",
       "      <th>4</th>\n",
       "      <td>Joséphine Blanc</td>\n",
       "    </tr>\n",
       "    <tr>\n",
       "      <th>...</th>\n",
       "      <td>...</td>\n",
       "    </tr>\n",
       "    <tr>\n",
       "      <th>95</th>\n",
       "      <td>Joséphine Olivier</td>\n",
       "    </tr>\n",
       "    <tr>\n",
       "      <th>96</th>\n",
       "      <td>André Leclerc</td>\n",
       "    </tr>\n",
       "    <tr>\n",
       "      <th>97</th>\n",
       "      <td>René Perrin</td>\n",
       "    </tr>\n",
       "    <tr>\n",
       "      <th>98</th>\n",
       "      <td>Yvonne Bourgeois</td>\n",
       "    </tr>\n",
       "    <tr>\n",
       "      <th>99</th>\n",
       "      <td>Georges Marchand</td>\n",
       "    </tr>\n",
       "  </tbody>\n",
       "</table>\n",
       "<p>100 rows × 1 columns</p>\n",
       "</div>"
      ],
      "text/plain": [
       "                  Nom\n",
       "0    Germaine Lacroix\n",
       "1         Renée Andre\n",
       "2      Marcelle Faure\n",
       "3        Jeanne Roche\n",
       "4     Joséphine Blanc\n",
       "..                ...\n",
       "95  Joséphine Olivier\n",
       "96      André Leclerc\n",
       "97        René Perrin\n",
       "98   Yvonne Bourgeois\n",
       "99   Georges Marchand\n",
       "\n",
       "[100 rows x 1 columns]"
      ]
     },
     "execution_count": 6,
     "metadata": {},
     "output_type": "execute_result"
    }
   ],
   "source": [
    "pd.DataFrame(personne,columns=[\"Nom\"])"
   ]
  },
  {
   "cell_type": "code",
   "execution_count": 7,
   "metadata": {
    "collapsed": true
   },
   "outputs": [],
   "source": [
    "pd.DataFrame(personne,columns=[\"Nom\"]).to_excel(\"Humains.xlsx\")"
   ]
  },
  {
   "cell_type": "markdown",
   "metadata": {},
   "source": [
    "# Possibilité d'interroger la base"
   ]
  },
  {
   "cell_type": "code",
   "execution_count": 3,
   "metadata": {
    "scrolled": true
   },
   "outputs": [
    {
     "name": "stdout",
     "output_type": "stream",
     "text": [
      "Requirement already satisfied: py2neo in /Users/maxime.capron/anaconda3/lib/python3.6/site-packages (4.1.3)\n",
      "\u001b[33mWARNING: You are using pip version 20.1.1; however, version 20.2.2 is available.\n",
      "You should consider upgrading via the '/Users/maxime.capron/anaconda3/bin/python3 -m pip install --upgrade pip' command.\u001b[0m\n"
     ]
    }
   ],
   "source": [
    "!pip install py2neo\n",
    "# If you see warnings or errors when you run this command, re-run the command. It should run with no errors."
   ]
  },
  {
   "cell_type": "code",
   "execution_count": 1,
   "metadata": {},
   "outputs": [],
   "source": [
    "from py2neo import Graph"
   ]
  },
  {
   "cell_type": "code",
   "execution_count": 2,
   "metadata": {},
   "outputs": [],
   "source": [
    "graph = Graph(\"bolt://3.90.65.37:34875\", auth=(\"neo4j\", \"volumes-capes-retrievals\"))"
   ]
  },
  {
   "cell_type": "markdown",
   "metadata": {},
   "source": [
    "Qui reste-il à convaincre du projet D ?"
   ]
  },
  {
   "cell_type": "code",
   "execution_count": 6,
   "metadata": {},
   "outputs": [
    {
     "data": {
      "text/html": [
       "<div>\n",
       "<style scoped>\n",
       "    .dataframe tbody tr th:only-of-type {\n",
       "        vertical-align: middle;\n",
       "    }\n",
       "\n",
       "    .dataframe tbody tr th {\n",
       "        vertical-align: top;\n",
       "    }\n",
       "\n",
       "    .dataframe thead th {\n",
       "        text-align: right;\n",
       "    }\n",
       "</style>\n",
       "<table border=\"1\" class=\"dataframe\">\n",
       "  <thead>\n",
       "    <tr style=\"text-align: right;\">\n",
       "      <th></th>\n",
       "      <th>nom</th>\n",
       "      <th>entreprise</th>\n",
       "      <th>position</th>\n",
       "    </tr>\n",
       "  </thead>\n",
       "  <tbody>\n",
       "    <tr>\n",
       "      <th>0</th>\n",
       "      <td>Anne Gautier</td>\n",
       "      <td>DCorp</td>\n",
       "      <td>Technique</td>\n",
       "    </tr>\n",
       "    <tr>\n",
       "      <th>1</th>\n",
       "      <td>Joseph Thomas</td>\n",
       "      <td>DCorp</td>\n",
       "      <td>Technique</td>\n",
       "    </tr>\n",
       "  </tbody>\n",
       "</table>\n",
       "</div>"
      ],
      "text/plain": [
       "             nom entreprise   position\n",
       "0   Anne Gautier      DCorp  Technique\n",
       "1  Joseph Thomas      DCorp  Technique"
      ]
     },
     "execution_count": 6,
     "metadata": {},
     "output_type": "execute_result"
    }
   ],
   "source": [
    "exploratory_query = \"\"\"\n",
    "MATCH (p:Person)-[rel:EMPLOYE_DANS]-(c:Company)\n",
    "WHERE p.position_D = \"A convaincre\"'\n",
    "RETURN p.nom AS nom, c.titre AS entreprise, rel.position AS position\n",
    "\"\"\"\n",
    "\n",
    "graph.run(exploratory_query).to_data_frame()"
   ]
  },
  {
   "cell_type": "markdown",
   "metadata": {},
   "source": [
    "Chercher les détracteurs d'un projet"
   ]
  },
  {
   "cell_type": "code",
   "execution_count": 10,
   "metadata": {},
   "outputs": [],
   "source": [
    "def détracteurs(nom_du_projet):\n",
    "    exploratory_query = \"\"\"\n",
    "    MATCH (p:Person)-[rel:EMPLOYE_DANS]-(c:Company)\n",
    "    WHERE p.position_\"\"\"+nom_du_projet+\"\"\" = \"A convaincre\"\n",
    "    RETURN p.nom AS nom, c.titre AS entreprise, rel.position AS position\n",
    "    \"\"\"\n",
    "\n",
    "    return graph.run(exploratory_query).to_data_frame()"
   ]
  },
  {
   "cell_type": "code",
   "execution_count": 11,
   "metadata": {},
   "outputs": [
    {
     "data": {
      "text/html": [
       "<div>\n",
       "<style scoped>\n",
       "    .dataframe tbody tr th:only-of-type {\n",
       "        vertical-align: middle;\n",
       "    }\n",
       "\n",
       "    .dataframe tbody tr th {\n",
       "        vertical-align: top;\n",
       "    }\n",
       "\n",
       "    .dataframe thead th {\n",
       "        text-align: right;\n",
       "    }\n",
       "</style>\n",
       "<table border=\"1\" class=\"dataframe\">\n",
       "  <thead>\n",
       "    <tr style=\"text-align: right;\">\n",
       "      <th></th>\n",
       "      <th>nom</th>\n",
       "      <th>entreprise</th>\n",
       "      <th>position</th>\n",
       "    </tr>\n",
       "  </thead>\n",
       "  <tbody>\n",
       "    <tr>\n",
       "      <th>0</th>\n",
       "      <td>Anne Gautier</td>\n",
       "      <td>DCorp</td>\n",
       "      <td>Technique</td>\n",
       "    </tr>\n",
       "    <tr>\n",
       "      <th>1</th>\n",
       "      <td>Joseph Thomas</td>\n",
       "      <td>DCorp</td>\n",
       "      <td>Technique</td>\n",
       "    </tr>\n",
       "  </tbody>\n",
       "</table>\n",
       "</div>"
      ],
      "text/plain": [
       "             nom entreprise   position\n",
       "0   Anne Gautier      DCorp  Technique\n",
       "1  Joseph Thomas      DCorp  Technique"
      ]
     },
     "execution_count": 11,
     "metadata": {},
     "output_type": "execute_result"
    }
   ],
   "source": [
    "détracteurs(\"D\")"
   ]
  },
  {
   "cell_type": "markdown",
   "metadata": {},
   "source": [
    "Initialiser le graph"
   ]
  },
  {
   "cell_type": "code",
   "execution_count": 14,
   "metadata": {
    "collapsed": true
   },
   "outputs": [],
   "source": [
    "def initialize():\n",
    "    \n",
    "    code_initialisation = \"\"\"\n",
    "\n",
    "    // Supprimer tout ce qui préexiste pour avoir une feuille propre\n",
    "\n",
    "    MATCH (n)\n",
    "    DETACH DELETE n ;\n",
    "\n",
    "\n",
    "    // Importer les noeuds \n",
    "\n",
    "    LOAD CSV WITH HEADERS FROM 'https://raw.githubusercontent.com/MaximeCapron/foodforneo4j/master/fichiers%20csv/Humains.csv' AS row FIELDTERMINATOR ';'\n",
    "    MERGE (p:Person {id: row.index})\n",
    "    ON CREATE SET p.nom = row.Nom, p.position_A = row.Position_A, p.position_B = row.Position_B, p.position_C = row.Position_C, p.position_D = row.Position_D, p.position_E = row.Position_E;\n",
    "\n",
    "\n",
    "    LOAD CSV WITH HEADERS FROM 'https://raw.githubusercontent.com/MaximeCapron/foodforneo4j/master/fichiers%20csv/Entreprises.csv' AS row FIELDTERMINATOR ';'\n",
    "    MERGE (c:Company {id: row.index})\n",
    "    ON CREATE SET c.titre = row.Titre;\n",
    "\n",
    "\n",
    "    // Importer les relations\n",
    "\n",
    "    LOAD CSV WITH HEADERS FROM 'https://raw.githubusercontent.com/MaximeCapron/foodforneo4j/master/fichiers%20csv/Relations1.csv' AS rel FIELDTERMINATOR ';'\n",
    "    MATCH (p1 {id: rel.index})\n",
    "    MATCH (p2 {id: rel.index_relation})\n",
    "    MERGE (p1)-[r:CONNAISSANCE]->(p2)\n",
    "    ON CREATE SET r.contexte = rel.contexte;\n",
    "\n",
    "\n",
    "    LOAD CSV WITH HEADERS FROM 'https://raw.githubusercontent.com/MaximeCapron/foodforneo4j/master/fichiers%20csv/Relations2.csv' AS rel FIELDTERMINATOR ';'\n",
    "    MATCH (p1 {id: rel.index})\n",
    "    MATCH (p2 {id: rel.index_relation})\n",
    "    MERGE (p1)-[r:SUPERIEUR]->(p2) ;\n",
    "\n",
    "\n",
    "    LOAD CSV WITH HEADERS FROM 'https://raw.githubusercontent.com/MaximeCapron/foodforneo4j/master/fichiers%20csv/Relations3.csv' AS rel FIELDTERMINATOR ';'\n",
    "    MATCH (c1 {id: rel.index})\n",
    "    MATCH (c2 {id: rel.index_relation})\n",
    "    MERGE (c1)-[r:FILIALE]->(c2) ;\n",
    "\n",
    "\n",
    "    LOAD CSV WITH HEADERS FROM 'https://raw.githubusercontent.com/MaximeCapron/foodforneo4j/master/fichiers%20csv/Relations4.csv' AS rel FIELDTERMINATOR ';'\n",
    "    MATCH (p {id: rel.index})\n",
    "    MATCH (c {id: rel.index_relation})\n",
    "    MERGE (p)-[r:EMPLOYE_DANS]->(c)\n",
    "    ON CREATE SET r.position = rel.position\n",
    "\n",
    "    \"\"\"\n",
    "    \n",
    "    graph.run(code_initialisation)"
   ]
  },
  {
   "cell_type": "markdown",
   "metadata": {},
   "source": [
    "Add or delete a node"
   ]
  },
  {
   "cell_type": "code",
   "execution_count": 21,
   "metadata": {
    "collapsed": true
   },
   "outputs": [],
   "source": [
    "def add_person(nom_person):\n",
    "    \n",
    "    code = \"\"\"MERGE (p:Person {nom: \"\"\"+nom_person+\"\"\"})\"\"\"\n",
    "    graph.run(code)"
   ]
  },
  {
   "cell_type": "code",
   "execution_count": null,
   "metadata": {
    "collapsed": true
   },
   "outputs": [],
   "source": [
    "add_person(\"'Bob'\")"
   ]
  },
  {
   "cell_type": "code",
   "execution_count": 27,
   "metadata": {},
   "outputs": [
    {
     "data": {
      "text/html": [
       "<div>\n",
       "<style scoped>\n",
       "    .dataframe tbody tr th:only-of-type {\n",
       "        vertical-align: middle;\n",
       "    }\n",
       "\n",
       "    .dataframe tbody tr th {\n",
       "        vertical-align: top;\n",
       "    }\n",
       "\n",
       "    .dataframe thead th {\n",
       "        text-align: right;\n",
       "    }\n",
       "</style>\n",
       "<table border=\"1\" class=\"dataframe\">\n",
       "  <thead>\n",
       "    <tr style=\"text-align: right;\">\n",
       "      <th></th>\n",
       "      <th>p.nom</th>\n",
       "    </tr>\n",
       "  </thead>\n",
       "  <tbody>\n",
       "    <tr>\n",
       "      <th>0</th>\n",
       "      <td>Bob</td>\n",
       "    </tr>\n",
       "  </tbody>\n",
       "</table>\n",
       "</div>"
      ],
      "text/plain": [
       "  p.nom\n",
       "0   Bob"
      ]
     },
     "execution_count": 27,
     "metadata": {},
     "output_type": "execute_result"
    }
   ],
   "source": [
    "graph.run(\"\"\"\n",
    "MATCH (p:Person {nom:'Bob'})\n",
    "RETURN p.nom\"\"\").to_data_frame()"
   ]
  },
  {
   "cell_type": "code",
   "execution_count": 22,
   "metadata": {},
   "outputs": [],
   "source": []
  },
  {
   "cell_type": "code",
   "execution_count": null,
   "metadata": {
    "collapsed": true
   },
   "outputs": [],
   "source": []
  },
  {
   "cell_type": "code",
   "execution_count": null,
   "metadata": {
    "collapsed": true
   },
   "outputs": [],
   "source": []
  },
  {
   "cell_type": "code",
   "execution_count": null,
   "metadata": {
    "collapsed": true
   },
   "outputs": [],
   "source": []
  },
  {
   "cell_type": "code",
   "execution_count": null,
   "metadata": {
    "collapsed": true
   },
   "outputs": [],
   "source": []
  }
 ],
 "metadata": {
  "kernelspec": {
   "display_name": "Python 3",
   "language": "python",
   "name": "python3"
  },
  "language_info": {
   "codemirror_mode": {
    "name": "ipython",
    "version": 3
   },
   "file_extension": ".py",
   "mimetype": "text/x-python",
   "name": "python",
   "nbconvert_exporter": "python",
   "pygments_lexer": "ipython3",
   "version": "3.6.3"
  },
  "nav_menu": {},
  "toc": {
   "navigate_menu": true,
   "number_sections": true,
   "sideBar": true,
   "threshold": 6,
   "toc_cell": false,
   "toc_section_display": "block",
   "toc_window_display": true
  },
  "toc_position": {
   "height": "616px",
   "left": "0px",
   "right": "20px",
   "top": "106px",
   "width": "213px"
  }
 },
 "nbformat": 4,
 "nbformat_minor": 4
}
