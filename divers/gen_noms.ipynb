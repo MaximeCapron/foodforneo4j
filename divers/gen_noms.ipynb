{
 "cells": [
  {
   "cell_type": "markdown",
   "metadata": {},
   "source": [
    "Plan de la tâche - Stakeholders' map\n",
    "\n",
    "1. Création des types de données\n",
    "2. Création des tables csv\n",
    "3. Importation dans neo4j sous forme de noeuds-relations\n",
    "4. Design des requêtes\n",
    "5. Possibilité d'interroger la base via une API\n"
   ]
  },
  {
   "cell_type": "markdown",
   "metadata": {},
   "source": [
    "# Création de tables CSV\n",
    "\n",
    "## Design des noms"
   ]
  },
  {
   "cell_type": "code",
   "execution_count": 1,
   "metadata": {},
   "outputs": [],
   "source": [
    "from random import random\n",
    "import numpy as np\n",
    "import pandas as pd"
   ]
  },
  {
   "cell_type": "code",
   "execution_count": 2,
   "metadata": {},
   "outputs": [],
   "source": [
    "#noms de famille les plus courants en France entre 1891 et 1900\n",
    "nom = [\"Martin\", \"Bernard\", \"Thomas\", \"Petit\", \"Robert\", \"Richard\", \"Durand\", \"Dubois\", \"Moreau\", \"Laurent\", \"Simon\", \"Michel\", \"Lefèvre\", \"Leroy\", \"Roux\", \"David\", \"Bertrand\", \"Morel\", \"Fournier\", \"Girard\", \"Bonnet\", \"Dupont\", \"Lambert\", \"Fontaine\", \"Rousseau\", \"Vincent\", \"Muller\", \"Lefevre\", \"Faure\", \"Andre\", \"Mercier\", \"Blanc\", \"Guerin\", \"Boyer\", \"Garnier\", \"Chevalier\", \"Francois\", \"Legrand\", \"Gauthier\", \"Garcia\", \"Perrin\", \"Robin\", \"Clement\", \"Morin\", \"Nicolas\", \"Henry\", \"Roussel\", \"Mathieu\", \"Gautier\", \"Masson\", \"Marchand\", \"Duval\", \"Denis\", \"Dumont\", \"Marie\", \"Lemaire\", \"Noel\", \"Meyer\", \"Dufour\", \"Meunier\", \"Brun\", \"Blanchard\", \"Giraud\", \"Joly\", \"Riviere\", \"Lucas\", \"Brunet\", \"Gaillard\", \"Barbier\", \"Arnaud\", \"Martinez\", \"Gerard\", \"Roche\", \"Renard\", \"Schmitt\", \"Roy\", \"Leroux\", \"Colin\", \"Vidal\", \"Caron\", \"Picard\", \"Roger\", \"Fabre\", \"Aubert\", \"Lemoine\", \"Renaud\", \"Dumas\", \"Lacroix\", \"Olivier\", \"Philippe\", \"Bourgeois\", \"Pierre\", \"Benoit\", \"Rey\", \"Leclerc\", \"Payet\", \"Rolland\", \"Leclercq\", \"Guillaume\", \"Lecomte\"]\n",
    "\n",
    "#prénoms les plus donnés en France en 1900\n",
    "prénom = [\"Marie\",\"Jean\",\"Jeanne\",\"Louis\",\"Marguerite\",\"Pierre\",\"Joseph\",\"Germaine\",\"Henri\",\"Louise\",\"Marcel\",\"Georges\",\"André\",\"Yvonne\",\"Madeleine\",\"Suzanne\",\"Paul\",\"René\",\"Charles\",\"François\",\"Emile\",\"Maurice\",\"Marthe\",\"Marcelle\",\"Maria\",\"Anne\",\"Albert\",\"Eugène\",\"Joséphine\",\"Léon\",\"Eugénie\",\"Berthe\",\"Henriette\",\"Lucien\",\"Alice\",\"Hélène\",\"Lucie\",\"Jules\",\"Auguste\",\"Georgette\",\"Robert\",\"Lucienne\",\"Renée\",\"Juliette\",\"Fernand\",\"Gaston\",\"Raymond\",\"Antoine\",\"Roger\",\"Gabrielle\"]"
   ]
  },
  {
   "cell_type": "code",
   "execution_count": 3,
   "metadata": {},
   "outputs": [],
   "source": [
    "#nombre de gens à créer\n",
    "N = 100"
   ]
  },
  {
   "cell_type": "code",
   "execution_count": 4,
   "metadata": {},
   "outputs": [],
   "source": [
    "def gen_nom():\n",
    "    Prenom = prénom[int(random()*len(prénom))]\n",
    "    Nom = Prenom\n",
    "    while Prenom == Nom:\n",
    "        Nom = nom[int(random()*len(nom))]\n",
    "    return Prenom+' '+Nom"
   ]
  },
  {
   "cell_type": "code",
   "execution_count": 5,
   "metadata": {
    "scrolled": true
   },
   "outputs": [],
   "source": [
    "personne = []\n",
    "for i in range(N):\n",
    "    personne += [gen_nom()]"
   ]
  },
  {
   "cell_type": "code",
   "execution_count": 6,
   "metadata": {},
   "outputs": [
    {
     "data": {
      "text/html": [
       "<div>\n",
       "<style scoped>\n",
       "    .dataframe tbody tr th:only-of-type {\n",
       "        vertical-align: middle;\n",
       "    }\n",
       "\n",
       "    .dataframe tbody tr th {\n",
       "        vertical-align: top;\n",
       "    }\n",
       "\n",
       "    .dataframe thead th {\n",
       "        text-align: right;\n",
       "    }\n",
       "</style>\n",
       "<table border=\"1\" class=\"dataframe\">\n",
       "  <thead>\n",
       "    <tr style=\"text-align: right;\">\n",
       "      <th></th>\n",
       "      <th>Nom</th>\n",
       "    </tr>\n",
       "  </thead>\n",
       "  <tbody>\n",
       "    <tr>\n",
       "      <th>0</th>\n",
       "      <td>Germaine Lacroix</td>\n",
       "    </tr>\n",
       "    <tr>\n",
       "      <th>1</th>\n",
       "      <td>Renée Andre</td>\n",
       "    </tr>\n",
       "    <tr>\n",
       "      <th>2</th>\n",
       "      <td>Marcelle Faure</td>\n",
       "    </tr>\n",
       "    <tr>\n",
       "      <th>3</th>\n",
       "      <td>Jeanne Roche</td>\n",
       "    </tr>\n",
       "    <tr>\n",
       "      <th>4</th>\n",
       "      <td>Joséphine Blanc</td>\n",
       "    </tr>\n",
       "    <tr>\n",
       "      <th>...</th>\n",
       "      <td>...</td>\n",
       "    </tr>\n",
       "    <tr>\n",
       "      <th>95</th>\n",
       "      <td>Joséphine Olivier</td>\n",
       "    </tr>\n",
       "    <tr>\n",
       "      <th>96</th>\n",
       "      <td>André Leclerc</td>\n",
       "    </tr>\n",
       "    <tr>\n",
       "      <th>97</th>\n",
       "      <td>René Perrin</td>\n",
       "    </tr>\n",
       "    <tr>\n",
       "      <th>98</th>\n",
       "      <td>Yvonne Bourgeois</td>\n",
       "    </tr>\n",
       "    <tr>\n",
       "      <th>99</th>\n",
       "      <td>Georges Marchand</td>\n",
       "    </tr>\n",
       "  </tbody>\n",
       "</table>\n",
       "<p>100 rows × 1 columns</p>\n",
       "</div>"
      ],
      "text/plain": [
       "                  Nom\n",
       "0    Germaine Lacroix\n",
       "1         Renée Andre\n",
       "2      Marcelle Faure\n",
       "3        Jeanne Roche\n",
       "4     Joséphine Blanc\n",
       "..                ...\n",
       "95  Joséphine Olivier\n",
       "96      André Leclerc\n",
       "97        René Perrin\n",
       "98   Yvonne Bourgeois\n",
       "99   Georges Marchand\n",
       "\n",
       "[100 rows x 1 columns]"
      ]
     },
     "execution_count": 6,
     "metadata": {},
     "output_type": "execute_result"
    }
   ],
   "source": [
    "pd.DataFrame(personne,columns=[\"Nom\"])"
   ]
  },
  {
   "cell_type": "code",
   "execution_count": 7,
   "metadata": {},
   "outputs": [],
   "source": [
    "pd.DataFrame(personne,columns=[\"Nom\"]).to_excel(\"Humains.xlsx\")"
   ]
  },
  {
   "cell_type": "code",
   "execution_count": null,
   "metadata": {},
   "outputs": [],
   "source": []
  },
  {
   "cell_type": "code",
   "execution_count": null,
   "metadata": {},
   "outputs": [],
   "source": []
  },
  {
   "cell_type": "code",
   "execution_count": null,
   "metadata": {},
   "outputs": [],
   "source": []
  },
  {
   "cell_type": "code",
   "execution_count": null,
   "metadata": {},
   "outputs": [],
   "source": []
  },
  {
   "cell_type": "code",
   "execution_count": null,
   "metadata": {},
   "outputs": [],
   "source": []
  },
  {
   "cell_type": "code",
   "execution_count": null,
   "metadata": {},
   "outputs": [],
   "source": []
  },
  {
   "cell_type": "code",
   "execution_count": null,
   "metadata": {},
   "outputs": [],
   "source": []
  },
  {
   "cell_type": "code",
   "execution_count": null,
   "metadata": {},
   "outputs": [],
   "source": []
  },
  {
   "cell_type": "code",
   "execution_count": null,
   "metadata": {},
   "outputs": [],
   "source": []
  },
  {
   "cell_type": "code",
   "execution_count": null,
   "metadata": {},
   "outputs": [],
   "source": []
  },
  {
   "cell_type": "code",
   "execution_count": null,
   "metadata": {},
   "outputs": [],
   "source": []
  },
  {
   "cell_type": "code",
   "execution_count": null,
   "metadata": {},
   "outputs": [],
   "source": []
  },
  {
   "cell_type": "code",
   "execution_count": null,
   "metadata": {},
   "outputs": [],
   "source": []
  },
  {
   "cell_type": "code",
   "execution_count": null,
   "metadata": {},
   "outputs": [],
   "source": []
  },
  {
   "cell_type": "code",
   "execution_count": null,
   "metadata": {},
   "outputs": [],
   "source": []
  },
  {
   "cell_type": "code",
   "execution_count": null,
   "metadata": {},
   "outputs": [],
   "source": []
  },
  {
   "cell_type": "code",
   "execution_count": null,
   "metadata": {},
   "outputs": [],
   "source": []
  },
  {
   "cell_type": "code",
   "execution_count": null,
   "metadata": {},
   "outputs": [],
   "source": []
  },
  {
   "cell_type": "code",
   "execution_count": null,
   "metadata": {},
   "outputs": [],
   "source": []
  },
  {
   "cell_type": "code",
   "execution_count": null,
   "metadata": {},
   "outputs": [],
   "source": []
  }
 ],
 "metadata": {
  "kernelspec": {
   "display_name": "Python 3",
   "language": "python",
   "name": "python3"
  },
  "language_info": {
   "codemirror_mode": {
    "name": "ipython",
    "version": 3
   },
   "file_extension": ".py",
   "mimetype": "text/x-python",
   "name": "python",
   "nbconvert_exporter": "python",
   "pygments_lexer": "ipython3",
   "version": "3.8.3"
  },
  "nav_menu": {},
  "toc": {
   "navigate_menu": true,
   "number_sections": true,
   "sideBar": true,
   "threshold": 6,
   "toc_cell": false,
   "toc_section_display": "block",
   "toc_window_display": true
  },
  "toc_position": {
   "height": "616px",
   "left": "0px",
   "right": "20px",
   "top": "106px",
   "width": "213px"
  }
 },
 "nbformat": 4,
 "nbformat_minor": 4
}
