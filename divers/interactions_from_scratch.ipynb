{
 "cells": [
  {
   "cell_type": "markdown",
   "metadata": {},
   "source": [
    "Plan de la tâche - Stakeholders' map\n",
    "\n",
    "1. Création des types de données\n",
    "2. Création des tables csv\n",
    "3. Importation dans neo4j sous forme de noeuds-relations\n",
    "4. Design des requêtes\n",
    "5. Possibilité d'interroger la base via un notebook Jupyter\n"
   ]
  },
  {
   "cell_type": "markdown",
   "metadata": {},
   "source": [
    "Lien du github : https://github.com/MaximeCapron/foodforneo4j"
   ]
  },
  {
   "cell_type": "markdown",
   "metadata": {},
   "source": [
    "# 5. Possibilité d'interroger la base"
   ]
  },
  {
   "cell_type": "code",
   "execution_count": 1,
   "metadata": {},
   "outputs": [],
   "source": [
    "import numpy as np\n",
    "import pandas as pd\n",
    "from py2neo import Graph\n",
    "from py2neo.data import Node, Relationship"
   ]
  },
  {
   "cell_type": "code",
   "execution_count": 2,
   "metadata": {},
   "outputs": [],
   "source": [
    "graph = Graph(\"bolt://3.90.65.37:34875\", auth=(\"neo4j\", \"volumes-capes-retrievals\"))"
   ]
  },
  {
   "cell_type": "markdown",
   "metadata": {},
   "source": [
    "## Fonctions"
   ]
  },
  {
   "cell_type": "code",
   "execution_count": 5,
   "metadata": {},
   "outputs": [],
   "source": [
    "def clear():\n",
    "    # Commencer par supprimer tout ce qui préexiste pour avoir une feuille propre\n",
    "    try:\n",
    "        graph.run(\"MATCH (n) DETACH DELETE n\")\n",
    "    except:\n",
    "        pass"
   ]
  },
  {
   "cell_type": "code",
   "execution_count": 57,
   "metadata": {},
   "outputs": [],
   "source": [
    "def positions_projet(position=\"toutes\"):\n",
    "    if(position==\"toutes\"):\n",
    "        query = \"\"\"MATCH (p:Personne)-[rel:EMPLOYE_DANS]-(c:Entreprise)\n",
    "        WHERE exists(p.Position)\n",
    "        RETURN p.Nom AS nom, c.Titre AS entreprise, rel.position AS rôle, \n",
    "        p.Position AS position ORDER BY position\"\"\"\n",
    "    elif(position==1):\n",
    "        query = \"\"\"MATCH (p:Personne)-[rel:EMPLOYE_DANS]-(c:Entreprise)\n",
    "        WHERE p.Position = \"Avocat\"\n",
    "        RETURN p.Nom AS nom, c.Titre AS entreprise, rel.position AS rôle, \n",
    "        p.Position AS position ORDER BY rôle\"\"\"\n",
    "    elif(position==0):\n",
    "        query = \"\"\"MATCH (p:Personne)-[rel:EMPLOYE_DANS]-(c:Entreprise)\n",
    "        WHERE p.Position = \"Neutre\"\n",
    "        RETURN p.Nom AS nom, c.Titre AS entreprise, rel.position AS rôle, \n",
    "        p.Position AS position ORDER BY rôle\"\"\"\n",
    "    elif(position==-1):\n",
    "        query = \"\"\"MATCH (p:Personne)-[rel:EMPLOYE_DANS]-(c:Entreprise)\n",
    "        WHERE p.Position = \"A convaincre\"\n",
    "        RETURN p.Nom AS nom, c.Titre AS entreprise, rel.position AS rôle, \n",
    "        p.Position AS position ORDER BY rôle\"\"\"\n",
    "    else:\n",
    "        raise \"Position inconnue\"\n",
    "    return graph.run(query).to_data_frame()"
   ]
  },
  {
   "cell_type": "code",
   "execution_count": 8,
   "metadata": {},
   "outputs": [],
   "source": [
    "def distance_pos(A,B):\n",
    "    query = \"\"\"\n",
    "    MATCH (a:Personne)-[:EMPLOYE_DANS {position:'\"\"\"+A[0]+\"\"\"'}]-(:Entreprise {Titre:'\"\"\"+A[1]+\"\"\"'})\n",
    "    MATCH (b:Personne)-[:EMPLOYE_DANS {position:'\"\"\"+B[0]+\"\"\"'}]-(:Entreprise {Titre:'\"\"\"+B[1]+\"\"\"'})\n",
    "    MATCH p = shortestPath((a)-[*]-(b))\n",
    "    RETURN a.Nom,b.Nom,length(p) AS distance\"\"\"\n",
    "    return graph.run(query).to_data_frame()"
   ]
  },
  {
   "cell_type": "code",
   "execution_count": 48,
   "metadata": {},
   "outputs": [],
   "source": [
    "def distance_noms(nomA,nomB):\n",
    "    query = \"MATCH p = shortestPath((a:Personne {Nom:'\"+nomA+\"'})-[*]-(b:Personne {Nom:'\"+nomB+\"'})) RETURN a.Nom, b.Nom, length(p) AS distance\"\n",
    "    return graph.run(query).to_data_frame()"
   ]
  },
  {
   "cell_type": "code",
   "execution_count": 9,
   "metadata": {},
   "outputs": [],
   "source": [
    "def a_connaitre():\n",
    "    query = \"\"\"\n",
    "    MATCH (a:Entreprise)-[:EMPLOYE_DANS]-(p:Personne)\n",
    "    WHERE NOT a.Titre = \"OBS\"\n",
    "    WITH p\n",
    "    MATCH (c:Entreprise {Titre:\"OBS\"})\n",
    "    MATCH short=shortestpath((c)-[*]-(p))\n",
    "    WITH p,length(short) AS len\n",
    "    WHERE len > 2\n",
    "    RETURN p.Nom AS nom\n",
    "    \"\"\"\n",
    "    return graph.run(query).to_data_frame()"
   ]
  },
  {
   "cell_type": "code",
   "execution_count": 11,
   "metadata": {},
   "outputs": [],
   "source": [
    "connue = lambda x : not x in a_connaitre()[\"nom\"].values"
   ]
  },
  {
   "cell_type": "code",
   "execution_count": 81,
   "metadata": {},
   "outputs": [],
   "source": [
    "def bilan_de_situation(cas):\n",
    "    A = positions_projet()\n",
    "    A = A[A[\"entreprise\"]==cas]\n",
    "    A[\"connue\"] = A[\"nom\"].apply(connue)\n",
    "    return A.drop(\"entreprise\",axis=1)"
   ]
  },
  {
   "cell_type": "code",
   "execution_count": 84,
   "metadata": {},
   "outputs": [],
   "source": [
    "def alertes(cas):\n",
    "    a = bilan_de_situation(cas)\n",
    "    a = a[a[\"connue\"]==False]\n",
    "    a = a[a[\"position\"]==\"A convaincre\"]\n",
    "    return a[[\"nom\",\"rôle\"]]"
   ]
  },
  {
   "cell_type": "markdown",
   "metadata": {},
   "source": [
    "# Appels"
   ]
  },
  {
   "cell_type": "code",
   "execution_count": 42,
   "metadata": {
    "scrolled": true
   },
   "outputs": [],
   "source": [
    "clear()"
   ]
  },
  {
   "cell_type": "code",
   "execution_count": 43,
   "metadata": {},
   "outputs": [],
   "source": [
    "#Entreprises\n",
    "OBS = Node(\"Entreprise\",Titre=\"OBS\",index=11)\n",
    "EDF = Node(\"Entreprise\",Titre=\"EDF\",index=12)\n",
    "\n",
    "#Employés d'OBS\n",
    "Jeanne = Node(\"Personne\",Nom=\"Jeanne\",Position=\"\",index=1)\n",
    "Charles = Node(\"Personne\",Nom=\"Charles\",Position=\"\",index=2)\n",
    "François = Node(\"Personne\",Nom=\"François\",Position=\"\",index=3)\n",
    "\n",
    "#Employés d'EDF\n",
    "Eugénie = Node(\"Personne\",Nom=\"Eugénie\",Position=\"Avocat\",index=4)\n",
    "Marcel = Node(\"Personne\",Nom=\"Marcel\",Position=\"A convaincre\",index=5)\n",
    "Léon = Node(\"Personne\",Nom=\"Léon\",Position=\"Avocat\",index=6)\n",
    "Hélène = Node(\"Personne\",Nom=\"Helène\",Position=\"Avocat\",index=7)\n",
    "Henriette = Node(\"Personne\",Nom=\"Henriette\",Position=\"Neutre\",index=8)\n",
    "Jules = Node(\"Personne\",Nom=\"Jules\",Position=\"Avocat\",index=9)\n",
    "Pierre = Node(\"Personne\",Nom=\"Pierre\",Position=\"A convaincre\",index=10)"
   ]
  },
  {
   "cell_type": "code",
   "execution_count": 44,
   "metadata": {},
   "outputs": [],
   "source": [
    "for node in [OBS,EDF,Jeanne,Charles,François,Eugénie,Marcel,Léon,Hélène,Henriette,Jules,Pierre]:\n",
    "    graph.create(node)"
   ]
  },
  {
   "cell_type": "code",
   "execution_count": 45,
   "metadata": {},
   "outputs": [],
   "source": [
    "#Relation: EMPLOYE_DANS\n",
    "graph.create(Relationship(Jeanne,\"EMPLOYE_DANS\",OBS,position=\"Commercial\"))\n",
    "graph.create(Relationship(Charles,\"EMPLOYE_DANS\",OBS,position=\"CEO\"))\n",
    "graph.create(Relationship(François,\"EMPLOYE_DANS\",OBS,position=\"CFO\"))\n",
    "graph.create(Relationship(Eugénie,\"EMPLOYE_DANS\",EDF,position=\"Commercial\"))\n",
    "graph.create(Relationship(Marcel,\"EMPLOYE_DANS\",EDF,position=\"Commercial\"))\n",
    "graph.create(Relationship(Léon,\"EMPLOYE_DANS\",EDF,position=\"Technique\"))\n",
    "graph.create(Relationship(Hélène,\"EMPLOYE_DANS\",EDF,position=\"Technique\"))\n",
    "graph.create(Relationship(Henriette,\"EMPLOYE_DANS\",EDF,position=\"Marketing\"))\n",
    "graph.create(Relationship(Jules,\"EMPLOYE_DANS\",EDF,position=\"CEO\"))\n",
    "graph.create(Relationship(Pierre,\"EMPLOYE_DANS\",EDF,position=\"CFO\"))\n",
    "\n",
    "#Relation: CONNAISSANCE\n",
    "graph.create(Relationship(Jeanne,\"CONNAISSANCE\",Eugénie))\n",
    "graph.create(Relationship(Jeanne,\"CONNAISSANCE\",Marcel))\n",
    "graph.create(Relationship(Charles,\"CONNAISSANCE\",Henriette))\n",
    "graph.create(Relationship(Charles,\"CONNAISSANCE\",Léon))\n",
    "graph.create(Relationship(François,\"CONNAISSANCE\",Jules))"
   ]
  },
  {
   "cell_type": "code",
   "execution_count": 70,
   "metadata": {},
   "outputs": [
    {
     "data": {
      "text/html": [
       "<div>\n",
       "<style scoped>\n",
       "    .dataframe tbody tr th:only-of-type {\n",
       "        vertical-align: middle;\n",
       "    }\n",
       "\n",
       "    .dataframe tbody tr th {\n",
       "        vertical-align: top;\n",
       "    }\n",
       "\n",
       "    .dataframe thead th {\n",
       "        text-align: right;\n",
       "    }\n",
       "</style>\n",
       "<table border=\"1\" class=\"dataframe\">\n",
       "  <thead>\n",
       "    <tr style=\"text-align: right;\">\n",
       "      <th></th>\n",
       "      <th>nom</th>\n",
       "      <th>entreprise</th>\n",
       "      <th>rôle</th>\n",
       "      <th>position</th>\n",
       "    </tr>\n",
       "  </thead>\n",
       "  <tbody>\n",
       "    <tr>\n",
       "      <th>0</th>\n",
       "      <td>Jules</td>\n",
       "      <td>EDF</td>\n",
       "      <td>CEO</td>\n",
       "      <td>Avocat</td>\n",
       "    </tr>\n",
       "    <tr>\n",
       "      <th>1</th>\n",
       "      <td>Eugénie</td>\n",
       "      <td>EDF</td>\n",
       "      <td>Commercial</td>\n",
       "      <td>Avocat</td>\n",
       "    </tr>\n",
       "    <tr>\n",
       "      <th>2</th>\n",
       "      <td>Léon</td>\n",
       "      <td>EDF</td>\n",
       "      <td>Technique</td>\n",
       "      <td>Avocat</td>\n",
       "    </tr>\n",
       "    <tr>\n",
       "      <th>3</th>\n",
       "      <td>Helène</td>\n",
       "      <td>EDF</td>\n",
       "      <td>Technique</td>\n",
       "      <td>Avocat</td>\n",
       "    </tr>\n",
       "  </tbody>\n",
       "</table>\n",
       "</div>"
      ],
      "text/plain": [
       "       nom entreprise        rôle position\n",
       "0    Jules        EDF         CEO   Avocat\n",
       "1  Eugénie        EDF  Commercial   Avocat\n",
       "2     Léon        EDF   Technique   Avocat\n",
       "3   Helène        EDF   Technique   Avocat"
      ]
     },
     "execution_count": 70,
     "metadata": {},
     "output_type": "execute_result"
    }
   ],
   "source": [
    "positions_projet(1)"
   ]
  },
  {
   "cell_type": "code",
   "execution_count": 82,
   "metadata": {
    "scrolled": true
   },
   "outputs": [
    {
     "data": {
      "text/html": [
       "<div>\n",
       "<style scoped>\n",
       "    .dataframe tbody tr th:only-of-type {\n",
       "        vertical-align: middle;\n",
       "    }\n",
       "\n",
       "    .dataframe tbody tr th {\n",
       "        vertical-align: top;\n",
       "    }\n",
       "\n",
       "    .dataframe thead th {\n",
       "        text-align: right;\n",
       "    }\n",
       "</style>\n",
       "<table border=\"1\" class=\"dataframe\">\n",
       "  <thead>\n",
       "    <tr style=\"text-align: right;\">\n",
       "      <th></th>\n",
       "      <th>nom</th>\n",
       "      <th>rôle</th>\n",
       "      <th>position</th>\n",
       "      <th>connue</th>\n",
       "    </tr>\n",
       "  </thead>\n",
       "  <tbody>\n",
       "    <tr>\n",
       "      <th>3</th>\n",
       "      <td>Marcel</td>\n",
       "      <td>Commercial</td>\n",
       "      <td>A convaincre</td>\n",
       "      <td>True</td>\n",
       "    </tr>\n",
       "    <tr>\n",
       "      <th>4</th>\n",
       "      <td>Pierre</td>\n",
       "      <td>CFO</td>\n",
       "      <td>A convaincre</td>\n",
       "      <td>False</td>\n",
       "    </tr>\n",
       "    <tr>\n",
       "      <th>5</th>\n",
       "      <td>Eugénie</td>\n",
       "      <td>Commercial</td>\n",
       "      <td>Avocat</td>\n",
       "      <td>True</td>\n",
       "    </tr>\n",
       "    <tr>\n",
       "      <th>6</th>\n",
       "      <td>Léon</td>\n",
       "      <td>Technique</td>\n",
       "      <td>Avocat</td>\n",
       "      <td>True</td>\n",
       "    </tr>\n",
       "    <tr>\n",
       "      <th>7</th>\n",
       "      <td>Helène</td>\n",
       "      <td>Technique</td>\n",
       "      <td>Avocat</td>\n",
       "      <td>False</td>\n",
       "    </tr>\n",
       "    <tr>\n",
       "      <th>8</th>\n",
       "      <td>Jules</td>\n",
       "      <td>CEO</td>\n",
       "      <td>Avocat</td>\n",
       "      <td>True</td>\n",
       "    </tr>\n",
       "    <tr>\n",
       "      <th>9</th>\n",
       "      <td>Henriette</td>\n",
       "      <td>Marketing</td>\n",
       "      <td>Neutre</td>\n",
       "      <td>True</td>\n",
       "    </tr>\n",
       "  </tbody>\n",
       "</table>\n",
       "</div>"
      ],
      "text/plain": [
       "         nom        rôle      position  connue\n",
       "3     Marcel  Commercial  A convaincre    True\n",
       "4     Pierre         CFO  A convaincre   False\n",
       "5    Eugénie  Commercial        Avocat    True\n",
       "6       Léon   Technique        Avocat    True\n",
       "7     Helène   Technique        Avocat   False\n",
       "8      Jules         CEO        Avocat    True\n",
       "9  Henriette   Marketing        Neutre    True"
      ]
     },
     "execution_count": 82,
     "metadata": {},
     "output_type": "execute_result"
    }
   ],
   "source": [
    "bilan_de_situation(\"EDF\")"
   ]
  },
  {
   "cell_type": "code",
   "execution_count": 85,
   "metadata": {
    "scrolled": false
   },
   "outputs": [
    {
     "data": {
      "text/html": [
       "<div>\n",
       "<style scoped>\n",
       "    .dataframe tbody tr th:only-of-type {\n",
       "        vertical-align: middle;\n",
       "    }\n",
       "\n",
       "    .dataframe tbody tr th {\n",
       "        vertical-align: top;\n",
       "    }\n",
       "\n",
       "    .dataframe thead th {\n",
       "        text-align: right;\n",
       "    }\n",
       "</style>\n",
       "<table border=\"1\" class=\"dataframe\">\n",
       "  <thead>\n",
       "    <tr style=\"text-align: right;\">\n",
       "      <th></th>\n",
       "      <th>nom</th>\n",
       "      <th>rôle</th>\n",
       "    </tr>\n",
       "  </thead>\n",
       "  <tbody>\n",
       "    <tr>\n",
       "      <th>4</th>\n",
       "      <td>Pierre</td>\n",
       "      <td>CFO</td>\n",
       "    </tr>\n",
       "  </tbody>\n",
       "</table>\n",
       "</div>"
      ],
      "text/plain": [
       "      nom rôle\n",
       "4  Pierre  CFO"
      ]
     },
     "execution_count": 85,
     "metadata": {},
     "output_type": "execute_result"
    }
   ],
   "source": [
    "alertes(\"EDF\")"
   ]
  },
  {
   "cell_type": "code",
   "execution_count": 100,
   "metadata": {
    "scrolled": true
   },
   "outputs": [
    {
     "data": {
      "text/html": [
       "<div>\n",
       "<style scoped>\n",
       "    .dataframe tbody tr th:only-of-type {\n",
       "        vertical-align: middle;\n",
       "    }\n",
       "\n",
       "    .dataframe tbody tr th {\n",
       "        vertical-align: top;\n",
       "    }\n",
       "\n",
       "    .dataframe thead th {\n",
       "        text-align: right;\n",
       "    }\n",
       "</style>\n",
       "<table border=\"1\" class=\"dataframe\">\n",
       "  <thead>\n",
       "    <tr style=\"text-align: right;\">\n",
       "      <th></th>\n",
       "      <th>a.Nom</th>\n",
       "      <th>b.Nom</th>\n",
       "      <th>distance</th>\n",
       "    </tr>\n",
       "  </thead>\n",
       "  <tbody>\n",
       "    <tr>\n",
       "      <th>0</th>\n",
       "      <td>Pierre</td>\n",
       "      <td>Charles</td>\n",
       "      <td>3</td>\n",
       "    </tr>\n",
       "  </tbody>\n",
       "</table>\n",
       "</div>"
      ],
      "text/plain": [
       "    a.Nom    b.Nom  distance\n",
       "0  Pierre  Charles         3"
      ]
     },
     "execution_count": 100,
     "metadata": {},
     "output_type": "execute_result"
    }
   ],
   "source": [
    "Pierre_EDF = [\"CFO\",\"EDF\"]\n",
    "Charles_OBS = [\"CEO\",\"OBS\"]\n",
    "distance_pos(Pierre_EDF,Charles_OBS)"
   ]
  },
  {
   "cell_type": "code",
   "execution_count": null,
   "metadata": {},
   "outputs": [],
   "source": []
  }
 ],
 "metadata": {
  "kernelspec": {
   "display_name": "Python 3",
   "language": "python",
   "name": "python3"
  },
  "language_info": {
   "codemirror_mode": {
    "name": "ipython",
    "version": 3
   },
   "file_extension": ".py",
   "mimetype": "text/x-python",
   "name": "python",
   "nbconvert_exporter": "python",
   "pygments_lexer": "ipython3",
   "version": "3.8.3"
  },
  "nav_menu": {},
  "toc": {
   "navigate_menu": true,
   "number_sections": true,
   "sideBar": true,
   "threshold": 6,
   "toc_cell": false,
   "toc_section_display": "block",
   "toc_window_display": true
  },
  "toc_position": {
   "height": "616px",
   "left": "0px",
   "right": "20px",
   "top": "106px",
   "width": "213px"
  }
 },
 "nbformat": 4,
 "nbformat_minor": 4
}
